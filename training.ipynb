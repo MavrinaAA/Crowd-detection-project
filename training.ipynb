{
  "nbformat": 4,
  "nbformat_minor": 0,
  "metadata": {
    "colab": {
      "provenance": [],
      "gpuType": "T4"
    },
    "kernelspec": {
      "name": "python3",
      "display_name": "Python 3"
    },
    "language_info": {
      "name": "python"
    },
    "accelerator": "GPU"
  },
  "cells": [
    {
      "cell_type": "code",
      "source": [
        "!pip install roboflow ultralytics tqdm"
      ],
      "metadata": {
        "colab": {
          "base_uri": "https://localhost:8080/"
        },
        "id": "UqAoQ5BRUfG_",
        "outputId": "ff5a79e8-3bd0-4249-ed7b-84711da3da46",
        "collapsed": true
      },
      "execution_count": 15,
      "outputs": [
        {
          "output_type": "stream",
          "name": "stdout",
          "text": [
            "Requirement already satisfied: roboflow in /usr/local/lib/python3.11/dist-packages (1.1.66)\n",
            "Requirement already satisfied: ultralytics in /usr/local/lib/python3.11/dist-packages (8.3.159)\n",
            "Requirement already satisfied: tqdm in /usr/local/lib/python3.11/dist-packages (4.67.1)\n",
            "Requirement already satisfied: certifi in /usr/local/lib/python3.11/dist-packages (from roboflow) (2025.6.15)\n",
            "Requirement already satisfied: idna==3.7 in /usr/local/lib/python3.11/dist-packages (from roboflow) (3.7)\n",
            "Requirement already satisfied: cycler in /usr/local/lib/python3.11/dist-packages (from roboflow) (0.12.1)\n",
            "Requirement already satisfied: kiwisolver>=1.3.1 in /usr/local/lib/python3.11/dist-packages (from roboflow) (1.4.8)\n",
            "Requirement already satisfied: matplotlib in /usr/local/lib/python3.11/dist-packages (from roboflow) (3.10.0)\n",
            "Requirement already satisfied: numpy>=1.18.5 in /usr/local/lib/python3.11/dist-packages (from roboflow) (2.0.2)\n",
            "Requirement already satisfied: opencv-python-headless==4.10.0.84 in /usr/local/lib/python3.11/dist-packages (from roboflow) (4.10.0.84)\n",
            "Requirement already satisfied: Pillow>=7.1.2 in /usr/local/lib/python3.11/dist-packages (from roboflow) (11.2.1)\n",
            "Requirement already satisfied: pillow-heif>=0.18.0 in /usr/local/lib/python3.11/dist-packages (from roboflow) (0.22.0)\n",
            "Requirement already satisfied: python-dateutil in /usr/local/lib/python3.11/dist-packages (from roboflow) (2.9.0.post0)\n",
            "Requirement already satisfied: python-dotenv in /usr/local/lib/python3.11/dist-packages (from roboflow) (1.1.1)\n",
            "Requirement already satisfied: requests in /usr/local/lib/python3.11/dist-packages (from roboflow) (2.32.3)\n",
            "Requirement already satisfied: six in /usr/local/lib/python3.11/dist-packages (from roboflow) (1.17.0)\n",
            "Requirement already satisfied: urllib3>=1.26.6 in /usr/local/lib/python3.11/dist-packages (from roboflow) (2.4.0)\n",
            "Requirement already satisfied: PyYAML>=5.3.1 in /usr/local/lib/python3.11/dist-packages (from roboflow) (6.0.2)\n",
            "Requirement already satisfied: requests-toolbelt in /usr/local/lib/python3.11/dist-packages (from roboflow) (1.0.0)\n",
            "Requirement already satisfied: filetype in /usr/local/lib/python3.11/dist-packages (from roboflow) (1.2.0)\n",
            "Requirement already satisfied: opencv-python>=4.6.0 in /usr/local/lib/python3.11/dist-packages (from ultralytics) (4.11.0.86)\n",
            "Requirement already satisfied: scipy>=1.4.1 in /usr/local/lib/python3.11/dist-packages (from ultralytics) (1.15.3)\n",
            "Requirement already satisfied: torch>=1.8.0 in /usr/local/lib/python3.11/dist-packages (from ultralytics) (2.6.0+cu124)\n",
            "Requirement already satisfied: torchvision>=0.9.0 in /usr/local/lib/python3.11/dist-packages (from ultralytics) (0.21.0+cu124)\n",
            "Requirement already satisfied: psutil in /usr/local/lib/python3.11/dist-packages (from ultralytics) (5.9.5)\n",
            "Requirement already satisfied: py-cpuinfo in /usr/local/lib/python3.11/dist-packages (from ultralytics) (9.0.0)\n",
            "Requirement already satisfied: pandas>=1.1.4 in /usr/local/lib/python3.11/dist-packages (from ultralytics) (2.2.2)\n",
            "Requirement already satisfied: ultralytics-thop>=2.0.0 in /usr/local/lib/python3.11/dist-packages (from ultralytics) (2.0.14)\n",
            "Requirement already satisfied: contourpy>=1.0.1 in /usr/local/lib/python3.11/dist-packages (from matplotlib->roboflow) (1.3.2)\n",
            "Requirement already satisfied: fonttools>=4.22.0 in /usr/local/lib/python3.11/dist-packages (from matplotlib->roboflow) (4.58.4)\n",
            "Requirement already satisfied: packaging>=20.0 in /usr/local/lib/python3.11/dist-packages (from matplotlib->roboflow) (24.2)\n",
            "Requirement already satisfied: pyparsing>=2.3.1 in /usr/local/lib/python3.11/dist-packages (from matplotlib->roboflow) (3.2.3)\n",
            "Requirement already satisfied: pytz>=2020.1 in /usr/local/lib/python3.11/dist-packages (from pandas>=1.1.4->ultralytics) (2025.2)\n",
            "Requirement already satisfied: tzdata>=2022.7 in /usr/local/lib/python3.11/dist-packages (from pandas>=1.1.4->ultralytics) (2025.2)\n",
            "Requirement already satisfied: charset-normalizer<4,>=2 in /usr/local/lib/python3.11/dist-packages (from requests->roboflow) (3.4.2)\n",
            "Requirement already satisfied: filelock in /usr/local/lib/python3.11/dist-packages (from torch>=1.8.0->ultralytics) (3.18.0)\n",
            "Requirement already satisfied: typing-extensions>=4.10.0 in /usr/local/lib/python3.11/dist-packages (from torch>=1.8.0->ultralytics) (4.14.0)\n",
            "Requirement already satisfied: networkx in /usr/local/lib/python3.11/dist-packages (from torch>=1.8.0->ultralytics) (3.5)\n",
            "Requirement already satisfied: jinja2 in /usr/local/lib/python3.11/dist-packages (from torch>=1.8.0->ultralytics) (3.1.6)\n",
            "Requirement already satisfied: fsspec in /usr/local/lib/python3.11/dist-packages (from torch>=1.8.0->ultralytics) (2025.3.2)\n",
            "Requirement already satisfied: nvidia-cuda-nvrtc-cu12==12.4.127 in /usr/local/lib/python3.11/dist-packages (from torch>=1.8.0->ultralytics) (12.4.127)\n",
            "Requirement already satisfied: nvidia-cuda-runtime-cu12==12.4.127 in /usr/local/lib/python3.11/dist-packages (from torch>=1.8.0->ultralytics) (12.4.127)\n",
            "Requirement already satisfied: nvidia-cuda-cupti-cu12==12.4.127 in /usr/local/lib/python3.11/dist-packages (from torch>=1.8.0->ultralytics) (12.4.127)\n",
            "Requirement already satisfied: nvidia-cudnn-cu12==9.1.0.70 in /usr/local/lib/python3.11/dist-packages (from torch>=1.8.0->ultralytics) (9.1.0.70)\n",
            "Requirement already satisfied: nvidia-cublas-cu12==12.4.5.8 in /usr/local/lib/python3.11/dist-packages (from torch>=1.8.0->ultralytics) (12.4.5.8)\n",
            "Requirement already satisfied: nvidia-cufft-cu12==11.2.1.3 in /usr/local/lib/python3.11/dist-packages (from torch>=1.8.0->ultralytics) (11.2.1.3)\n",
            "Requirement already satisfied: nvidia-curand-cu12==10.3.5.147 in /usr/local/lib/python3.11/dist-packages (from torch>=1.8.0->ultralytics) (10.3.5.147)\n",
            "Requirement already satisfied: nvidia-cusolver-cu12==11.6.1.9 in /usr/local/lib/python3.11/dist-packages (from torch>=1.8.0->ultralytics) (11.6.1.9)\n",
            "Requirement already satisfied: nvidia-cusparse-cu12==12.3.1.170 in /usr/local/lib/python3.11/dist-packages (from torch>=1.8.0->ultralytics) (12.3.1.170)\n",
            "Requirement already satisfied: nvidia-cusparselt-cu12==0.6.2 in /usr/local/lib/python3.11/dist-packages (from torch>=1.8.0->ultralytics) (0.6.2)\n",
            "Requirement already satisfied: nvidia-nccl-cu12==2.21.5 in /usr/local/lib/python3.11/dist-packages (from torch>=1.8.0->ultralytics) (2.21.5)\n",
            "Requirement already satisfied: nvidia-nvtx-cu12==12.4.127 in /usr/local/lib/python3.11/dist-packages (from torch>=1.8.0->ultralytics) (12.4.127)\n",
            "Requirement already satisfied: nvidia-nvjitlink-cu12==12.4.127 in /usr/local/lib/python3.11/dist-packages (from torch>=1.8.0->ultralytics) (12.4.127)\n",
            "Requirement already satisfied: triton==3.2.0 in /usr/local/lib/python3.11/dist-packages (from torch>=1.8.0->ultralytics) (3.2.0)\n",
            "Requirement already satisfied: sympy==1.13.1 in /usr/local/lib/python3.11/dist-packages (from torch>=1.8.0->ultralytics) (1.13.1)\n",
            "Requirement already satisfied: mpmath<1.4,>=1.1.0 in /usr/local/lib/python3.11/dist-packages (from sympy==1.13.1->torch>=1.8.0->ultralytics) (1.3.0)\n",
            "Requirement already satisfied: MarkupSafe>=2.0 in /usr/local/lib/python3.11/dist-packages (from jinja2->torch>=1.8.0->ultralytics) (3.0.2)\n"
          ]
        }
      ]
    },
    {
      "cell_type": "code",
      "source": [
        "from roboflow import Roboflow\n",
        "import cv2\n",
        "import os\n",
        "from ultralytics import YOLO\n",
        "from tqdm import tqdm"
      ],
      "metadata": {
        "id": "iyffqIhXUc4R"
      },
      "execution_count": 16,
      "outputs": []
    },
    {
      "cell_type": "code",
      "source": [
        "from google.colab import drive\n",
        "drive.mount('/content/drive')"
      ],
      "metadata": {
        "colab": {
          "base_uri": "https://localhost:8080/"
        },
        "id": "Dp4jjdQyXtdP",
        "outputId": "1530ee16-e180-47ba-b505-75a3570ad90e"
      },
      "execution_count": 5,
      "outputs": [
        {
          "output_type": "stream",
          "name": "stdout",
          "text": [
            "Mounted at /content/drive\n"
          ]
        }
      ]
    },
    {
      "cell_type": "code",
      "execution_count": 3,
      "metadata": {
        "colab": {
          "base_uri": "https://localhost:8080/",
          "height": 73
        },
        "id": "6SarHtQgEb1O",
        "outputId": "b57686dd-4bed-48b4-8af5-f759a44fac42"
      },
      "outputs": [
        {
          "output_type": "display_data",
          "data": {
            "text/plain": [
              "<IPython.core.display.HTML object>"
            ],
            "text/html": [
              "\n",
              "     <input type=\"file\" id=\"files-8f0d67de-934a-48f0-b60f-b1e9caed66bf\" name=\"files[]\" multiple disabled\n",
              "        style=\"border:none\" />\n",
              "     <output id=\"result-8f0d67de-934a-48f0-b60f-b1e9caed66bf\">\n",
              "      Upload widget is only available when the cell has been executed in the\n",
              "      current browser session. Please rerun this cell to enable.\n",
              "      </output>\n",
              "      <script>// Copyright 2017 Google LLC\n",
              "//\n",
              "// Licensed under the Apache License, Version 2.0 (the \"License\");\n",
              "// you may not use this file except in compliance with the License.\n",
              "// You may obtain a copy of the License at\n",
              "//\n",
              "//      http://www.apache.org/licenses/LICENSE-2.0\n",
              "//\n",
              "// Unless required by applicable law or agreed to in writing, software\n",
              "// distributed under the License is distributed on an \"AS IS\" BASIS,\n",
              "// WITHOUT WARRANTIES OR CONDITIONS OF ANY KIND, either express or implied.\n",
              "// See the License for the specific language governing permissions and\n",
              "// limitations under the License.\n",
              "\n",
              "/**\n",
              " * @fileoverview Helpers for google.colab Python module.\n",
              " */\n",
              "(function(scope) {\n",
              "function span(text, styleAttributes = {}) {\n",
              "  const element = document.createElement('span');\n",
              "  element.textContent = text;\n",
              "  for (const key of Object.keys(styleAttributes)) {\n",
              "    element.style[key] = styleAttributes[key];\n",
              "  }\n",
              "  return element;\n",
              "}\n",
              "\n",
              "// Max number of bytes which will be uploaded at a time.\n",
              "const MAX_PAYLOAD_SIZE = 100 * 1024;\n",
              "\n",
              "function _uploadFiles(inputId, outputId) {\n",
              "  const steps = uploadFilesStep(inputId, outputId);\n",
              "  const outputElement = document.getElementById(outputId);\n",
              "  // Cache steps on the outputElement to make it available for the next call\n",
              "  // to uploadFilesContinue from Python.\n",
              "  outputElement.steps = steps;\n",
              "\n",
              "  return _uploadFilesContinue(outputId);\n",
              "}\n",
              "\n",
              "// This is roughly an async generator (not supported in the browser yet),\n",
              "// where there are multiple asynchronous steps and the Python side is going\n",
              "// to poll for completion of each step.\n",
              "// This uses a Promise to block the python side on completion of each step,\n",
              "// then passes the result of the previous step as the input to the next step.\n",
              "function _uploadFilesContinue(outputId) {\n",
              "  const outputElement = document.getElementById(outputId);\n",
              "  const steps = outputElement.steps;\n",
              "\n",
              "  const next = steps.next(outputElement.lastPromiseValue);\n",
              "  return Promise.resolve(next.value.promise).then((value) => {\n",
              "    // Cache the last promise value to make it available to the next\n",
              "    // step of the generator.\n",
              "    outputElement.lastPromiseValue = value;\n",
              "    return next.value.response;\n",
              "  });\n",
              "}\n",
              "\n",
              "/**\n",
              " * Generator function which is called between each async step of the upload\n",
              " * process.\n",
              " * @param {string} inputId Element ID of the input file picker element.\n",
              " * @param {string} outputId Element ID of the output display.\n",
              " * @return {!Iterable<!Object>} Iterable of next steps.\n",
              " */\n",
              "function* uploadFilesStep(inputId, outputId) {\n",
              "  const inputElement = document.getElementById(inputId);\n",
              "  inputElement.disabled = false;\n",
              "\n",
              "  const outputElement = document.getElementById(outputId);\n",
              "  outputElement.innerHTML = '';\n",
              "\n",
              "  const pickedPromise = new Promise((resolve) => {\n",
              "    inputElement.addEventListener('change', (e) => {\n",
              "      resolve(e.target.files);\n",
              "    });\n",
              "  });\n",
              "\n",
              "  const cancel = document.createElement('button');\n",
              "  inputElement.parentElement.appendChild(cancel);\n",
              "  cancel.textContent = 'Cancel upload';\n",
              "  const cancelPromise = new Promise((resolve) => {\n",
              "    cancel.onclick = () => {\n",
              "      resolve(null);\n",
              "    };\n",
              "  });\n",
              "\n",
              "  // Wait for the user to pick the files.\n",
              "  const files = yield {\n",
              "    promise: Promise.race([pickedPromise, cancelPromise]),\n",
              "    response: {\n",
              "      action: 'starting',\n",
              "    }\n",
              "  };\n",
              "\n",
              "  cancel.remove();\n",
              "\n",
              "  // Disable the input element since further picks are not allowed.\n",
              "  inputElement.disabled = true;\n",
              "\n",
              "  if (!files) {\n",
              "    return {\n",
              "      response: {\n",
              "        action: 'complete',\n",
              "      }\n",
              "    };\n",
              "  }\n",
              "\n",
              "  for (const file of files) {\n",
              "    const li = document.createElement('li');\n",
              "    li.append(span(file.name, {fontWeight: 'bold'}));\n",
              "    li.append(span(\n",
              "        `(${file.type || 'n/a'}) - ${file.size} bytes, ` +\n",
              "        `last modified: ${\n",
              "            file.lastModifiedDate ? file.lastModifiedDate.toLocaleDateString() :\n",
              "                                    'n/a'} - `));\n",
              "    const percent = span('0% done');\n",
              "    li.appendChild(percent);\n",
              "\n",
              "    outputElement.appendChild(li);\n",
              "\n",
              "    const fileDataPromise = new Promise((resolve) => {\n",
              "      const reader = new FileReader();\n",
              "      reader.onload = (e) => {\n",
              "        resolve(e.target.result);\n",
              "      };\n",
              "      reader.readAsArrayBuffer(file);\n",
              "    });\n",
              "    // Wait for the data to be ready.\n",
              "    let fileData = yield {\n",
              "      promise: fileDataPromise,\n",
              "      response: {\n",
              "        action: 'continue',\n",
              "      }\n",
              "    };\n",
              "\n",
              "    // Use a chunked sending to avoid message size limits. See b/62115660.\n",
              "    let position = 0;\n",
              "    do {\n",
              "      const length = Math.min(fileData.byteLength - position, MAX_PAYLOAD_SIZE);\n",
              "      const chunk = new Uint8Array(fileData, position, length);\n",
              "      position += length;\n",
              "\n",
              "      const base64 = btoa(String.fromCharCode.apply(null, chunk));\n",
              "      yield {\n",
              "        response: {\n",
              "          action: 'append',\n",
              "          file: file.name,\n",
              "          data: base64,\n",
              "        },\n",
              "      };\n",
              "\n",
              "      let percentDone = fileData.byteLength === 0 ?\n",
              "          100 :\n",
              "          Math.round((position / fileData.byteLength) * 100);\n",
              "      percent.textContent = `${percentDone}% done`;\n",
              "\n",
              "    } while (position < fileData.byteLength);\n",
              "  }\n",
              "\n",
              "  // All done.\n",
              "  yield {\n",
              "    response: {\n",
              "      action: 'complete',\n",
              "    }\n",
              "  };\n",
              "}\n",
              "\n",
              "scope.google = scope.google || {};\n",
              "scope.google.colab = scope.google.colab || {};\n",
              "scope.google.colab._files = {\n",
              "  _uploadFiles,\n",
              "  _uploadFilesContinue,\n",
              "};\n",
              "})(self);\n",
              "</script> "
            ]
          },
          "metadata": {}
        },
        {
          "output_type": "stream",
          "name": "stdout",
          "text": [
            "Saving crowd.mp4 to crowd.mp4\n"
          ]
        }
      ],
      "source": [
        "from google.colab import files\n",
        "uploaded = files.upload()"
      ]
    },
    {
      "cell_type": "code",
      "source": [
        "os.makedirs('frames', exist_ok=True)\n",
        "\n",
        "# Чтение видео\n",
        "video_path = 'crowd.mp4'\n",
        "cap = cv2.VideoCapture(video_path)\n",
        "\n",
        "frame_rate = 10\n",
        "frame_id = 0\n",
        "saved_id = 0\n",
        "\n",
        "while True:\n",
        "    success, frame = cap.read()\n",
        "    if not success:\n",
        "        break\n",
        "\n",
        "    if frame_id % frame_rate == 0:\n",
        "        filename = f\"frames/frame_{saved_id:03d}.jpg\"\n",
        "        cv2.imwrite(filename, frame)\n",
        "        saved_id += 1\n",
        "\n",
        "    frame_id += 1\n",
        "\n",
        "cap.release()\n",
        "print(f\"Извлечено {saved_id} кадров в папку /frames\")"
      ],
      "metadata": {
        "colab": {
          "base_uri": "https://localhost:8080/"
        },
        "id": "-2HlRr5BRHiV",
        "outputId": "4c0c761b-65d1-47e9-877a-f76c56a0b0b9"
      },
      "execution_count": 4,
      "outputs": [
        {
          "output_type": "stream",
          "name": "stdout",
          "text": [
            "Извлечено 71 кадров в папку /frames\n"
          ]
        }
      ]
    },
    {
      "cell_type": "code",
      "source": [
        "rf = Roboflow(api_key=\"Bo6emED703twIQ1sBP5W\")\n",
        "project = rf.workspace(\"shou-eejwn\").project(\"person-detection-oahvf\")\n",
        "version = project.version(6)\n",
        "dataset = version.download(\"yolov8\")"
      ],
      "metadata": {
        "colab": {
          "base_uri": "https://localhost:8080/"
        },
        "id": "IozQgBLLUQH4",
        "outputId": "5c34b4bf-a8f8-4e60-a4c4-32eb9b1dff1b"
      },
      "execution_count": null,
      "outputs": [
        {
          "output_type": "stream",
          "name": "stdout",
          "text": [
            "loading Roboflow workspace...\n",
            "loading Roboflow project...\n"
          ]
        },
        {
          "output_type": "stream",
          "name": "stderr",
          "text": [
            "Downloading Dataset Version Zip in person-detection-6 to yolov8:: 100%|██████████| 152099/152099 [00:09<00:00, 15828.16it/s]"
          ]
        },
        {
          "output_type": "stream",
          "name": "stdout",
          "text": [
            "\n"
          ]
        },
        {
          "output_type": "stream",
          "name": "stderr",
          "text": [
            "\n",
            "Extracting Dataset Version Zip to person-detection-6 in yolov8:: 100%|██████████| 5156/5156 [00:00<00:00, 6002.40it/s]\n"
          ]
        }
      ]
    },
    {
      "cell_type": "code",
      "source": [
        "model = YOLO(\"yolov8n.pt\")\n",
        "\n",
        "model.train(\n",
        "    data=\"person-detection-6/data.yaml\",\n",
        "    epochs=30,\n",
        "    imgsz=640,\n",
        "    batch=16,\n",
        "    patience=10,\n",
        ")"
      ],
      "metadata": {
        "colab": {
          "base_uri": "https://localhost:8080/"
        },
        "id": "C5F-6EN0WxTr",
        "outputId": "63b41afc-5e9d-4fbc-f1e6-2bab0cfdb50a",
        "collapsed": true
      },
      "execution_count": null,
      "outputs": [
        {
          "output_type": "stream",
          "name": "stdout",
          "text": [
            "Ultralytics 8.3.159 🚀 Python-3.11.13 torch-2.6.0+cu124 CUDA:0 (Tesla T4, 15095MiB)\n",
            "\u001b[34m\u001b[1mengine/trainer: \u001b[0magnostic_nms=False, amp=True, augment=False, auto_augment=randaugment, batch=16, bgr=0.0, box=7.5, cache=False, cfg=None, classes=None, close_mosaic=10, cls=0.5, conf=None, copy_paste=0.0, copy_paste_mode=flip, cos_lr=False, cutmix=0.0, data=person-detection-6/data.yaml, degrees=0.0, deterministic=True, device=None, dfl=1.5, dnn=False, dropout=0.0, dynamic=False, embed=None, epochs=30, erasing=0.4, exist_ok=False, fliplr=0.5, flipud=0.0, format=torchscript, fraction=1.0, freeze=None, half=False, hsv_h=0.015, hsv_s=0.7, hsv_v=0.4, imgsz=640, int8=False, iou=0.7, keras=False, kobj=1.0, line_width=None, lr0=0.01, lrf=0.01, mask_ratio=4, max_det=300, mixup=0.0, mode=train, model=yolov8n.pt, momentum=0.937, mosaic=1.0, multi_scale=False, name=train2, nbs=64, nms=False, opset=None, optimize=False, optimizer=auto, overlap_mask=True, patience=10, perspective=0.0, plots=True, pose=12.0, pretrained=True, profile=False, project=None, rect=False, resume=False, retina_masks=False, save=True, save_conf=False, save_crop=False, save_dir=runs/detect/train2, save_frames=False, save_json=False, save_period=-1, save_txt=False, scale=0.5, seed=0, shear=0.0, show=False, show_boxes=True, show_conf=True, show_labels=True, simplify=True, single_cls=False, source=None, split=val, stream_buffer=False, task=detect, time=None, tracker=botsort.yaml, translate=0.1, val=True, verbose=True, vid_stride=1, visualize=False, warmup_bias_lr=0.1, warmup_epochs=3.0, warmup_momentum=0.8, weight_decay=0.0005, workers=8, workspace=None\n",
            "Overriding model.yaml nc=80 with nc=1\n",
            "\n",
            "                   from  n    params  module                                       arguments                     \n",
            "  0                  -1  1       464  ultralytics.nn.modules.conv.Conv             [3, 16, 3, 2]                 \n",
            "  1                  -1  1      4672  ultralytics.nn.modules.conv.Conv             [16, 32, 3, 2]                \n",
            "  2                  -1  1      7360  ultralytics.nn.modules.block.C2f             [32, 32, 1, True]             \n",
            "  3                  -1  1     18560  ultralytics.nn.modules.conv.Conv             [32, 64, 3, 2]                \n",
            "  4                  -1  2     49664  ultralytics.nn.modules.block.C2f             [64, 64, 2, True]             \n",
            "  5                  -1  1     73984  ultralytics.nn.modules.conv.Conv             [64, 128, 3, 2]               \n",
            "  6                  -1  2    197632  ultralytics.nn.modules.block.C2f             [128, 128, 2, True]           \n",
            "  7                  -1  1    295424  ultralytics.nn.modules.conv.Conv             [128, 256, 3, 2]              \n",
            "  8                  -1  1    460288  ultralytics.nn.modules.block.C2f             [256, 256, 1, True]           \n",
            "  9                  -1  1    164608  ultralytics.nn.modules.block.SPPF            [256, 256, 5]                 \n",
            " 10                  -1  1         0  torch.nn.modules.upsampling.Upsample         [None, 2, 'nearest']          \n",
            " 11             [-1, 6]  1         0  ultralytics.nn.modules.conv.Concat           [1]                           \n",
            " 12                  -1  1    148224  ultralytics.nn.modules.block.C2f             [384, 128, 1]                 \n",
            " 13                  -1  1         0  torch.nn.modules.upsampling.Upsample         [None, 2, 'nearest']          \n",
            " 14             [-1, 4]  1         0  ultralytics.nn.modules.conv.Concat           [1]                           \n",
            " 15                  -1  1     37248  ultralytics.nn.modules.block.C2f             [192, 64, 1]                  \n",
            " 16                  -1  1     36992  ultralytics.nn.modules.conv.Conv             [64, 64, 3, 2]                \n",
            " 17            [-1, 12]  1         0  ultralytics.nn.modules.conv.Concat           [1]                           \n",
            " 18                  -1  1    123648  ultralytics.nn.modules.block.C2f             [192, 128, 1]                 \n",
            " 19                  -1  1    147712  ultralytics.nn.modules.conv.Conv             [128, 128, 3, 2]              \n",
            " 20             [-1, 9]  1         0  ultralytics.nn.modules.conv.Concat           [1]                           \n",
            " 21                  -1  1    493056  ultralytics.nn.modules.block.C2f             [384, 256, 1]                 \n",
            " 22        [15, 18, 21]  1    751507  ultralytics.nn.modules.head.Detect           [1, [64, 128, 256]]           \n",
            "Model summary: 129 layers, 3,011,043 parameters, 3,011,027 gradients, 8.2 GFLOPs\n",
            "\n",
            "Transferred 319/355 items from pretrained weights\n",
            "Freezing layer 'model.22.dfl.conv.weight'\n",
            "\u001b[34m\u001b[1mAMP: \u001b[0mrunning Automatic Mixed Precision (AMP) checks...\n",
            "\u001b[34m\u001b[1mAMP: \u001b[0mchecks passed ✅\n",
            "\u001b[34m\u001b[1mtrain: \u001b[0mFast image access ✅ (ping: 0.0±0.0 ms, read: 1288.1±466.8 MB/s, size: 68.2 KB)\n"
          ]
        },
        {
          "output_type": "stream",
          "name": "stderr",
          "text": [
            "\u001b[34m\u001b[1mtrain: \u001b[0mScanning /content/person-detection-6/train/labels.cache... 2388 images, 144 backgrounds, 0 corrupt: 100%|██████████| 2388/2388 [00:00<?, ?it/s]\n"
          ]
        },
        {
          "output_type": "stream",
          "name": "stdout",
          "text": [
            "\u001b[34m\u001b[1malbumentations: \u001b[0mBlur(p=0.01, blur_limit=(3, 7)), MedianBlur(p=0.01, blur_limit=(3, 7)), ToGray(p=0.01, method='weighted_average', num_output_channels=3), CLAHE(p=0.01, clip_limit=(1.0, 4.0), tile_grid_size=(8, 8))\n",
            "\u001b[34m\u001b[1mval: \u001b[0mFast image access ✅ (ping: 0.0±0.0 ms, read: 318.7±68.2 MB/s, size: 37.4 KB)\n"
          ]
        },
        {
          "output_type": "stream",
          "name": "stderr",
          "text": [
            "\u001b[34m\u001b[1mval: \u001b[0mScanning /content/person-detection-6/valid/labels.cache... 119 images, 13 backgrounds, 0 corrupt: 100%|██████████| 119/119 [00:00<?, ?it/s]\n"
          ]
        },
        {
          "output_type": "stream",
          "name": "stdout",
          "text": [
            "Plotting labels to runs/detect/train2/labels.jpg... \n",
            "\u001b[34m\u001b[1moptimizer:\u001b[0m 'optimizer=auto' found, ignoring 'lr0=0.01' and 'momentum=0.937' and determining best 'optimizer', 'lr0' and 'momentum' automatically... \n",
            "\u001b[34m\u001b[1moptimizer:\u001b[0m AdamW(lr=0.002, momentum=0.9) with parameter groups 57 weight(decay=0.0), 64 weight(decay=0.0005), 63 bias(decay=0.0)\n",
            "Image sizes 640 train, 640 val\n",
            "Using 2 dataloader workers\n",
            "Logging results to \u001b[1mruns/detect/train2\u001b[0m\n",
            "Starting training for 30 epochs...\n",
            "\n",
            "      Epoch    GPU_mem   box_loss   cls_loss   dfl_loss  Instances       Size\n"
          ]
        },
        {
          "output_type": "stream",
          "name": "stderr",
          "text": [
            "       1/30      4.13G      1.646      1.684       1.54         30        640: 100%|██████████| 150/150 [00:43<00:00,  3.45it/s]\n",
            "                 Class     Images  Instances      Box(P          R      mAP50  mAP50-95): 100%|██████████| 4/4 [00:02<00:00,  1.63it/s]"
          ]
        },
        {
          "output_type": "stream",
          "name": "stdout",
          "text": [
            "                   all        119        826       0.65      0.423      0.505      0.239\n"
          ]
        },
        {
          "output_type": "stream",
          "name": "stderr",
          "text": [
            "\n"
          ]
        },
        {
          "output_type": "stream",
          "name": "stdout",
          "text": [
            "\n",
            "      Epoch    GPU_mem   box_loss   cls_loss   dfl_loss  Instances       Size\n"
          ]
        },
        {
          "output_type": "stream",
          "name": "stderr",
          "text": [
            "       2/30      4.14G      1.611      1.463      1.542         31        640: 100%|██████████| 150/150 [00:41<00:00,  3.65it/s]\n",
            "                 Class     Images  Instances      Box(P          R      mAP50  mAP50-95): 100%|██████████| 4/4 [00:01<00:00,  3.32it/s]"
          ]
        },
        {
          "output_type": "stream",
          "name": "stdout",
          "text": [
            "                   all        119        826      0.693      0.585      0.614      0.318\n"
          ]
        },
        {
          "output_type": "stream",
          "name": "stderr",
          "text": [
            "\n"
          ]
        },
        {
          "output_type": "stream",
          "name": "stdout",
          "text": [
            "\n",
            "      Epoch    GPU_mem   box_loss   cls_loss   dfl_loss  Instances       Size\n"
          ]
        },
        {
          "output_type": "stream",
          "name": "stderr",
          "text": [
            "       3/30      4.56G      1.628      1.466      1.564         42        640: 100%|██████████| 150/150 [00:40<00:00,  3.72it/s]\n",
            "                 Class     Images  Instances      Box(P          R      mAP50  mAP50-95): 100%|██████████| 4/4 [00:01<00:00,  3.71it/s]"
          ]
        },
        {
          "output_type": "stream",
          "name": "stdout",
          "text": [
            "                   all        119        826      0.645       0.63      0.691      0.367\n"
          ]
        },
        {
          "output_type": "stream",
          "name": "stderr",
          "text": [
            "\n"
          ]
        },
        {
          "output_type": "stream",
          "name": "stdout",
          "text": [
            "\n",
            "      Epoch    GPU_mem   box_loss   cls_loss   dfl_loss  Instances       Size\n"
          ]
        },
        {
          "output_type": "stream",
          "name": "stderr",
          "text": [
            "       4/30      4.79G      1.584      1.393      1.542         41        640: 100%|██████████| 150/150 [00:39<00:00,  3.80it/s]\n",
            "                 Class     Images  Instances      Box(P          R      mAP50  mAP50-95): 100%|██████████| 4/4 [00:01<00:00,  3.40it/s]"
          ]
        },
        {
          "output_type": "stream",
          "name": "stdout",
          "text": [
            "                   all        119        826      0.726      0.615      0.719      0.389\n"
          ]
        },
        {
          "output_type": "stream",
          "name": "stderr",
          "text": [
            "\n"
          ]
        },
        {
          "output_type": "stream",
          "name": "stdout",
          "text": [
            "\n",
            "      Epoch    GPU_mem   box_loss   cls_loss   dfl_loss  Instances       Size\n"
          ]
        },
        {
          "output_type": "stream",
          "name": "stderr",
          "text": [
            "       5/30      5.03G      1.555      1.323      1.502         42        640: 100%|██████████| 150/150 [00:40<00:00,  3.73it/s]\n",
            "                 Class     Images  Instances      Box(P          R      mAP50  mAP50-95): 100%|██████████| 4/4 [00:01<00:00,  3.40it/s]"
          ]
        },
        {
          "output_type": "stream",
          "name": "stdout",
          "text": [
            "                   all        119        826      0.684      0.599      0.664      0.368\n"
          ]
        },
        {
          "output_type": "stream",
          "name": "stderr",
          "text": [
            "\n"
          ]
        },
        {
          "output_type": "stream",
          "name": "stdout",
          "text": [
            "\n",
            "      Epoch    GPU_mem   box_loss   cls_loss   dfl_loss  Instances       Size\n"
          ]
        },
        {
          "output_type": "stream",
          "name": "stderr",
          "text": [
            "       6/30      5.29G      1.516      1.289      1.482         63        640: 100%|██████████| 150/150 [00:40<00:00,  3.71it/s]\n",
            "                 Class     Images  Instances      Box(P          R      mAP50  mAP50-95): 100%|██████████| 4/4 [00:01<00:00,  2.78it/s]"
          ]
        },
        {
          "output_type": "stream",
          "name": "stdout",
          "text": [
            "                   all        119        826      0.732      0.598      0.715      0.366\n"
          ]
        },
        {
          "output_type": "stream",
          "name": "stderr",
          "text": [
            "\n"
          ]
        },
        {
          "output_type": "stream",
          "name": "stdout",
          "text": [
            "\n",
            "      Epoch    GPU_mem   box_loss   cls_loss   dfl_loss  Instances       Size\n"
          ]
        },
        {
          "output_type": "stream",
          "name": "stderr",
          "text": [
            "       7/30      5.29G      1.485      1.221      1.457         19        640: 100%|██████████| 150/150 [00:39<00:00,  3.79it/s]\n",
            "                 Class     Images  Instances      Box(P          R      mAP50  mAP50-95): 100%|██████████| 4/4 [00:01<00:00,  3.40it/s]"
          ]
        },
        {
          "output_type": "stream",
          "name": "stdout",
          "text": [
            "                   all        119        826      0.767       0.64      0.753      0.394\n"
          ]
        },
        {
          "output_type": "stream",
          "name": "stderr",
          "text": [
            "\n"
          ]
        },
        {
          "output_type": "stream",
          "name": "stdout",
          "text": [
            "\n",
            "      Epoch    GPU_mem   box_loss   cls_loss   dfl_loss  Instances       Size\n"
          ]
        },
        {
          "output_type": "stream",
          "name": "stderr",
          "text": [
            "       8/30       5.3G      1.471      1.215      1.453         55        640: 100%|██████████| 150/150 [00:39<00:00,  3.81it/s]\n",
            "                 Class     Images  Instances      Box(P          R      mAP50  mAP50-95): 100%|██████████| 4/4 [00:01<00:00,  3.19it/s]"
          ]
        },
        {
          "output_type": "stream",
          "name": "stdout",
          "text": [
            "                   all        119        826      0.734      0.666      0.751      0.441\n"
          ]
        },
        {
          "output_type": "stream",
          "name": "stderr",
          "text": [
            "\n"
          ]
        },
        {
          "output_type": "stream",
          "name": "stdout",
          "text": [
            "\n",
            "      Epoch    GPU_mem   box_loss   cls_loss   dfl_loss  Instances       Size\n"
          ]
        },
        {
          "output_type": "stream",
          "name": "stderr",
          "text": [
            "       9/30       5.3G      1.421      1.164      1.421         27        640: 100%|██████████| 150/150 [00:40<00:00,  3.72it/s]\n",
            "                 Class     Images  Instances      Box(P          R      mAP50  mAP50-95): 100%|██████████| 4/4 [00:01<00:00,  3.35it/s]"
          ]
        },
        {
          "output_type": "stream",
          "name": "stdout",
          "text": [
            "                   all        119        826       0.75        0.7      0.787      0.443\n"
          ]
        },
        {
          "output_type": "stream",
          "name": "stderr",
          "text": [
            "\n"
          ]
        },
        {
          "output_type": "stream",
          "name": "stdout",
          "text": [
            "\n",
            "      Epoch    GPU_mem   box_loss   cls_loss   dfl_loss  Instances       Size\n"
          ]
        },
        {
          "output_type": "stream",
          "name": "stderr",
          "text": [
            "      10/30       5.3G      1.414      1.145      1.421         88        640: 100%|██████████| 150/150 [00:40<00:00,  3.67it/s]\n",
            "                 Class     Images  Instances      Box(P          R      mAP50  mAP50-95): 100%|██████████| 4/4 [00:01<00:00,  2.05it/s]"
          ]
        },
        {
          "output_type": "stream",
          "name": "stdout",
          "text": [
            "                   all        119        826      0.779       0.68      0.775      0.443\n"
          ]
        },
        {
          "output_type": "stream",
          "name": "stderr",
          "text": [
            "\n"
          ]
        },
        {
          "output_type": "stream",
          "name": "stdout",
          "text": [
            "\n",
            "      Epoch    GPU_mem   box_loss   cls_loss   dfl_loss  Instances       Size\n"
          ]
        },
        {
          "output_type": "stream",
          "name": "stderr",
          "text": [
            "      11/30      5.32G      1.383      1.098      1.384         52        640: 100%|██████████| 150/150 [00:39<00:00,  3.81it/s]\n",
            "                 Class     Images  Instances      Box(P          R      mAP50  mAP50-95): 100%|██████████| 4/4 [00:01<00:00,  3.41it/s]"
          ]
        },
        {
          "output_type": "stream",
          "name": "stdout",
          "text": [
            "                   all        119        826      0.787      0.712      0.799      0.468\n"
          ]
        },
        {
          "output_type": "stream",
          "name": "stderr",
          "text": [
            "\n"
          ]
        },
        {
          "output_type": "stream",
          "name": "stdout",
          "text": [
            "\n",
            "      Epoch    GPU_mem   box_loss   cls_loss   dfl_loss  Instances       Size\n"
          ]
        },
        {
          "output_type": "stream",
          "name": "stderr",
          "text": [
            "      12/30      5.32G      1.375      1.097      1.389         56        640: 100%|██████████| 150/150 [00:39<00:00,  3.76it/s]\n",
            "                 Class     Images  Instances      Box(P          R      mAP50  mAP50-95): 100%|██████████| 4/4 [00:00<00:00,  4.10it/s]"
          ]
        },
        {
          "output_type": "stream",
          "name": "stdout",
          "text": [
            "                   all        119        826      0.804      0.735      0.826       0.48\n"
          ]
        },
        {
          "output_type": "stream",
          "name": "stderr",
          "text": [
            "\n"
          ]
        },
        {
          "output_type": "stream",
          "name": "stdout",
          "text": [
            "\n",
            "      Epoch    GPU_mem   box_loss   cls_loss   dfl_loss  Instances       Size\n"
          ]
        },
        {
          "output_type": "stream",
          "name": "stderr",
          "text": [
            "      13/30      5.34G      1.351      1.065      1.374         71        640: 100%|██████████| 150/150 [00:39<00:00,  3.79it/s]\n",
            "                 Class     Images  Instances      Box(P          R      mAP50  mAP50-95): 100%|██████████| 4/4 [00:01<00:00,  3.59it/s]"
          ]
        },
        {
          "output_type": "stream",
          "name": "stdout",
          "text": [
            "                   all        119        826      0.764      0.713      0.797      0.453\n"
          ]
        },
        {
          "output_type": "stream",
          "name": "stderr",
          "text": [
            "\n"
          ]
        },
        {
          "output_type": "stream",
          "name": "stdout",
          "text": [
            "\n",
            "      Epoch    GPU_mem   box_loss   cls_loss   dfl_loss  Instances       Size\n"
          ]
        },
        {
          "output_type": "stream",
          "name": "stderr",
          "text": [
            "      14/30      5.34G      1.332      1.045      1.363         33        640: 100%|██████████| 150/150 [00:39<00:00,  3.75it/s]\n",
            "                 Class     Images  Instances      Box(P          R      mAP50  mAP50-95): 100%|██████████| 4/4 [00:01<00:00,  3.76it/s]"
          ]
        },
        {
          "output_type": "stream",
          "name": "stdout",
          "text": [
            "                   all        119        826       0.84      0.725      0.836      0.494\n"
          ]
        },
        {
          "output_type": "stream",
          "name": "stderr",
          "text": [
            "\n"
          ]
        },
        {
          "output_type": "stream",
          "name": "stdout",
          "text": [
            "\n",
            "      Epoch    GPU_mem   box_loss   cls_loss   dfl_loss  Instances       Size\n"
          ]
        },
        {
          "output_type": "stream",
          "name": "stderr",
          "text": [
            "      15/30      5.61G      1.311      1.003      1.345         15        640: 100%|██████████| 150/150 [00:40<00:00,  3.71it/s]\n",
            "                 Class     Images  Instances      Box(P          R      mAP50  mAP50-95): 100%|██████████| 4/4 [00:01<00:00,  2.06it/s]"
          ]
        },
        {
          "output_type": "stream",
          "name": "stdout",
          "text": [
            "                   all        119        826       0.79       0.75      0.833      0.504\n"
          ]
        },
        {
          "output_type": "stream",
          "name": "stderr",
          "text": [
            "\n"
          ]
        },
        {
          "output_type": "stream",
          "name": "stdout",
          "text": [
            "\n",
            "      Epoch    GPU_mem   box_loss   cls_loss   dfl_loss  Instances       Size\n"
          ]
        },
        {
          "output_type": "stream",
          "name": "stderr",
          "text": [
            "      16/30      5.62G      1.297     0.9891       1.34         60        640: 100%|██████████| 150/150 [00:40<00:00,  3.74it/s]\n",
            "                 Class     Images  Instances      Box(P          R      mAP50  mAP50-95): 100%|██████████| 4/4 [00:01<00:00,  3.62it/s]"
          ]
        },
        {
          "output_type": "stream",
          "name": "stdout",
          "text": [
            "                   all        119        826      0.803      0.758      0.848      0.517\n"
          ]
        },
        {
          "output_type": "stream",
          "name": "stderr",
          "text": [
            "\n"
          ]
        },
        {
          "output_type": "stream",
          "name": "stdout",
          "text": [
            "\n",
            "      Epoch    GPU_mem   box_loss   cls_loss   dfl_loss  Instances       Size\n"
          ]
        },
        {
          "output_type": "stream",
          "name": "stderr",
          "text": [
            "      17/30      5.63G      1.272     0.9614      1.324         23        640: 100%|██████████| 150/150 [00:39<00:00,  3.82it/s]\n",
            "                 Class     Images  Instances      Box(P          R      mAP50  mAP50-95): 100%|██████████| 4/4 [00:01<00:00,  3.77it/s]"
          ]
        },
        {
          "output_type": "stream",
          "name": "stdout",
          "text": [
            "                   all        119        826      0.809      0.758      0.848      0.523\n"
          ]
        },
        {
          "output_type": "stream",
          "name": "stderr",
          "text": [
            "\n"
          ]
        },
        {
          "output_type": "stream",
          "name": "stdout",
          "text": [
            "\n",
            "      Epoch    GPU_mem   box_loss   cls_loss   dfl_loss  Instances       Size\n"
          ]
        },
        {
          "output_type": "stream",
          "name": "stderr",
          "text": [
            "      18/30      5.63G      1.265     0.9591      1.319         39        640: 100%|██████████| 150/150 [00:39<00:00,  3.84it/s]\n",
            "                 Class     Images  Instances      Box(P          R      mAP50  mAP50-95): 100%|██████████| 4/4 [00:01<00:00,  3.66it/s]"
          ]
        },
        {
          "output_type": "stream",
          "name": "stdout",
          "text": [
            "                   all        119        826      0.785       0.78      0.849       0.52\n"
          ]
        },
        {
          "output_type": "stream",
          "name": "stderr",
          "text": [
            "\n"
          ]
        },
        {
          "output_type": "stream",
          "name": "stdout",
          "text": [
            "\n",
            "      Epoch    GPU_mem   box_loss   cls_loss   dfl_loss  Instances       Size\n"
          ]
        },
        {
          "output_type": "stream",
          "name": "stderr",
          "text": [
            "      19/30      5.64G      1.237     0.9311      1.305         69        640: 100%|██████████| 150/150 [00:39<00:00,  3.82it/s]\n",
            "                 Class     Images  Instances      Box(P          R      mAP50  mAP50-95): 100%|██████████| 4/4 [00:01<00:00,  3.20it/s]"
          ]
        },
        {
          "output_type": "stream",
          "name": "stdout",
          "text": [
            "                   all        119        826      0.831       0.78      0.861      0.532\n"
          ]
        },
        {
          "output_type": "stream",
          "name": "stderr",
          "text": [
            "\n"
          ]
        },
        {
          "output_type": "stream",
          "name": "stdout",
          "text": [
            "\n",
            "      Epoch    GPU_mem   box_loss   cls_loss   dfl_loss  Instances       Size\n"
          ]
        },
        {
          "output_type": "stream",
          "name": "stderr",
          "text": [
            "      20/30      5.64G      1.221     0.9116      1.291         29        640: 100%|██████████| 150/150 [00:39<00:00,  3.77it/s]\n",
            "                 Class     Images  Instances      Box(P          R      mAP50  mAP50-95): 100%|██████████| 4/4 [00:01<00:00,  2.06it/s]"
          ]
        },
        {
          "output_type": "stream",
          "name": "stdout",
          "text": [
            "                   all        119        826      0.779      0.827      0.863      0.535\n"
          ]
        },
        {
          "output_type": "stream",
          "name": "stderr",
          "text": [
            "\n"
          ]
        },
        {
          "output_type": "stream",
          "name": "stdout",
          "text": [
            "Closing dataloader mosaic\n",
            "\u001b[34m\u001b[1malbumentations: \u001b[0mBlur(p=0.01, blur_limit=(3, 7)), MedianBlur(p=0.01, blur_limit=(3, 7)), ToGray(p=0.01, method='weighted_average', num_output_channels=3), CLAHE(p=0.01, clip_limit=(1.0, 4.0), tile_grid_size=(8, 8))\n",
            "\n",
            "      Epoch    GPU_mem   box_loss   cls_loss   dfl_loss  Instances       Size\n"
          ]
        },
        {
          "output_type": "stream",
          "name": "stderr",
          "text": [
            "      21/30      5.65G      1.224     0.8416      1.304         16        640: 100%|██████████| 150/150 [00:39<00:00,  3.80it/s]\n",
            "                 Class     Images  Instances      Box(P          R      mAP50  mAP50-95): 100%|██████████| 4/4 [00:00<00:00,  4.01it/s]"
          ]
        },
        {
          "output_type": "stream",
          "name": "stdout",
          "text": [
            "                   all        119        826      0.816      0.806      0.862      0.525\n"
          ]
        },
        {
          "output_type": "stream",
          "name": "stderr",
          "text": [
            "\n"
          ]
        },
        {
          "output_type": "stream",
          "name": "stdout",
          "text": [
            "\n",
            "      Epoch    GPU_mem   box_loss   cls_loss   dfl_loss  Instances       Size\n"
          ]
        },
        {
          "output_type": "stream",
          "name": "stderr",
          "text": [
            "      22/30      5.66G       1.19     0.7985      1.282         10        640: 100%|██████████| 150/150 [00:37<00:00,  4.02it/s]\n",
            "                 Class     Images  Instances      Box(P          R      mAP50  mAP50-95): 100%|██████████| 4/4 [00:01<00:00,  3.48it/s]"
          ]
        },
        {
          "output_type": "stream",
          "name": "stdout",
          "text": [
            "                   all        119        826      0.833       0.82      0.879      0.552\n"
          ]
        },
        {
          "output_type": "stream",
          "name": "stderr",
          "text": [
            "\n"
          ]
        },
        {
          "output_type": "stream",
          "name": "stdout",
          "text": [
            "\n",
            "      Epoch    GPU_mem   box_loss   cls_loss   dfl_loss  Instances       Size\n"
          ]
        },
        {
          "output_type": "stream",
          "name": "stderr",
          "text": [
            "      23/30      5.66G      1.174     0.7745      1.275         18        640: 100%|██████████| 150/150 [00:37<00:00,  4.04it/s]\n",
            "                 Class     Images  Instances      Box(P          R      mAP50  mAP50-95): 100%|██████████| 4/4 [00:01<00:00,  3.50it/s]"
          ]
        },
        {
          "output_type": "stream",
          "name": "stdout",
          "text": [
            "                   all        119        826      0.825      0.839      0.885      0.543\n"
          ]
        },
        {
          "output_type": "stream",
          "name": "stderr",
          "text": [
            "\n"
          ]
        },
        {
          "output_type": "stream",
          "name": "stdout",
          "text": [
            "\n",
            "      Epoch    GPU_mem   box_loss   cls_loss   dfl_loss  Instances       Size\n"
          ]
        },
        {
          "output_type": "stream",
          "name": "stderr",
          "text": [
            "      24/30      5.66G      1.151     0.7551      1.266         39        640: 100%|██████████| 150/150 [00:37<00:00,  4.05it/s]\n",
            "                 Class     Images  Instances      Box(P          R      mAP50  mAP50-95): 100%|██████████| 4/4 [00:01<00:00,  3.54it/s]"
          ]
        },
        {
          "output_type": "stream",
          "name": "stdout",
          "text": [
            "                   all        119        826      0.842      0.826       0.89      0.569\n"
          ]
        },
        {
          "output_type": "stream",
          "name": "stderr",
          "text": [
            "\n"
          ]
        },
        {
          "output_type": "stream",
          "name": "stdout",
          "text": [
            "\n",
            "      Epoch    GPU_mem   box_loss   cls_loss   dfl_loss  Instances       Size\n"
          ]
        },
        {
          "output_type": "stream",
          "name": "stderr",
          "text": [
            "      25/30      5.66G      1.112     0.7263      1.238         59        640: 100%|██████████| 150/150 [00:37<00:00,  3.97it/s]\n",
            "                 Class     Images  Instances      Box(P          R      mAP50  mAP50-95): 100%|██████████| 4/4 [00:01<00:00,  3.89it/s]"
          ]
        },
        {
          "output_type": "stream",
          "name": "stdout",
          "text": [
            "                   all        119        826      0.876      0.817      0.898      0.563\n"
          ]
        },
        {
          "output_type": "stream",
          "name": "stderr",
          "text": [
            "\n"
          ]
        },
        {
          "output_type": "stream",
          "name": "stdout",
          "text": [
            "\n",
            "      Epoch    GPU_mem   box_loss   cls_loss   dfl_loss  Instances       Size\n"
          ]
        },
        {
          "output_type": "stream",
          "name": "stderr",
          "text": [
            "      26/30      5.66G      1.105     0.7131      1.236         17        640: 100%|██████████| 150/150 [00:37<00:00,  4.02it/s]\n",
            "                 Class     Images  Instances      Box(P          R      mAP50  mAP50-95): 100%|██████████| 4/4 [00:01<00:00,  3.62it/s]"
          ]
        },
        {
          "output_type": "stream",
          "name": "stdout",
          "text": [
            "                   all        119        826      0.853      0.835      0.902      0.585\n"
          ]
        },
        {
          "output_type": "stream",
          "name": "stderr",
          "text": [
            "\n"
          ]
        },
        {
          "output_type": "stream",
          "name": "stdout",
          "text": [
            "\n",
            "      Epoch    GPU_mem   box_loss   cls_loss   dfl_loss  Instances       Size\n"
          ]
        },
        {
          "output_type": "stream",
          "name": "stderr",
          "text": [
            "      27/30      5.66G      1.081     0.6878      1.211          9        640: 100%|██████████| 150/150 [00:37<00:00,  4.03it/s]\n",
            "                 Class     Images  Instances      Box(P          R      mAP50  mAP50-95): 100%|██████████| 4/4 [00:01<00:00,  3.78it/s]"
          ]
        },
        {
          "output_type": "stream",
          "name": "stdout",
          "text": [
            "                   all        119        826      0.855       0.82      0.899      0.584\n"
          ]
        },
        {
          "output_type": "stream",
          "name": "stderr",
          "text": [
            "\n"
          ]
        },
        {
          "output_type": "stream",
          "name": "stdout",
          "text": [
            "\n",
            "      Epoch    GPU_mem   box_loss   cls_loss   dfl_loss  Instances       Size\n"
          ]
        },
        {
          "output_type": "stream",
          "name": "stderr",
          "text": [
            "      28/30      5.66G      1.059     0.6744      1.203         12        640: 100%|██████████| 150/150 [00:36<00:00,  4.06it/s]\n",
            "                 Class     Images  Instances      Box(P          R      mAP50  mAP50-95): 100%|██████████| 4/4 [00:01<00:00,  3.67it/s]"
          ]
        },
        {
          "output_type": "stream",
          "name": "stdout",
          "text": [
            "                   all        119        826      0.862      0.825      0.902       0.59\n"
          ]
        },
        {
          "output_type": "stream",
          "name": "stderr",
          "text": [
            "\n"
          ]
        },
        {
          "output_type": "stream",
          "name": "stdout",
          "text": [
            "\n",
            "      Epoch    GPU_mem   box_loss   cls_loss   dfl_loss  Instances       Size\n"
          ]
        },
        {
          "output_type": "stream",
          "name": "stderr",
          "text": [
            "      29/30      5.66G      1.046     0.6666       1.19         55        640: 100%|██████████| 150/150 [00:37<00:00,  4.03it/s]\n",
            "                 Class     Images  Instances      Box(P          R      mAP50  mAP50-95): 100%|██████████| 4/4 [00:01<00:00,  3.82it/s]"
          ]
        },
        {
          "output_type": "stream",
          "name": "stdout",
          "text": [
            "                   all        119        826      0.867      0.825      0.902      0.582\n"
          ]
        },
        {
          "output_type": "stream",
          "name": "stderr",
          "text": [
            "\n"
          ]
        },
        {
          "output_type": "stream",
          "name": "stdout",
          "text": [
            "\n",
            "      Epoch    GPU_mem   box_loss   cls_loss   dfl_loss  Instances       Size\n"
          ]
        },
        {
          "output_type": "stream",
          "name": "stderr",
          "text": [
            "      30/30      5.66G      1.019      0.648      1.179         23        640: 100%|██████████| 150/150 [00:37<00:00,  4.05it/s]\n",
            "                 Class     Images  Instances      Box(P          R      mAP50  mAP50-95): 100%|██████████| 4/4 [00:01<00:00,  3.78it/s]"
          ]
        },
        {
          "output_type": "stream",
          "name": "stdout",
          "text": [
            "                   all        119        826      0.858      0.835      0.912      0.598\n"
          ]
        },
        {
          "output_type": "stream",
          "name": "stderr",
          "text": [
            "\n"
          ]
        },
        {
          "output_type": "stream",
          "name": "stdout",
          "text": [
            "\n",
            "30 epochs completed in 0.340 hours.\n",
            "Optimizer stripped from runs/detect/train2/weights/last.pt, 6.2MB\n",
            "Optimizer stripped from runs/detect/train2/weights/best.pt, 6.2MB\n",
            "\n",
            "Validating runs/detect/train2/weights/best.pt...\n",
            "Ultralytics 8.3.159 🚀 Python-3.11.13 torch-2.6.0+cu124 CUDA:0 (Tesla T4, 15095MiB)\n",
            "Model summary (fused): 72 layers, 3,005,843 parameters, 0 gradients, 8.1 GFLOPs\n"
          ]
        },
        {
          "output_type": "stream",
          "name": "stderr",
          "text": [
            "                 Class     Images  Instances      Box(P          R      mAP50  mAP50-95): 100%|██████████| 4/4 [00:03<00:00,  1.26it/s]\n"
          ]
        },
        {
          "output_type": "stream",
          "name": "stdout",
          "text": [
            "                   all        119        826      0.857      0.837      0.911      0.597\n",
            "Speed: 0.6ms preprocess, 3.9ms inference, 0.0ms loss, 7.4ms postprocess per image\n",
            "Results saved to \u001b[1mruns/detect/train2\u001b[0m\n"
          ]
        },
        {
          "output_type": "execute_result",
          "data": {
            "text/plain": [
              "ultralytics.utils.metrics.DetMetrics object with attributes:\n",
              "\n",
              "ap_class_index: array([0])\n",
              "box: ultralytics.utils.metrics.Metric object\n",
              "confusion_matrix: <ultralytics.utils.metrics.ConfusionMatrix object at 0x7b6bec41da90>\n",
              "curves: ['Precision-Recall(B)', 'F1-Confidence(B)', 'Precision-Confidence(B)', 'Recall-Confidence(B)']\n",
              "curves_results: [[array([          0,    0.001001,    0.002002,    0.003003,    0.004004,    0.005005,    0.006006,    0.007007,    0.008008,    0.009009,     0.01001,    0.011011,    0.012012,    0.013013,    0.014014,    0.015015,    0.016016,    0.017017,    0.018018,    0.019019,     0.02002,    0.021021,    0.022022,    0.023023,\n",
              "          0.024024,    0.025025,    0.026026,    0.027027,    0.028028,    0.029029,     0.03003,    0.031031,    0.032032,    0.033033,    0.034034,    0.035035,    0.036036,    0.037037,    0.038038,    0.039039,     0.04004,    0.041041,    0.042042,    0.043043,    0.044044,    0.045045,    0.046046,    0.047047,\n",
              "          0.048048,    0.049049,     0.05005,    0.051051,    0.052052,    0.053053,    0.054054,    0.055055,    0.056056,    0.057057,    0.058058,    0.059059,     0.06006,    0.061061,    0.062062,    0.063063,    0.064064,    0.065065,    0.066066,    0.067067,    0.068068,    0.069069,     0.07007,    0.071071,\n",
              "          0.072072,    0.073073,    0.074074,    0.075075,    0.076076,    0.077077,    0.078078,    0.079079,     0.08008,    0.081081,    0.082082,    0.083083,    0.084084,    0.085085,    0.086086,    0.087087,    0.088088,    0.089089,     0.09009,    0.091091,    0.092092,    0.093093,    0.094094,    0.095095,\n",
              "          0.096096,    0.097097,    0.098098,    0.099099,      0.1001,      0.1011,      0.1021,      0.1031,      0.1041,     0.10511,     0.10611,     0.10711,     0.10811,     0.10911,     0.11011,     0.11111,     0.11211,     0.11311,     0.11411,     0.11512,     0.11612,     0.11712,     0.11812,     0.11912,\n",
              "           0.12012,     0.12112,     0.12212,     0.12312,     0.12412,     0.12513,     0.12613,     0.12713,     0.12813,     0.12913,     0.13013,     0.13113,     0.13213,     0.13313,     0.13413,     0.13514,     0.13614,     0.13714,     0.13814,     0.13914,     0.14014,     0.14114,     0.14214,     0.14314,\n",
              "           0.14414,     0.14515,     0.14615,     0.14715,     0.14815,     0.14915,     0.15015,     0.15115,     0.15215,     0.15315,     0.15415,     0.15516,     0.15616,     0.15716,     0.15816,     0.15916,     0.16016,     0.16116,     0.16216,     0.16316,     0.16416,     0.16517,     0.16617,     0.16717,\n",
              "           0.16817,     0.16917,     0.17017,     0.17117,     0.17217,     0.17317,     0.17417,     0.17518,     0.17618,     0.17718,     0.17818,     0.17918,     0.18018,     0.18118,     0.18218,     0.18318,     0.18418,     0.18519,     0.18619,     0.18719,     0.18819,     0.18919,     0.19019,     0.19119,\n",
              "           0.19219,     0.19319,     0.19419,      0.1952,      0.1962,      0.1972,      0.1982,      0.1992,      0.2002,      0.2012,      0.2022,      0.2032,      0.2042,     0.20521,     0.20621,     0.20721,     0.20821,     0.20921,     0.21021,     0.21121,     0.21221,     0.21321,     0.21421,     0.21522,\n",
              "           0.21622,     0.21722,     0.21822,     0.21922,     0.22022,     0.22122,     0.22222,     0.22322,     0.22422,     0.22523,     0.22623,     0.22723,     0.22823,     0.22923,     0.23023,     0.23123,     0.23223,     0.23323,     0.23423,     0.23524,     0.23624,     0.23724,     0.23824,     0.23924,\n",
              "           0.24024,     0.24124,     0.24224,     0.24324,     0.24424,     0.24525,     0.24625,     0.24725,     0.24825,     0.24925,     0.25025,     0.25125,     0.25225,     0.25325,     0.25425,     0.25526,     0.25626,     0.25726,     0.25826,     0.25926,     0.26026,     0.26126,     0.26226,     0.26326,\n",
              "           0.26426,     0.26527,     0.26627,     0.26727,     0.26827,     0.26927,     0.27027,     0.27127,     0.27227,     0.27327,     0.27427,     0.27528,     0.27628,     0.27728,     0.27828,     0.27928,     0.28028,     0.28128,     0.28228,     0.28328,     0.28428,     0.28529,     0.28629,     0.28729,\n",
              "           0.28829,     0.28929,     0.29029,     0.29129,     0.29229,     0.29329,     0.29429,      0.2953,      0.2963,      0.2973,      0.2983,      0.2993,      0.3003,      0.3013,      0.3023,      0.3033,      0.3043,     0.30531,     0.30631,     0.30731,     0.30831,     0.30931,     0.31031,     0.31131,\n",
              "           0.31231,     0.31331,     0.31431,     0.31532,     0.31632,     0.31732,     0.31832,     0.31932,     0.32032,     0.32132,     0.32232,     0.32332,     0.32432,     0.32533,     0.32633,     0.32733,     0.32833,     0.32933,     0.33033,     0.33133,     0.33233,     0.33333,     0.33433,     0.33534,\n",
              "           0.33634,     0.33734,     0.33834,     0.33934,     0.34034,     0.34134,     0.34234,     0.34334,     0.34434,     0.34535,     0.34635,     0.34735,     0.34835,     0.34935,     0.35035,     0.35135,     0.35235,     0.35335,     0.35435,     0.35536,     0.35636,     0.35736,     0.35836,     0.35936,\n",
              "           0.36036,     0.36136,     0.36236,     0.36336,     0.36436,     0.36537,     0.36637,     0.36737,     0.36837,     0.36937,     0.37037,     0.37137,     0.37237,     0.37337,     0.37437,     0.37538,     0.37638,     0.37738,     0.37838,     0.37938,     0.38038,     0.38138,     0.38238,     0.38338,\n",
              "           0.38438,     0.38539,     0.38639,     0.38739,     0.38839,     0.38939,     0.39039,     0.39139,     0.39239,     0.39339,     0.39439,      0.3954,      0.3964,      0.3974,      0.3984,      0.3994,      0.4004,      0.4014,      0.4024,      0.4034,      0.4044,     0.40541,     0.40641,     0.40741,\n",
              "           0.40841,     0.40941,     0.41041,     0.41141,     0.41241,     0.41341,     0.41441,     0.41542,     0.41642,     0.41742,     0.41842,     0.41942,     0.42042,     0.42142,     0.42242,     0.42342,     0.42442,     0.42543,     0.42643,     0.42743,     0.42843,     0.42943,     0.43043,     0.43143,\n",
              "           0.43243,     0.43343,     0.43443,     0.43544,     0.43644,     0.43744,     0.43844,     0.43944,     0.44044,     0.44144,     0.44244,     0.44344,     0.44444,     0.44545,     0.44645,     0.44745,     0.44845,     0.44945,     0.45045,     0.45145,     0.45245,     0.45345,     0.45445,     0.45546,\n",
              "           0.45646,     0.45746,     0.45846,     0.45946,     0.46046,     0.46146,     0.46246,     0.46346,     0.46446,     0.46547,     0.46647,     0.46747,     0.46847,     0.46947,     0.47047,     0.47147,     0.47247,     0.47347,     0.47447,     0.47548,     0.47648,     0.47748,     0.47848,     0.47948,\n",
              "           0.48048,     0.48148,     0.48248,     0.48348,     0.48448,     0.48549,     0.48649,     0.48749,     0.48849,     0.48949,     0.49049,     0.49149,     0.49249,     0.49349,     0.49449,      0.4955,      0.4965,      0.4975,      0.4985,      0.4995,      0.5005,      0.5015,      0.5025,      0.5035,\n",
              "            0.5045,     0.50551,     0.50651,     0.50751,     0.50851,     0.50951,     0.51051,     0.51151,     0.51251,     0.51351,     0.51451,     0.51552,     0.51652,     0.51752,     0.51852,     0.51952,     0.52052,     0.52152,     0.52252,     0.52352,     0.52452,     0.52553,     0.52653,     0.52753,\n",
              "           0.52853,     0.52953,     0.53053,     0.53153,     0.53253,     0.53353,     0.53453,     0.53554,     0.53654,     0.53754,     0.53854,     0.53954,     0.54054,     0.54154,     0.54254,     0.54354,     0.54454,     0.54555,     0.54655,     0.54755,     0.54855,     0.54955,     0.55055,     0.55155,\n",
              "           0.55255,     0.55355,     0.55455,     0.55556,     0.55656,     0.55756,     0.55856,     0.55956,     0.56056,     0.56156,     0.56256,     0.56356,     0.56456,     0.56557,     0.56657,     0.56757,     0.56857,     0.56957,     0.57057,     0.57157,     0.57257,     0.57357,     0.57457,     0.57558,\n",
              "           0.57658,     0.57758,     0.57858,     0.57958,     0.58058,     0.58158,     0.58258,     0.58358,     0.58458,     0.58559,     0.58659,     0.58759,     0.58859,     0.58959,     0.59059,     0.59159,     0.59259,     0.59359,     0.59459,      0.5956,      0.5966,      0.5976,      0.5986,      0.5996,\n",
              "            0.6006,      0.6016,      0.6026,      0.6036,      0.6046,     0.60561,     0.60661,     0.60761,     0.60861,     0.60961,     0.61061,     0.61161,     0.61261,     0.61361,     0.61461,     0.61562,     0.61662,     0.61762,     0.61862,     0.61962,     0.62062,     0.62162,     0.62262,     0.62362,\n",
              "           0.62462,     0.62563,     0.62663,     0.62763,     0.62863,     0.62963,     0.63063,     0.63163,     0.63263,     0.63363,     0.63463,     0.63564,     0.63664,     0.63764,     0.63864,     0.63964,     0.64064,     0.64164,     0.64264,     0.64364,     0.64464,     0.64565,     0.64665,     0.64765,\n",
              "           0.64865,     0.64965,     0.65065,     0.65165,     0.65265,     0.65365,     0.65465,     0.65566,     0.65666,     0.65766,     0.65866,     0.65966,     0.66066,     0.66166,     0.66266,     0.66366,     0.66466,     0.66567,     0.66667,     0.66767,     0.66867,     0.66967,     0.67067,     0.67167,\n",
              "           0.67267,     0.67367,     0.67467,     0.67568,     0.67668,     0.67768,     0.67868,     0.67968,     0.68068,     0.68168,     0.68268,     0.68368,     0.68468,     0.68569,     0.68669,     0.68769,     0.68869,     0.68969,     0.69069,     0.69169,     0.69269,     0.69369,     0.69469,      0.6957,\n",
              "            0.6967,      0.6977,      0.6987,      0.6997,      0.7007,      0.7017,      0.7027,      0.7037,      0.7047,     0.70571,     0.70671,     0.70771,     0.70871,     0.70971,     0.71071,     0.71171,     0.71271,     0.71371,     0.71471,     0.71572,     0.71672,     0.71772,     0.71872,     0.71972,\n",
              "           0.72072,     0.72172,     0.72272,     0.72372,     0.72472,     0.72573,     0.72673,     0.72773,     0.72873,     0.72973,     0.73073,     0.73173,     0.73273,     0.73373,     0.73473,     0.73574,     0.73674,     0.73774,     0.73874,     0.73974,     0.74074,     0.74174,     0.74274,     0.74374,\n",
              "           0.74474,     0.74575,     0.74675,     0.74775,     0.74875,     0.74975,     0.75075,     0.75175,     0.75275,     0.75375,     0.75475,     0.75576,     0.75676,     0.75776,     0.75876,     0.75976,     0.76076,     0.76176,     0.76276,     0.76376,     0.76476,     0.76577,     0.76677,     0.76777,\n",
              "           0.76877,     0.76977,     0.77077,     0.77177,     0.77277,     0.77377,     0.77477,     0.77578,     0.77678,     0.77778,     0.77878,     0.77978,     0.78078,     0.78178,     0.78278,     0.78378,     0.78478,     0.78579,     0.78679,     0.78779,     0.78879,     0.78979,     0.79079,     0.79179,\n",
              "           0.79279,     0.79379,     0.79479,      0.7958,      0.7968,      0.7978,      0.7988,      0.7998,      0.8008,      0.8018,      0.8028,      0.8038,      0.8048,     0.80581,     0.80681,     0.80781,     0.80881,     0.80981,     0.81081,     0.81181,     0.81281,     0.81381,     0.81481,     0.81582,\n",
              "           0.81682,     0.81782,     0.81882,     0.81982,     0.82082,     0.82182,     0.82282,     0.82382,     0.82482,     0.82583,     0.82683,     0.82783,     0.82883,     0.82983,     0.83083,     0.83183,     0.83283,     0.83383,     0.83483,     0.83584,     0.83684,     0.83784,     0.83884,     0.83984,\n",
              "           0.84084,     0.84184,     0.84284,     0.84384,     0.84484,     0.84585,     0.84685,     0.84785,     0.84885,     0.84985,     0.85085,     0.85185,     0.85285,     0.85385,     0.85485,     0.85586,     0.85686,     0.85786,     0.85886,     0.85986,     0.86086,     0.86186,     0.86286,     0.86386,\n",
              "           0.86486,     0.86587,     0.86687,     0.86787,     0.86887,     0.86987,     0.87087,     0.87187,     0.87287,     0.87387,     0.87487,     0.87588,     0.87688,     0.87788,     0.87888,     0.87988,     0.88088,     0.88188,     0.88288,     0.88388,     0.88488,     0.88589,     0.88689,     0.88789,\n",
              "           0.88889,     0.88989,     0.89089,     0.89189,     0.89289,     0.89389,     0.89489,      0.8959,      0.8969,      0.8979,      0.8989,      0.8999,      0.9009,      0.9019,      0.9029,      0.9039,      0.9049,     0.90591,     0.90691,     0.90791,     0.90891,     0.90991,     0.91091,     0.91191,\n",
              "           0.91291,     0.91391,     0.91491,     0.91592,     0.91692,     0.91792,     0.91892,     0.91992,     0.92092,     0.92192,     0.92292,     0.92392,     0.92492,     0.92593,     0.92693,     0.92793,     0.92893,     0.92993,     0.93093,     0.93193,     0.93293,     0.93393,     0.93493,     0.93594,\n",
              "           0.93694,     0.93794,     0.93894,     0.93994,     0.94094,     0.94194,     0.94294,     0.94394,     0.94494,     0.94595,     0.94695,     0.94795,     0.94895,     0.94995,     0.95095,     0.95195,     0.95295,     0.95395,     0.95495,     0.95596,     0.95696,     0.95796,     0.95896,     0.95996,\n",
              "           0.96096,     0.96196,     0.96296,     0.96396,     0.96496,     0.96597,     0.96697,     0.96797,     0.96897,     0.96997,     0.97097,     0.97197,     0.97297,     0.97397,     0.97497,     0.97598,     0.97698,     0.97798,     0.97898,     0.97998,     0.98098,     0.98198,     0.98298,     0.98398,\n",
              "           0.98498,     0.98599,     0.98699,     0.98799,     0.98899,     0.98999,     0.99099,     0.99199,     0.99299,     0.99399,     0.99499,       0.996,       0.997,       0.998,       0.999,           1]), array([[          1,           1,           1,           1,           1,           1,           1,           1,           1,           1,           1,           1,           1,           1,           1,           1,           1,           1,           1,           1,           1,           1,           1,\n",
              "                  1,           1,           1,           1,           1,           1,           1,           1,           1,           1,           1,           1,           1,           1,           1,           1,           1,           1,           1,           1,           1,           1,           1,\n",
              "                  1,           1,           1,           1,           1,           1,           1,           1,           1,           1,           1,           1,           1,           1,           1,           1,           1,           1,           1,           1,           1,           1,           1,\n",
              "                  1,           1,           1,           1,           1,           1,           1,           1,           1,           1,           1,           1,           1,           1,           1,           1,           1,           1,           1,           1,           1,           1,           1,\n",
              "                  1,           1,           1,           1,           1,           1,           1,           1,           1,           1,           1,           1,           1,           1,           1,           1,           1,           1,           1,           1,           1,           1,           1,\n",
              "                  1,           1,           1,           1,           1,           1,           1,           1,           1,           1,           1,           1,           1,           1,           1,           1,           1,           1,           1,           1,           1,           1,           1,\n",
              "                  1,           1,           1,           1,           1,           1,           1,           1,           1,           1,           1,           1,           1,           1,           1,           1,           1,           1,           1,           1,           1,           1,           1,\n",
              "                  1,           1,           1,           1,           1,           1,           1,           1,           1,           1,           1,           1,           1,           1,           1,           1,           1,           1,           1,           1,           1,           1,           1,\n",
              "                  1,           1,           1,           1,           1,           1,           1,           1,           1,           1,           1,           1,           1,           1,           1,           1,           1,           1,           1,           1,           1,           1,           1,\n",
              "                  1,           1,           1,           1,           1,           1,           1,           1,           1,           1,           1,           1,           1,           1,           1,           1,           1,           1,           1,           1,           1,           1,           1,\n",
              "                  1,           1,           1,           1,           1,           1,           1,           1,           1,           1,           1,           1,           1,           1,           1,           1,           1,           1,           1,           1,           1,           1,           1,\n",
              "                  1,           1,           1,           1,           1,           1,           1,           1,           1,           1,           1,           1,           1,           1,           1,           1,           1,           1,           1,           1,           1,           1,           1,\n",
              "                  1,           1,           1,           1,           1,           1,           1,           1,           1,           1,           1,           1,           1,           1,           1,           1,           1,           1,           1,           1,           1,           1,           1,\n",
              "                  1,           1,           1,           1,           1,           1,           1,           1,           1,           1,           1,           1,           1,           1,           1,           1,           1,           1,           1,           1,           1,           1,           1,\n",
              "                  1,           1,           1,           1,           1,           1,           1,           1,           1,           1,           1,           1,           1,           1,           1,           1,           1,           1,           1,           1,           1,           1,           1,\n",
              "                  1,           1,           1,           1,           1,           1,           1,           1,           1,           1,           1,           1,           1,           1,           1,           1,           1,           1,           1,           1,           1,           1,           1,\n",
              "                  1,           1,           1,           1,           1,           1,           1,           1,           1,           1,           1,           1,           1,           1,           1,           1,           1,           1,           1,           1,           1,           1,           1,\n",
              "                  1,           1,           1,           1,           1,           1,           1,           1,           1,           1,           1,           1,           1,           1,           1,           1,           1,           1,     0.99733,     0.99733,     0.99733,     0.99733,     0.99733,\n",
              "            0.99733,     0.99733,     0.99733,     0.99733,     0.99733,     0.99733,     0.99733,     0.99733,     0.99733,     0.99733,     0.99733,     0.99733,     0.99733,     0.99733,     0.99733,     0.99733,     0.99733,     0.99733,     0.99733,     0.99733,     0.99733,     0.99733,     0.99733,\n",
              "            0.99733,     0.99733,     0.99733,     0.99733,     0.99733,     0.99733,     0.99733,     0.99733,     0.99733,     0.99733,     0.99733,     0.99733,     0.99733,     0.99733,     0.99733,     0.99483,     0.99483,     0.99483,     0.99483,     0.99483,     0.99483,     0.99483,     0.99483,\n",
              "            0.99483,     0.99483,     0.99483,     0.99483,     0.99483,     0.99483,     0.99248,     0.99248,     0.99248,     0.99248,     0.99248,     0.99248,     0.99248,     0.99248,     0.99248,     0.99248,     0.99248,     0.99248,     0.99248,     0.99017,     0.99017,     0.99017,     0.99017,\n",
              "            0.99017,     0.99017,     0.99017,     0.99017,     0.99017,     0.98861,     0.98861,     0.98861,     0.98861,     0.98861,     0.98861,     0.98861,     0.98861,     0.98861,     0.98861,     0.98861,     0.98861,     0.98861,     0.98861,     0.98861,     0.98861,     0.98861,     0.98861,\n",
              "            0.98861,     0.98861,     0.98861,     0.98861,     0.98861,     0.98861,     0.98861,     0.98861,     0.98861,     0.98861,     0.98861,     0.98861,     0.98861,     0.98861,     0.98861,     0.98861,     0.98861,     0.98861,     0.98861,     0.98661,     0.98661,     0.98661,     0.98661,\n",
              "            0.98661,     0.98661,     0.98661,     0.98661,     0.98661,     0.98661,     0.98451,     0.98451,     0.98451,     0.98451,      0.9839,      0.9839,      0.9839,      0.9839,      0.9839,      0.9839,      0.9839,      0.9839,      0.9839,      0.9839,      0.9839,      0.9839,      0.9839,\n",
              "             0.9839,      0.9839,      0.9839,      0.9839,      0.9839,      0.9839,      0.9839,      0.9839,      0.9839,      0.9839,      0.9839,      0.9839,      0.9839,      0.9839,      0.9839,      0.9839,      0.9839,      0.9839,      0.9839,      0.9839,      0.9839,      0.9839,      0.9839,\n",
              "             0.9839,      0.9839,      0.9839,      0.9839,      0.9839,      0.9839,      0.9839,      0.9839,      0.9839,      0.9839,      0.9839,      0.9839,      0.9839,      0.9839,      0.9839,      0.9839,      0.9839,        0.98,     0.97843,     0.97843,     0.97843,     0.97843,     0.97843,\n",
              "            0.97843,     0.97843,     0.97843,     0.97843,     0.97843,     0.97843,     0.97476,     0.97476,     0.97476,     0.97476,     0.97164,     0.97164,     0.97164,     0.97164,     0.97164,     0.97164,     0.97164,     0.97164,     0.97164,     0.97164,     0.97164,     0.97164,     0.97164,\n",
              "            0.97164,     0.97015,     0.97015,     0.97015,     0.97015,     0.97015,     0.97015,     0.97015,      0.9684,      0.9684,     0.96667,     0.96396,     0.96396,     0.96396,     0.96396,     0.96396,     0.96396,     0.96396,     0.96396,     0.96396,     0.96396,     0.96396,     0.96396,\n",
              "            0.96396,     0.96396,     0.96396,     0.96396,     0.96243,     0.96243,     0.96243,     0.96106,     0.96106,     0.96106,     0.96106,     0.96106,     0.96106,     0.95972,     0.95972,     0.95972,     0.95972,     0.95972,     0.95972,     0.95826,     0.95826,     0.95826,     0.95826,\n",
              "            0.95697,     0.95697,     0.95697,     0.95697,     0.95697,     0.95697,     0.95556,     0.95556,     0.95556,     0.95556,       0.954,     0.95278,     0.95278,     0.95278,     0.95278,     0.95278,     0.95278,     0.94992,     0.94992,     0.94992,     0.94992,     0.94992,     0.94745,\n",
              "            0.94745,     0.94745,     0.94745,     0.94745,     0.94745,     0.94745,     0.94745,     0.94745,     0.94625,     0.94625,     0.94625,     0.94625,     0.94625,     0.94525,     0.94525,     0.94525,     0.94525,     0.94525,     0.94525,     0.94525,     0.94286,     0.94286,     0.94286,\n",
              "            0.94286,     0.94286,     0.94286,     0.94286,     0.94286,     0.94286,     0.94164,     0.94164,     0.94164,     0.94164,     0.93906,     0.93906,     0.93906,     0.93906,     0.93789,     0.93789,     0.93789,     0.93789,     0.93374,     0.93374,     0.93241,     0.93241,     0.93109,\n",
              "            0.92988,     0.92988,     0.92857,     0.92782,     0.92782,     0.92782,     0.92782,     0.92782,     0.92782,     0.92782,     0.92782,     0.92665,     0.92665,     0.92582,     0.92582,     0.92582,     0.92582,     0.92582,     0.92582,     0.92183,     0.91924,     0.91924,     0.91727,\n",
              "            0.91727,     0.91727,     0.91727,     0.91727,     0.91727,     0.91727,     0.91474,     0.91286,     0.91286,     0.91286,     0.91286,     0.91286,     0.91286,     0.91286,     0.90909,     0.90909,     0.90819,     0.90819,     0.90819,     0.90704,      0.9059,      0.9059,     0.90476,\n",
              "            0.89655,     0.89655,     0.89655,     0.89655,     0.89655,     0.89452,     0.89452,     0.89452,     0.89388,     0.89388,     0.89388,     0.89388,     0.89388,      0.8931,      0.8931,      0.8931,      0.8931,     0.89084,      0.8874,     0.88636,     0.88462,     0.88462,     0.88462,\n",
              "            0.88462,     0.88462,      0.8836,     0.88189,     0.88189,     0.88189,     0.88189,     0.88189,     0.88105,     0.88105,     0.88105,     0.88021,     0.88021,     0.87938,     0.87938,     0.87938,     0.87613,     0.87452,     0.87452,     0.87452,     0.87452,     0.87452,     0.87134,\n",
              "            0.87039,     0.86835,     0.86633,     0.86125,     0.86125,     0.86125,     0.85839,     0.85839,     0.85767,     0.85767,     0.85767,     0.85732,     0.85732,     0.85732,     0.85732,     0.85539,     0.85539,      0.8547,      0.8547,      0.8497,     0.84699,     0.84699,     0.84699,\n",
              "            0.84634,     0.84634,     0.84551,     0.84468,     0.84468,     0.83787,     0.83707,     0.83549,     0.83549,     0.83081,     0.83081,     0.82947,     0.82947,     0.82947,     0.82679,     0.82131,     0.82131,     0.81777,     0.81633,     0.81633,     0.81561,     0.81561,     0.81033,\n",
              "            0.80984,     0.80984,     0.80825,     0.80221,     0.80221,         0.8,         0.8,     0.79847,     0.79694,      0.7963,      0.7963,     0.79415,     0.79415,     0.79351,     0.78778,     0.78215,     0.78215,     0.78155,     0.77848,     0.77626,     0.76525,     0.75922,     0.75922,\n",
              "            0.75407,     0.75228,     0.75228,     0.75025,     0.75025,     0.74975,     0.74551,      0.7428,     0.74158,     0.74038,     0.74038,     0.73653,     0.73653,     0.72543,     0.71334,     0.71226,     0.71226,      0.7072,     0.70577,     0.70577,     0.70474,     0.68223,     0.68223,\n",
              "            0.66608,     0.66608,      0.6629,     0.66262,     0.66262,     0.65948,     0.63254,     0.62459,     0.61098,     0.60504,     0.60504,     0.60062,     0.59445,     0.58264,     0.57946,     0.57718,     0.57718,     0.57535,     0.56808,      0.5598,     0.54712,      0.5459,      0.5459,\n",
              "            0.53979,     0.52416,     0.52378,     0.52165,     0.51715,     0.51715,     0.49402,     0.45751,     0.43505,      0.4344,      0.4344,     0.40379,     0.40306,     0.37775,     0.35756,     0.32315,     0.32315,     0.25047,     0.24844,     0.21701,     0.18007,     0.17348,     0.17348,\n",
              "            0.17164,     0.16257,      0.1403,       0.138,       0.138,       0.138,     0.12423,      0.1132,     0.10434,     0.10017,    0.095995,    0.091821,    0.087648,    0.083474,      0.0793,    0.075126,    0.070953,    0.066779,    0.062605,    0.058432,    0.054258,    0.050084,    0.045911,\n",
              "           0.041737,    0.037563,     0.03339,    0.029216,    0.025042,    0.020868,    0.016695,    0.012521,   0.0083474,   0.0041737,           0]]), 'Recall', 'Precision'], [array([          0,    0.001001,    0.002002,    0.003003,    0.004004,    0.005005,    0.006006,    0.007007,    0.008008,    0.009009,     0.01001,    0.011011,    0.012012,    0.013013,    0.014014,    0.015015,    0.016016,    0.017017,    0.018018,    0.019019,     0.02002,    0.021021,    0.022022,    0.023023,\n",
              "          0.024024,    0.025025,    0.026026,    0.027027,    0.028028,    0.029029,     0.03003,    0.031031,    0.032032,    0.033033,    0.034034,    0.035035,    0.036036,    0.037037,    0.038038,    0.039039,     0.04004,    0.041041,    0.042042,    0.043043,    0.044044,    0.045045,    0.046046,    0.047047,\n",
              "          0.048048,    0.049049,     0.05005,    0.051051,    0.052052,    0.053053,    0.054054,    0.055055,    0.056056,    0.057057,    0.058058,    0.059059,     0.06006,    0.061061,    0.062062,    0.063063,    0.064064,    0.065065,    0.066066,    0.067067,    0.068068,    0.069069,     0.07007,    0.071071,\n",
              "          0.072072,    0.073073,    0.074074,    0.075075,    0.076076,    0.077077,    0.078078,    0.079079,     0.08008,    0.081081,    0.082082,    0.083083,    0.084084,    0.085085,    0.086086,    0.087087,    0.088088,    0.089089,     0.09009,    0.091091,    0.092092,    0.093093,    0.094094,    0.095095,\n",
              "          0.096096,    0.097097,    0.098098,    0.099099,      0.1001,      0.1011,      0.1021,      0.1031,      0.1041,     0.10511,     0.10611,     0.10711,     0.10811,     0.10911,     0.11011,     0.11111,     0.11211,     0.11311,     0.11411,     0.11512,     0.11612,     0.11712,     0.11812,     0.11912,\n",
              "           0.12012,     0.12112,     0.12212,     0.12312,     0.12412,     0.12513,     0.12613,     0.12713,     0.12813,     0.12913,     0.13013,     0.13113,     0.13213,     0.13313,     0.13413,     0.13514,     0.13614,     0.13714,     0.13814,     0.13914,     0.14014,     0.14114,     0.14214,     0.14314,\n",
              "           0.14414,     0.14515,     0.14615,     0.14715,     0.14815,     0.14915,     0.15015,     0.15115,     0.15215,     0.15315,     0.15415,     0.15516,     0.15616,     0.15716,     0.15816,     0.15916,     0.16016,     0.16116,     0.16216,     0.16316,     0.16416,     0.16517,     0.16617,     0.16717,\n",
              "           0.16817,     0.16917,     0.17017,     0.17117,     0.17217,     0.17317,     0.17417,     0.17518,     0.17618,     0.17718,     0.17818,     0.17918,     0.18018,     0.18118,     0.18218,     0.18318,     0.18418,     0.18519,     0.18619,     0.18719,     0.18819,     0.18919,     0.19019,     0.19119,\n",
              "           0.19219,     0.19319,     0.19419,      0.1952,      0.1962,      0.1972,      0.1982,      0.1992,      0.2002,      0.2012,      0.2022,      0.2032,      0.2042,     0.20521,     0.20621,     0.20721,     0.20821,     0.20921,     0.21021,     0.21121,     0.21221,     0.21321,     0.21421,     0.21522,\n",
              "           0.21622,     0.21722,     0.21822,     0.21922,     0.22022,     0.22122,     0.22222,     0.22322,     0.22422,     0.22523,     0.22623,     0.22723,     0.22823,     0.22923,     0.23023,     0.23123,     0.23223,     0.23323,     0.23423,     0.23524,     0.23624,     0.23724,     0.23824,     0.23924,\n",
              "           0.24024,     0.24124,     0.24224,     0.24324,     0.24424,     0.24525,     0.24625,     0.24725,     0.24825,     0.24925,     0.25025,     0.25125,     0.25225,     0.25325,     0.25425,     0.25526,     0.25626,     0.25726,     0.25826,     0.25926,     0.26026,     0.26126,     0.26226,     0.26326,\n",
              "           0.26426,     0.26527,     0.26627,     0.26727,     0.26827,     0.26927,     0.27027,     0.27127,     0.27227,     0.27327,     0.27427,     0.27528,     0.27628,     0.27728,     0.27828,     0.27928,     0.28028,     0.28128,     0.28228,     0.28328,     0.28428,     0.28529,     0.28629,     0.28729,\n",
              "           0.28829,     0.28929,     0.29029,     0.29129,     0.29229,     0.29329,     0.29429,      0.2953,      0.2963,      0.2973,      0.2983,      0.2993,      0.3003,      0.3013,      0.3023,      0.3033,      0.3043,     0.30531,     0.30631,     0.30731,     0.30831,     0.30931,     0.31031,     0.31131,\n",
              "           0.31231,     0.31331,     0.31431,     0.31532,     0.31632,     0.31732,     0.31832,     0.31932,     0.32032,     0.32132,     0.32232,     0.32332,     0.32432,     0.32533,     0.32633,     0.32733,     0.32833,     0.32933,     0.33033,     0.33133,     0.33233,     0.33333,     0.33433,     0.33534,\n",
              "           0.33634,     0.33734,     0.33834,     0.33934,     0.34034,     0.34134,     0.34234,     0.34334,     0.34434,     0.34535,     0.34635,     0.34735,     0.34835,     0.34935,     0.35035,     0.35135,     0.35235,     0.35335,     0.35435,     0.35536,     0.35636,     0.35736,     0.35836,     0.35936,\n",
              "           0.36036,     0.36136,     0.36236,     0.36336,     0.36436,     0.36537,     0.36637,     0.36737,     0.36837,     0.36937,     0.37037,     0.37137,     0.37237,     0.37337,     0.37437,     0.37538,     0.37638,     0.37738,     0.37838,     0.37938,     0.38038,     0.38138,     0.38238,     0.38338,\n",
              "           0.38438,     0.38539,     0.38639,     0.38739,     0.38839,     0.38939,     0.39039,     0.39139,     0.39239,     0.39339,     0.39439,      0.3954,      0.3964,      0.3974,      0.3984,      0.3994,      0.4004,      0.4014,      0.4024,      0.4034,      0.4044,     0.40541,     0.40641,     0.40741,\n",
              "           0.40841,     0.40941,     0.41041,     0.41141,     0.41241,     0.41341,     0.41441,     0.41542,     0.41642,     0.41742,     0.41842,     0.41942,     0.42042,     0.42142,     0.42242,     0.42342,     0.42442,     0.42543,     0.42643,     0.42743,     0.42843,     0.42943,     0.43043,     0.43143,\n",
              "           0.43243,     0.43343,     0.43443,     0.43544,     0.43644,     0.43744,     0.43844,     0.43944,     0.44044,     0.44144,     0.44244,     0.44344,     0.44444,     0.44545,     0.44645,     0.44745,     0.44845,     0.44945,     0.45045,     0.45145,     0.45245,     0.45345,     0.45445,     0.45546,\n",
              "           0.45646,     0.45746,     0.45846,     0.45946,     0.46046,     0.46146,     0.46246,     0.46346,     0.46446,     0.46547,     0.46647,     0.46747,     0.46847,     0.46947,     0.47047,     0.47147,     0.47247,     0.47347,     0.47447,     0.47548,     0.47648,     0.47748,     0.47848,     0.47948,\n",
              "           0.48048,     0.48148,     0.48248,     0.48348,     0.48448,     0.48549,     0.48649,     0.48749,     0.48849,     0.48949,     0.49049,     0.49149,     0.49249,     0.49349,     0.49449,      0.4955,      0.4965,      0.4975,      0.4985,      0.4995,      0.5005,      0.5015,      0.5025,      0.5035,\n",
              "            0.5045,     0.50551,     0.50651,     0.50751,     0.50851,     0.50951,     0.51051,     0.51151,     0.51251,     0.51351,     0.51451,     0.51552,     0.51652,     0.51752,     0.51852,     0.51952,     0.52052,     0.52152,     0.52252,     0.52352,     0.52452,     0.52553,     0.52653,     0.52753,\n",
              "           0.52853,     0.52953,     0.53053,     0.53153,     0.53253,     0.53353,     0.53453,     0.53554,     0.53654,     0.53754,     0.53854,     0.53954,     0.54054,     0.54154,     0.54254,     0.54354,     0.54454,     0.54555,     0.54655,     0.54755,     0.54855,     0.54955,     0.55055,     0.55155,\n",
              "           0.55255,     0.55355,     0.55455,     0.55556,     0.55656,     0.55756,     0.55856,     0.55956,     0.56056,     0.56156,     0.56256,     0.56356,     0.56456,     0.56557,     0.56657,     0.56757,     0.56857,     0.56957,     0.57057,     0.57157,     0.57257,     0.57357,     0.57457,     0.57558,\n",
              "           0.57658,     0.57758,     0.57858,     0.57958,     0.58058,     0.58158,     0.58258,     0.58358,     0.58458,     0.58559,     0.58659,     0.58759,     0.58859,     0.58959,     0.59059,     0.59159,     0.59259,     0.59359,     0.59459,      0.5956,      0.5966,      0.5976,      0.5986,      0.5996,\n",
              "            0.6006,      0.6016,      0.6026,      0.6036,      0.6046,     0.60561,     0.60661,     0.60761,     0.60861,     0.60961,     0.61061,     0.61161,     0.61261,     0.61361,     0.61461,     0.61562,     0.61662,     0.61762,     0.61862,     0.61962,     0.62062,     0.62162,     0.62262,     0.62362,\n",
              "           0.62462,     0.62563,     0.62663,     0.62763,     0.62863,     0.62963,     0.63063,     0.63163,     0.63263,     0.63363,     0.63463,     0.63564,     0.63664,     0.63764,     0.63864,     0.63964,     0.64064,     0.64164,     0.64264,     0.64364,     0.64464,     0.64565,     0.64665,     0.64765,\n",
              "           0.64865,     0.64965,     0.65065,     0.65165,     0.65265,     0.65365,     0.65465,     0.65566,     0.65666,     0.65766,     0.65866,     0.65966,     0.66066,     0.66166,     0.66266,     0.66366,     0.66466,     0.66567,     0.66667,     0.66767,     0.66867,     0.66967,     0.67067,     0.67167,\n",
              "           0.67267,     0.67367,     0.67467,     0.67568,     0.67668,     0.67768,     0.67868,     0.67968,     0.68068,     0.68168,     0.68268,     0.68368,     0.68468,     0.68569,     0.68669,     0.68769,     0.68869,     0.68969,     0.69069,     0.69169,     0.69269,     0.69369,     0.69469,      0.6957,\n",
              "            0.6967,      0.6977,      0.6987,      0.6997,      0.7007,      0.7017,      0.7027,      0.7037,      0.7047,     0.70571,     0.70671,     0.70771,     0.70871,     0.70971,     0.71071,     0.71171,     0.71271,     0.71371,     0.71471,     0.71572,     0.71672,     0.71772,     0.71872,     0.71972,\n",
              "           0.72072,     0.72172,     0.72272,     0.72372,     0.72472,     0.72573,     0.72673,     0.72773,     0.72873,     0.72973,     0.73073,     0.73173,     0.73273,     0.73373,     0.73473,     0.73574,     0.73674,     0.73774,     0.73874,     0.73974,     0.74074,     0.74174,     0.74274,     0.74374,\n",
              "           0.74474,     0.74575,     0.74675,     0.74775,     0.74875,     0.74975,     0.75075,     0.75175,     0.75275,     0.75375,     0.75475,     0.75576,     0.75676,     0.75776,     0.75876,     0.75976,     0.76076,     0.76176,     0.76276,     0.76376,     0.76476,     0.76577,     0.76677,     0.76777,\n",
              "           0.76877,     0.76977,     0.77077,     0.77177,     0.77277,     0.77377,     0.77477,     0.77578,     0.77678,     0.77778,     0.77878,     0.77978,     0.78078,     0.78178,     0.78278,     0.78378,     0.78478,     0.78579,     0.78679,     0.78779,     0.78879,     0.78979,     0.79079,     0.79179,\n",
              "           0.79279,     0.79379,     0.79479,      0.7958,      0.7968,      0.7978,      0.7988,      0.7998,      0.8008,      0.8018,      0.8028,      0.8038,      0.8048,     0.80581,     0.80681,     0.80781,     0.80881,     0.80981,     0.81081,     0.81181,     0.81281,     0.81381,     0.81481,     0.81582,\n",
              "           0.81682,     0.81782,     0.81882,     0.81982,     0.82082,     0.82182,     0.82282,     0.82382,     0.82482,     0.82583,     0.82683,     0.82783,     0.82883,     0.82983,     0.83083,     0.83183,     0.83283,     0.83383,     0.83483,     0.83584,     0.83684,     0.83784,     0.83884,     0.83984,\n",
              "           0.84084,     0.84184,     0.84284,     0.84384,     0.84484,     0.84585,     0.84685,     0.84785,     0.84885,     0.84985,     0.85085,     0.85185,     0.85285,     0.85385,     0.85485,     0.85586,     0.85686,     0.85786,     0.85886,     0.85986,     0.86086,     0.86186,     0.86286,     0.86386,\n",
              "           0.86486,     0.86587,     0.86687,     0.86787,     0.86887,     0.86987,     0.87087,     0.87187,     0.87287,     0.87387,     0.87487,     0.87588,     0.87688,     0.87788,     0.87888,     0.87988,     0.88088,     0.88188,     0.88288,     0.88388,     0.88488,     0.88589,     0.88689,     0.88789,\n",
              "           0.88889,     0.88989,     0.89089,     0.89189,     0.89289,     0.89389,     0.89489,      0.8959,      0.8969,      0.8979,      0.8989,      0.8999,      0.9009,      0.9019,      0.9029,      0.9039,      0.9049,     0.90591,     0.90691,     0.90791,     0.90891,     0.90991,     0.91091,     0.91191,\n",
              "           0.91291,     0.91391,     0.91491,     0.91592,     0.91692,     0.91792,     0.91892,     0.91992,     0.92092,     0.92192,     0.92292,     0.92392,     0.92492,     0.92593,     0.92693,     0.92793,     0.92893,     0.92993,     0.93093,     0.93193,     0.93293,     0.93393,     0.93493,     0.93594,\n",
              "           0.93694,     0.93794,     0.93894,     0.93994,     0.94094,     0.94194,     0.94294,     0.94394,     0.94494,     0.94595,     0.94695,     0.94795,     0.94895,     0.94995,     0.95095,     0.95195,     0.95295,     0.95395,     0.95495,     0.95596,     0.95696,     0.95796,     0.95896,     0.95996,\n",
              "           0.96096,     0.96196,     0.96296,     0.96396,     0.96496,     0.96597,     0.96697,     0.96797,     0.96897,     0.96997,     0.97097,     0.97197,     0.97297,     0.97397,     0.97497,     0.97598,     0.97698,     0.97798,     0.97898,     0.97998,     0.98098,     0.98198,     0.98298,     0.98398,\n",
              "           0.98498,     0.98599,     0.98699,     0.98799,     0.98899,     0.98999,     0.99099,     0.99199,     0.99299,     0.99399,     0.99499,       0.996,       0.997,       0.998,       0.999,           1]), array([[    0.19121,     0.19121,      0.2635,     0.30858,     0.34668,     0.37475,     0.39737,     0.41946,     0.43585,     0.45156,     0.46551,     0.47836,     0.49026,     0.50283,     0.51198,     0.52057,     0.53032,     0.53601,     0.54425,     0.55304,     0.55921,     0.56524,     0.57034,\n",
              "            0.57707,     0.58192,     0.58755,     0.59302,     0.59703,     0.60111,     0.60575,     0.61019,     0.61482,     0.61783,      0.6218,     0.62539,     0.62987,     0.63248,     0.63558,     0.63964,     0.64419,     0.64831,     0.65201,     0.65506,     0.65859,     0.66312,     0.66682,\n",
              "            0.66904,     0.67208,     0.67372,     0.67446,     0.67613,     0.67761,     0.68004,     0.68185,     0.68514,      0.6858,     0.68729,      0.6912,     0.69302,     0.69582,     0.69946,     0.70217,     0.70471,     0.70675,     0.70779,     0.71052,     0.71294,     0.71418,     0.71552,\n",
              "            0.71686,     0.71778,     0.71992,     0.72156,     0.72403,     0.72506,      0.7258,     0.72843,      0.7302,     0.73066,     0.73222,     0.73317,     0.73348,     0.73475,     0.73711,     0.73939,     0.74143,     0.74304,     0.74392,     0.74591,     0.74711,     0.74951,     0.74973,\n",
              "            0.75027,     0.75181,     0.75163,     0.75233,     0.75304,     0.75486,     0.75707,     0.75943,        0.76,     0.76093,     0.76147,     0.76286,     0.76383,     0.76679,     0.76869,     0.77002,     0.77036,     0.77102,     0.77154,     0.77188,      0.7715,     0.77297,     0.77319,\n",
              "            0.77381,     0.77519,     0.77642,      0.7773,     0.77885,      0.7796,     0.78005,     0.78029,     0.78128,     0.78185,     0.78302,     0.78385,     0.78482,     0.78618,     0.78703,     0.78718,     0.78733,     0.78903,      0.7903,     0.79129,     0.79223,     0.79281,     0.79353,\n",
              "            0.79384,     0.79486,     0.79526,     0.79557,     0.79637,     0.79725,     0.79788,     0.79747,     0.79717,     0.79698,     0.79679,     0.79672,     0.79758,     0.79781,     0.79859,     0.79901,     0.79988,     0.80009,     0.80024,     0.80075,     0.80095,     0.80147,     0.80175,\n",
              "            0.80207,      0.8026,     0.80501,     0.80587,      0.8073,     0.80792,     0.80734,     0.80755,     0.80798,     0.80865,     0.80885,     0.80905,     0.80931,     0.80956,     0.80982,     0.81079,     0.81119,     0.81159,     0.81239,      0.8135,     0.81404,     0.81418,     0.81381,\n",
              "            0.81343,     0.81384,      0.8141,     0.81437,     0.81512,     0.81537,     0.81571,     0.81536,     0.81599,     0.81598,     0.81634,     0.81705,     0.81666,     0.81723,     0.81759,     0.81923,     0.81887,     0.81849,     0.81886,      0.8192,     0.81956,      0.8191,     0.81877,\n",
              "            0.81935,     0.82019,     0.82086,     0.82159,     0.82226,      0.8221,     0.82181,       0.822,      0.8222,      0.8227,     0.82284,     0.82298,     0.82312,     0.82376,     0.82396,     0.82491,     0.82559,     0.82599,     0.82647,     0.82673,     0.82686,       0.827,     0.82725,\n",
              "            0.82801,     0.82851,     0.82865,     0.82878,     0.82892,     0.82943,     0.82959,     0.82976,     0.83054,     0.83099,     0.83138,     0.83168,     0.83194,      0.8316,     0.83174,     0.83285,     0.83288,     0.83296,     0.83284,     0.83271,     0.83258,     0.83245,     0.83321,\n",
              "            0.83454,     0.83498,     0.83563,     0.83657,      0.8377,     0.83835,     0.83779,     0.83812,     0.83752,     0.83713,     0.83693,     0.83715,     0.83791,       0.838,     0.83769,     0.83749,     0.83769,     0.83788,     0.83806,     0.83794,     0.83849,      0.8381,     0.83765,\n",
              "            0.83791,     0.83804,     0.83817,      0.8383,     0.83863,     0.83823,     0.83878,     0.83896,     0.83922,     0.83968,     0.83981,     0.83993,     0.84006,     0.84106,     0.84137,      0.8416,     0.84182,     0.84063,     0.84091,     0.84048,     0.84137,     0.84177,      0.8429,\n",
              "            0.84266,     0.84295,     0.84227,     0.84199,     0.84226,     0.84267,     0.84258,     0.84292,     0.84367,     0.84387,     0.84381,      0.8436,      0.8442,      0.8455,      0.8457,      0.8462,      0.8458,     0.84598,      0.8468,     0.84714,     0.84689,     0.84661,     0.84611,\n",
              "            0.84528,     0.84552,     0.84596,     0.84625,      0.8465,     0.84669,     0.84688,     0.84765,     0.84725,     0.84685,     0.84664,     0.84687,     0.84712,     0.84753,     0.84735,     0.84703,     0.84743,     0.84848,       0.849,     0.84987,     0.85008,     0.84959,     0.84967,\n",
              "            0.84975,     0.84983,     0.84991,     0.84999,     0.85007,     0.84979,     0.84941,     0.84971,     0.84968,     0.84913,     0.84887,     0.84861,     0.84868,     0.84891,     0.84888,     0.84857,     0.84824,     0.84788,     0.84873,     0.84892,     0.84911,     0.84859,     0.84875,\n",
              "            0.84891,      0.8495,     0.84975,     0.84998,     0.85031,     0.85065,     0.85095,     0.85095,     0.85075,     0.85056,     0.85037,     0.84968,     0.84978,     0.85012,     0.84959,      0.8493,     0.84886,     0.84797,     0.84807,     0.84783,     0.84759,     0.84722,     0.84682,\n",
              "             0.8466,     0.84593,     0.84612,     0.84632,      0.8465,     0.84668,     0.84686,      0.8472,     0.84728,     0.84687,     0.84621,     0.84648,     0.84702,     0.84755,     0.84836,     0.84799,     0.84824,     0.84851,     0.84865,     0.84878,     0.84892,     0.84879,     0.84847,\n",
              "            0.84886,     0.84898,     0.84909,      0.8492,     0.84932,     0.84909,     0.84872,     0.84896,     0.84869,       0.849,     0.84927,     0.84957,     0.84992,     0.84927,     0.84903,     0.84878,      0.8485,     0.84814,     0.84733,     0.84798,     0.84814,     0.84845,     0.84874,\n",
              "            0.84901,     0.84899,     0.84884,     0.84869,     0.84855,      0.8484,     0.84777,     0.84811,     0.84754,     0.84722,     0.84659,     0.84607,     0.84634,     0.84598,     0.84561,     0.84523,     0.84483,     0.84347,     0.84378,      0.8442,     0.84347,     0.84321,     0.84296,\n",
              "            0.84192,     0.84154,     0.84147,     0.84165,     0.84184,     0.84204,     0.84212,     0.84193,     0.84174,     0.84155,     0.84255,     0.84259,     0.84286,     0.84336,     0.84181,     0.84162,     0.84143,     0.84124,     0.84105,     0.84004,     0.83978,      0.8393,     0.83854,\n",
              "            0.83714,     0.83769,     0.83807,     0.83586,     0.83547,     0.83573,     0.83584,     0.83595,     0.83606,     0.83617,     0.83643,     0.83689,     0.83716,     0.83755,     0.83799,     0.83827,     0.83868,     0.83849,     0.83829,      0.8379,     0.83659,      0.8362,     0.83617,\n",
              "            0.83636,     0.83654,     0.83642,     0.83616,      0.8359,     0.83627,     0.83717,     0.83678,      0.8353,     0.83497,     0.83471,     0.83444,     0.83292,     0.83399,     0.83378,     0.83406,     0.83427,     0.83349,      0.8327,     0.83196,     0.83156,     0.83041,     0.83015,\n",
              "            0.82989,     0.83016,     0.83072,     0.83051,     0.83195,     0.83179,     0.83163,     0.83147,     0.83131,      0.8293,     0.82869,     0.82828,     0.82824,     0.82853,     0.82819,     0.82738,     0.82634,      0.8258,     0.82539,     0.82391,     0.82357,     0.82341,     0.82325,\n",
              "            0.82308,     0.82292,     0.82276,     0.82251,     0.82189,     0.82078,     0.82051,     0.82023,     0.82094,     0.82131,      0.8215,     0.82169,     0.82128,     0.82045,     0.81948,     0.81967,     0.81986,     0.81771,     0.81712,     0.81636,     0.81553,     0.81561,      0.8159,\n",
              "            0.81358,     0.81324,     0.81296,     0.81268,     0.81186,     0.81022,      0.8106,     0.81087,     0.81003,     0.80753,     0.80674,     0.80436,     0.80422,     0.80408,     0.80393,     0.80379,     0.80365,      0.8035,       0.803,     0.80257,     0.80202,     0.80049,     0.79963,\n",
              "            0.79761,     0.79789,     0.79732,      0.7956,     0.79553,     0.79611,     0.79352,     0.79309,     0.79237,     0.79248,     0.79185,     0.79213,     0.79126,     0.79038,      0.7902,     0.78976,     0.78916,     0.78828,     0.78649,      0.7849,     0.78425,     0.78454,     0.78366,\n",
              "            0.78321,     0.78274,     0.78184,      0.7803,     0.78045,        0.78,     0.77925,     0.77866,     0.77821,     0.77742,     0.77678,     0.77573,      0.7745,      0.7727,     0.77089,     0.77024,     0.76998,     0.76972,     0.76946,     0.76765,     0.76675,     0.76649,     0.76623,\n",
              "            0.76596,     0.76529,     0.76367,     0.76376,     0.76328,     0.76155,     0.76061,     0.75749,     0.75655,     0.75529,      0.7542,     0.75233,     0.75138,     0.75072,     0.75015,     0.74968,     0.74787,     0.74819,     0.74648,     0.74598,     0.74508,      0.7447,     0.74431,\n",
              "            0.74208,     0.74176,     0.74143,     0.74087,     0.74013,     0.73934,     0.73895,     0.73856,     0.73917,     0.73835,     0.73615,     0.73566,     0.73493,     0.73412,     0.73154,     0.73104,     0.72666,     0.72599,     0.72543,     0.72493,     0.72263,     0.71966,     0.71842,\n",
              "            0.71753,     0.71703,     0.71612,     0.71379,     0.71328,      0.7127,     0.71202,     0.70904,     0.70651,     0.70347,     0.70261,     0.70091,     0.70021,     0.69729,     0.69619,     0.69512,      0.6947,     0.69396,     0.69372,     0.69337,     0.69155,     0.68853,     0.68782,\n",
              "            0.68622,     0.68569,     0.68595,      0.6853,     0.68414,     0.68099,     0.67921,     0.67831,     0.67637,     0.67459,     0.67387,     0.67315,     0.67237,     0.67111,     0.66912,     0.66881,      0.6685,     0.66813,     0.66758,     0.66472,     0.66374,     0.66301,     0.66087,\n",
              "            0.65504,     0.65429,     0.65319,     0.65224,     0.64819,     0.64744,     0.64615,     0.64642,     0.64308,     0.63955,     0.63688,     0.63437,      0.6335,     0.63273,     0.62997,     0.62734,     0.62365,     0.62144,     0.61736,     0.61671,     0.61632,     0.61592,     0.61303,\n",
              "            0.61127,     0.60535,     0.60143,     0.60062,     0.59981,     0.59781,     0.59677,     0.59513,     0.59312,     0.59251,     0.58854,     0.58772,     0.58536,     0.58352,     0.58064,     0.58055,     0.57979,     0.57719,      0.5718,     0.57096,     0.56681,     0.56468,     0.56155,\n",
              "            0.55829,     0.55519,     0.55205,     0.55118,     0.54406,     0.53745,     0.53229,     0.52927,     0.52429,     0.52298,     0.51943,     0.51852,      0.5159,     0.51185,     0.50655,     0.49894,      0.4969,     0.49041,     0.48574,     0.48298,     0.48227,     0.47873,     0.47777,\n",
              "            0.47541,     0.47296,     0.47151,     0.46833,     0.46362,     0.46072,     0.45874,     0.45801,     0.45413,     0.44701,     0.44601,     0.44174,     0.43346,     0.42676,     0.42292,     0.41759,     0.41445,     0.40914,     0.40511,     0.39981,     0.39589,     0.38933,     0.38483,\n",
              "            0.37969,     0.36841,     0.36311,     0.36087,     0.36004,     0.35836,     0.34346,     0.34154,     0.33494,     0.32887,     0.32634,     0.32115,     0.31421,     0.30989,     0.30291,     0.29305,     0.28588,     0.27531,     0.27176,     0.27052,     0.25514,     0.25155,     0.25028,\n",
              "            0.24666,     0.24135,     0.23817,      0.2374,     0.23166,     0.22396,     0.21619,     0.21314,     0.21116,     0.20231,     0.19829,     0.19378,     0.19039,     0.18213,     0.17399,     0.16782,     0.16302,     0.15534,     0.15161,      0.1509,      0.1502,     0.14248,     0.14085,\n",
              "            0.13977,     0.13839,     0.13455,      0.1327,     0.13126,     0.12593,      0.1227,     0.12124,     0.11814,     0.11192,     0.11103,     0.11015,     0.10887,     0.10465,    0.098478,    0.091289,    0.088467,    0.084568,     0.08324,    0.082328,    0.081415,    0.071749,     0.07021,\n",
              "           0.061272,    0.059926,    0.058757,    0.049319,    0.048795,    0.048269,    0.047744,    0.047187,    0.046398,    0.045608,    0.044856,    0.044263,    0.043669,    0.043076,    0.041272,    0.039694,    0.038899,    0.038103,    0.033572,    0.029544,    0.028539,     0.02831,     0.02808,\n",
              "            0.02785,     0.02762,     0.02739,     0.02716,     0.02693,      0.0267,     0.02647,    0.023851,    0.023479,    0.023106,    0.022732,    0.022359,    0.021986,    0.021612,    0.020729,    0.019756,    0.019089,    0.018857,    0.018625,    0.018393,    0.018161,    0.017929,    0.017697,\n",
              "           0.017464,    0.017232,       0.017,    0.016669,    0.015855,     0.01504,    0.014291,    0.013747,    0.013203,    0.012659,    0.012114,   0.0091145,   0.0084995,   0.0078841,   0.0072683,   0.0048936,    0.004487,   0.0041339,   0.0037808,   0.0034275,   0.0030741,   0.0027206,           0,\n",
              "                  0,           0,           0,           0,           0,           0,           0,           0,           0,           0,           0,           0,           0,           0,           0,           0,           0,           0,           0,           0,           0,           0,           0,\n",
              "                  0,           0,           0,           0,           0,           0,           0,           0,           0,           0,           0]]), 'Confidence', 'F1'], [array([          0,    0.001001,    0.002002,    0.003003,    0.004004,    0.005005,    0.006006,    0.007007,    0.008008,    0.009009,     0.01001,    0.011011,    0.012012,    0.013013,    0.014014,    0.015015,    0.016016,    0.017017,    0.018018,    0.019019,     0.02002,    0.021021,    0.022022,    0.023023,\n",
              "          0.024024,    0.025025,    0.026026,    0.027027,    0.028028,    0.029029,     0.03003,    0.031031,    0.032032,    0.033033,    0.034034,    0.035035,    0.036036,    0.037037,    0.038038,    0.039039,     0.04004,    0.041041,    0.042042,    0.043043,    0.044044,    0.045045,    0.046046,    0.047047,\n",
              "          0.048048,    0.049049,     0.05005,    0.051051,    0.052052,    0.053053,    0.054054,    0.055055,    0.056056,    0.057057,    0.058058,    0.059059,     0.06006,    0.061061,    0.062062,    0.063063,    0.064064,    0.065065,    0.066066,    0.067067,    0.068068,    0.069069,     0.07007,    0.071071,\n",
              "          0.072072,    0.073073,    0.074074,    0.075075,    0.076076,    0.077077,    0.078078,    0.079079,     0.08008,    0.081081,    0.082082,    0.083083,    0.084084,    0.085085,    0.086086,    0.087087,    0.088088,    0.089089,     0.09009,    0.091091,    0.092092,    0.093093,    0.094094,    0.095095,\n",
              "          0.096096,    0.097097,    0.098098,    0.099099,      0.1001,      0.1011,      0.1021,      0.1031,      0.1041,     0.10511,     0.10611,     0.10711,     0.10811,     0.10911,     0.11011,     0.11111,     0.11211,     0.11311,     0.11411,     0.11512,     0.11612,     0.11712,     0.11812,     0.11912,\n",
              "           0.12012,     0.12112,     0.12212,     0.12312,     0.12412,     0.12513,     0.12613,     0.12713,     0.12813,     0.12913,     0.13013,     0.13113,     0.13213,     0.13313,     0.13413,     0.13514,     0.13614,     0.13714,     0.13814,     0.13914,     0.14014,     0.14114,     0.14214,     0.14314,\n",
              "           0.14414,     0.14515,     0.14615,     0.14715,     0.14815,     0.14915,     0.15015,     0.15115,     0.15215,     0.15315,     0.15415,     0.15516,     0.15616,     0.15716,     0.15816,     0.15916,     0.16016,     0.16116,     0.16216,     0.16316,     0.16416,     0.16517,     0.16617,     0.16717,\n",
              "           0.16817,     0.16917,     0.17017,     0.17117,     0.17217,     0.17317,     0.17417,     0.17518,     0.17618,     0.17718,     0.17818,     0.17918,     0.18018,     0.18118,     0.18218,     0.18318,     0.18418,     0.18519,     0.18619,     0.18719,     0.18819,     0.18919,     0.19019,     0.19119,\n",
              "           0.19219,     0.19319,     0.19419,      0.1952,      0.1962,      0.1972,      0.1982,      0.1992,      0.2002,      0.2012,      0.2022,      0.2032,      0.2042,     0.20521,     0.20621,     0.20721,     0.20821,     0.20921,     0.21021,     0.21121,     0.21221,     0.21321,     0.21421,     0.21522,\n",
              "           0.21622,     0.21722,     0.21822,     0.21922,     0.22022,     0.22122,     0.22222,     0.22322,     0.22422,     0.22523,     0.22623,     0.22723,     0.22823,     0.22923,     0.23023,     0.23123,     0.23223,     0.23323,     0.23423,     0.23524,     0.23624,     0.23724,     0.23824,     0.23924,\n",
              "           0.24024,     0.24124,     0.24224,     0.24324,     0.24424,     0.24525,     0.24625,     0.24725,     0.24825,     0.24925,     0.25025,     0.25125,     0.25225,     0.25325,     0.25425,     0.25526,     0.25626,     0.25726,     0.25826,     0.25926,     0.26026,     0.26126,     0.26226,     0.26326,\n",
              "           0.26426,     0.26527,     0.26627,     0.26727,     0.26827,     0.26927,     0.27027,     0.27127,     0.27227,     0.27327,     0.27427,     0.27528,     0.27628,     0.27728,     0.27828,     0.27928,     0.28028,     0.28128,     0.28228,     0.28328,     0.28428,     0.28529,     0.28629,     0.28729,\n",
              "           0.28829,     0.28929,     0.29029,     0.29129,     0.29229,     0.29329,     0.29429,      0.2953,      0.2963,      0.2973,      0.2983,      0.2993,      0.3003,      0.3013,      0.3023,      0.3033,      0.3043,     0.30531,     0.30631,     0.30731,     0.30831,     0.30931,     0.31031,     0.31131,\n",
              "           0.31231,     0.31331,     0.31431,     0.31532,     0.31632,     0.31732,     0.31832,     0.31932,     0.32032,     0.32132,     0.32232,     0.32332,     0.32432,     0.32533,     0.32633,     0.32733,     0.32833,     0.32933,     0.33033,     0.33133,     0.33233,     0.33333,     0.33433,     0.33534,\n",
              "           0.33634,     0.33734,     0.33834,     0.33934,     0.34034,     0.34134,     0.34234,     0.34334,     0.34434,     0.34535,     0.34635,     0.34735,     0.34835,     0.34935,     0.35035,     0.35135,     0.35235,     0.35335,     0.35435,     0.35536,     0.35636,     0.35736,     0.35836,     0.35936,\n",
              "           0.36036,     0.36136,     0.36236,     0.36336,     0.36436,     0.36537,     0.36637,     0.36737,     0.36837,     0.36937,     0.37037,     0.37137,     0.37237,     0.37337,     0.37437,     0.37538,     0.37638,     0.37738,     0.37838,     0.37938,     0.38038,     0.38138,     0.38238,     0.38338,\n",
              "           0.38438,     0.38539,     0.38639,     0.38739,     0.38839,     0.38939,     0.39039,     0.39139,     0.39239,     0.39339,     0.39439,      0.3954,      0.3964,      0.3974,      0.3984,      0.3994,      0.4004,      0.4014,      0.4024,      0.4034,      0.4044,     0.40541,     0.40641,     0.40741,\n",
              "           0.40841,     0.40941,     0.41041,     0.41141,     0.41241,     0.41341,     0.41441,     0.41542,     0.41642,     0.41742,     0.41842,     0.41942,     0.42042,     0.42142,     0.42242,     0.42342,     0.42442,     0.42543,     0.42643,     0.42743,     0.42843,     0.42943,     0.43043,     0.43143,\n",
              "           0.43243,     0.43343,     0.43443,     0.43544,     0.43644,     0.43744,     0.43844,     0.43944,     0.44044,     0.44144,     0.44244,     0.44344,     0.44444,     0.44545,     0.44645,     0.44745,     0.44845,     0.44945,     0.45045,     0.45145,     0.45245,     0.45345,     0.45445,     0.45546,\n",
              "           0.45646,     0.45746,     0.45846,     0.45946,     0.46046,     0.46146,     0.46246,     0.46346,     0.46446,     0.46547,     0.46647,     0.46747,     0.46847,     0.46947,     0.47047,     0.47147,     0.47247,     0.47347,     0.47447,     0.47548,     0.47648,     0.47748,     0.47848,     0.47948,\n",
              "           0.48048,     0.48148,     0.48248,     0.48348,     0.48448,     0.48549,     0.48649,     0.48749,     0.48849,     0.48949,     0.49049,     0.49149,     0.49249,     0.49349,     0.49449,      0.4955,      0.4965,      0.4975,      0.4985,      0.4995,      0.5005,      0.5015,      0.5025,      0.5035,\n",
              "            0.5045,     0.50551,     0.50651,     0.50751,     0.50851,     0.50951,     0.51051,     0.51151,     0.51251,     0.51351,     0.51451,     0.51552,     0.51652,     0.51752,     0.51852,     0.51952,     0.52052,     0.52152,     0.52252,     0.52352,     0.52452,     0.52553,     0.52653,     0.52753,\n",
              "           0.52853,     0.52953,     0.53053,     0.53153,     0.53253,     0.53353,     0.53453,     0.53554,     0.53654,     0.53754,     0.53854,     0.53954,     0.54054,     0.54154,     0.54254,     0.54354,     0.54454,     0.54555,     0.54655,     0.54755,     0.54855,     0.54955,     0.55055,     0.55155,\n",
              "           0.55255,     0.55355,     0.55455,     0.55556,     0.55656,     0.55756,     0.55856,     0.55956,     0.56056,     0.56156,     0.56256,     0.56356,     0.56456,     0.56557,     0.56657,     0.56757,     0.56857,     0.56957,     0.57057,     0.57157,     0.57257,     0.57357,     0.57457,     0.57558,\n",
              "           0.57658,     0.57758,     0.57858,     0.57958,     0.58058,     0.58158,     0.58258,     0.58358,     0.58458,     0.58559,     0.58659,     0.58759,     0.58859,     0.58959,     0.59059,     0.59159,     0.59259,     0.59359,     0.59459,      0.5956,      0.5966,      0.5976,      0.5986,      0.5996,\n",
              "            0.6006,      0.6016,      0.6026,      0.6036,      0.6046,     0.60561,     0.60661,     0.60761,     0.60861,     0.60961,     0.61061,     0.61161,     0.61261,     0.61361,     0.61461,     0.61562,     0.61662,     0.61762,     0.61862,     0.61962,     0.62062,     0.62162,     0.62262,     0.62362,\n",
              "           0.62462,     0.62563,     0.62663,     0.62763,     0.62863,     0.62963,     0.63063,     0.63163,     0.63263,     0.63363,     0.63463,     0.63564,     0.63664,     0.63764,     0.63864,     0.63964,     0.64064,     0.64164,     0.64264,     0.64364,     0.64464,     0.64565,     0.64665,     0.64765,\n",
              "           0.64865,     0.64965,     0.65065,     0.65165,     0.65265,     0.65365,     0.65465,     0.65566,     0.65666,     0.65766,     0.65866,     0.65966,     0.66066,     0.66166,     0.66266,     0.66366,     0.66466,     0.66567,     0.66667,     0.66767,     0.66867,     0.66967,     0.67067,     0.67167,\n",
              "           0.67267,     0.67367,     0.67467,     0.67568,     0.67668,     0.67768,     0.67868,     0.67968,     0.68068,     0.68168,     0.68268,     0.68368,     0.68468,     0.68569,     0.68669,     0.68769,     0.68869,     0.68969,     0.69069,     0.69169,     0.69269,     0.69369,     0.69469,      0.6957,\n",
              "            0.6967,      0.6977,      0.6987,      0.6997,      0.7007,      0.7017,      0.7027,      0.7037,      0.7047,     0.70571,     0.70671,     0.70771,     0.70871,     0.70971,     0.71071,     0.71171,     0.71271,     0.71371,     0.71471,     0.71572,     0.71672,     0.71772,     0.71872,     0.71972,\n",
              "           0.72072,     0.72172,     0.72272,     0.72372,     0.72472,     0.72573,     0.72673,     0.72773,     0.72873,     0.72973,     0.73073,     0.73173,     0.73273,     0.73373,     0.73473,     0.73574,     0.73674,     0.73774,     0.73874,     0.73974,     0.74074,     0.74174,     0.74274,     0.74374,\n",
              "           0.74474,     0.74575,     0.74675,     0.74775,     0.74875,     0.74975,     0.75075,     0.75175,     0.75275,     0.75375,     0.75475,     0.75576,     0.75676,     0.75776,     0.75876,     0.75976,     0.76076,     0.76176,     0.76276,     0.76376,     0.76476,     0.76577,     0.76677,     0.76777,\n",
              "           0.76877,     0.76977,     0.77077,     0.77177,     0.77277,     0.77377,     0.77477,     0.77578,     0.77678,     0.77778,     0.77878,     0.77978,     0.78078,     0.78178,     0.78278,     0.78378,     0.78478,     0.78579,     0.78679,     0.78779,     0.78879,     0.78979,     0.79079,     0.79179,\n",
              "           0.79279,     0.79379,     0.79479,      0.7958,      0.7968,      0.7978,      0.7988,      0.7998,      0.8008,      0.8018,      0.8028,      0.8038,      0.8048,     0.80581,     0.80681,     0.80781,     0.80881,     0.80981,     0.81081,     0.81181,     0.81281,     0.81381,     0.81481,     0.81582,\n",
              "           0.81682,     0.81782,     0.81882,     0.81982,     0.82082,     0.82182,     0.82282,     0.82382,     0.82482,     0.82583,     0.82683,     0.82783,     0.82883,     0.82983,     0.83083,     0.83183,     0.83283,     0.83383,     0.83483,     0.83584,     0.83684,     0.83784,     0.83884,     0.83984,\n",
              "           0.84084,     0.84184,     0.84284,     0.84384,     0.84484,     0.84585,     0.84685,     0.84785,     0.84885,     0.84985,     0.85085,     0.85185,     0.85285,     0.85385,     0.85485,     0.85586,     0.85686,     0.85786,     0.85886,     0.85986,     0.86086,     0.86186,     0.86286,     0.86386,\n",
              "           0.86486,     0.86587,     0.86687,     0.86787,     0.86887,     0.86987,     0.87087,     0.87187,     0.87287,     0.87387,     0.87487,     0.87588,     0.87688,     0.87788,     0.87888,     0.87988,     0.88088,     0.88188,     0.88288,     0.88388,     0.88488,     0.88589,     0.88689,     0.88789,\n",
              "           0.88889,     0.88989,     0.89089,     0.89189,     0.89289,     0.89389,     0.89489,      0.8959,      0.8969,      0.8979,      0.8989,      0.8999,      0.9009,      0.9019,      0.9029,      0.9039,      0.9049,     0.90591,     0.90691,     0.90791,     0.90891,     0.90991,     0.91091,     0.91191,\n",
              "           0.91291,     0.91391,     0.91491,     0.91592,     0.91692,     0.91792,     0.91892,     0.91992,     0.92092,     0.92192,     0.92292,     0.92392,     0.92492,     0.92593,     0.92693,     0.92793,     0.92893,     0.92993,     0.93093,     0.93193,     0.93293,     0.93393,     0.93493,     0.93594,\n",
              "           0.93694,     0.93794,     0.93894,     0.93994,     0.94094,     0.94194,     0.94294,     0.94394,     0.94494,     0.94595,     0.94695,     0.94795,     0.94895,     0.94995,     0.95095,     0.95195,     0.95295,     0.95395,     0.95495,     0.95596,     0.95696,     0.95796,     0.95896,     0.95996,\n",
              "           0.96096,     0.96196,     0.96296,     0.96396,     0.96496,     0.96597,     0.96697,     0.96797,     0.96897,     0.96997,     0.97097,     0.97197,     0.97297,     0.97397,     0.97497,     0.97598,     0.97698,     0.97798,     0.97898,     0.97998,     0.98098,     0.98198,     0.98298,     0.98398,\n",
              "           0.98498,     0.98599,     0.98699,     0.98799,     0.98899,     0.98999,     0.99099,     0.99199,     0.99299,     0.99399,     0.99499,       0.996,       0.997,       0.998,       0.999,           1]), array([[      0.106,       0.106,     0.15249,      0.1837,     0.21136,     0.23267,     0.25046,     0.26835,     0.28192,      0.2952,     0.30725,     0.31854,     0.32932,     0.34076,     0.34922,     0.35743,      0.3667,     0.37216,     0.38034,     0.38899,     0.39512,     0.40116,     0.40676,\n",
              "            0.41364,     0.41865,      0.4245,     0.43023,     0.43471,     0.43931,     0.44428,     0.44908,     0.45412,      0.4574,     0.46206,     0.46603,     0.47103,     0.47395,     0.47744,     0.48203,     0.48723,     0.49195,     0.49656,      0.5001,     0.50423,     0.50956,     0.51395,\n",
              "            0.51659,     0.52058,     0.52293,     0.52456,     0.52658,     0.52839,     0.53134,     0.53356,      0.5376,     0.53841,     0.54064,      0.5455,     0.54859,     0.55211,      0.5567,     0.56058,     0.56382,     0.56644,     0.56795,     0.57175,     0.57489,     0.57696,     0.57934,\n",
              "            0.58139,     0.58307,      0.5859,     0.58808,     0.59137,     0.59274,     0.59423,     0.59776,     0.60014,     0.60127,     0.60339,      0.6052,     0.60561,     0.60735,     0.61058,     0.61425,     0.61706,      0.6193,     0.62052,      0.6233,     0.62552,      0.6289,     0.62921,\n",
              "            0.62997,     0.63214,     0.63231,     0.63345,     0.63445,     0.63704,     0.64019,     0.64358,      0.6444,     0.64574,     0.64652,     0.64853,     0.64992,     0.65422,     0.65699,     0.65894,     0.65943,     0.66103,     0.66178,     0.66251,     0.66296,     0.66514,     0.66589,\n",
              "            0.66765,     0.66971,     0.67155,     0.67288,      0.6752,     0.67633,     0.67701,     0.67736,     0.67885,     0.67973,      0.6815,     0.68342,      0.6849,     0.68698,     0.68826,     0.68849,     0.68873,     0.69132,     0.69328,     0.69481,     0.69625,     0.69716,     0.69828,\n",
              "            0.69876,     0.70033,     0.70095,     0.70143,     0.70268,     0.70476,     0.70574,     0.70559,     0.70546,     0.70538,      0.7053,     0.70536,     0.70671,      0.7078,     0.70903,     0.70969,     0.71106,     0.71213,     0.71311,     0.71392,     0.71425,     0.71507,     0.71552,\n",
              "            0.71602,     0.71688,     0.72072,      0.7221,      0.7244,     0.72543,     0.72519,     0.72558,     0.72627,     0.72735,     0.72767,       0.728,     0.72841,     0.72883,     0.72924,     0.73083,     0.73147,     0.73212,     0.73343,     0.73524,     0.73612,     0.73649,     0.73634,\n",
              "            0.73672,     0.73739,     0.73781,     0.73825,      0.7403,      0.7407,     0.74126,     0.74137,     0.74274,     0.74333,     0.74394,     0.74511,     0.74529,     0.74623,     0.74684,     0.74957,     0.74957,     0.75002,     0.75064,     0.75121,     0.75181,     0.75199,     0.75186,\n",
              "            0.75316,     0.75543,     0.75656,      0.7578,     0.75895,      0.7591,     0.75904,     0.75938,     0.75971,     0.76057,     0.76081,     0.76105,     0.76128,     0.76239,     0.76273,     0.76524,     0.76642,     0.76709,     0.76793,     0.76837,      0.7686,     0.76884,     0.76928,\n",
              "             0.7706,     0.77146,      0.7717,     0.77194,     0.77217,     0.77305,     0.77334,     0.77363,     0.77499,     0.77669,     0.77737,     0.77789,     0.77834,     0.77833,     0.77891,     0.78087,     0.78142,     0.78212,     0.78207,     0.78203,     0.78198,     0.78194,     0.78337,\n",
              "            0.78572,      0.7865,     0.78765,     0.79027,     0.79229,     0.79346,     0.79342,     0.79401,     0.79392,     0.79379,     0.79383,     0.79422,     0.79558,      0.7969,      0.7968,     0.79679,     0.79715,     0.79751,     0.79835,      0.7986,     0.79993,      0.7998,     0.79965,\n",
              "            0.80054,     0.80078,     0.80102,     0.80126,     0.80215,     0.80202,     0.80314,     0.80347,     0.80396,      0.8048,     0.80503,     0.80526,     0.80549,     0.80733,     0.80894,     0.80935,     0.80977,     0.80945,     0.81029,     0.81039,     0.81205,      0.8128,      0.8155,\n",
              "            0.81552,     0.81607,     0.81607,     0.81599,      0.8169,     0.81766,     0.81858,     0.81922,     0.82062,     0.82101,     0.82124,     0.82158,     0.82271,     0.82519,     0.82558,     0.82675,     0.82663,     0.82722,     0.82878,     0.82944,     0.82939,     0.82931,     0.82916,\n",
              "            0.82892,     0.82968,     0.83164,     0.83221,      0.8327,     0.83306,     0.83343,     0.83492,     0.83529,     0.83518,     0.83524,     0.83568,     0.83617,     0.83698,     0.83778,     0.83777,     0.83909,     0.84115,     0.84218,     0.84389,      0.8443,     0.84451,     0.84467,\n",
              "            0.84483,     0.84499,     0.84515,     0.84531,     0.84547,     0.84543,     0.84534,     0.84594,     0.84628,     0.84613,     0.84606,     0.84599,     0.84628,     0.84674,     0.84695,     0.84686,     0.84678,     0.84668,     0.84879,     0.84918,     0.84956,     0.84972,     0.85005,\n",
              "            0.85038,     0.85155,     0.85205,     0.85252,     0.85318,     0.85386,     0.85447,     0.85467,     0.85462,     0.85457,     0.85453,     0.85435,     0.85582,     0.85722,     0.85709,     0.85701,      0.8569,     0.85716,     0.85763,     0.85757,     0.85751,     0.85742,     0.85733,\n",
              "             0.8582,     0.85806,     0.85845,     0.85885,     0.85924,     0.85961,     0.85997,     0.86067,      0.8612,      0.8611,     0.86094,     0.86178,     0.86289,       0.864,     0.86626,     0.86617,     0.86675,     0.86731,      0.8676,     0.86788,     0.86816,      0.8683,     0.86856,\n",
              "            0.86937,     0.86961,     0.86985,     0.87009,     0.87033,     0.87033,     0.87025,     0.87129,     0.87123,     0.87233,     0.87291,     0.87355,     0.87449,     0.87435,     0.87429,     0.87424,     0.87418,     0.87409,     0.87422,     0.87608,     0.87734,       0.878,     0.87861,\n",
              "             0.8792,     0.87936,     0.87932,     0.87929,     0.87926,     0.87923,     0.87909,     0.88005,     0.88007,     0.88094,      0.8809,     0.88129,     0.88188,     0.88181,     0.88173,     0.88165,     0.88157,     0.88134,     0.88202,     0.88353,     0.88444,     0.88439,     0.88433,\n",
              "            0.88411,     0.88404,     0.88422,     0.88462,     0.88503,     0.88697,     0.88737,     0.88734,      0.8873,     0.88726,     0.89072,     0.89116,     0.89178,      0.8929,     0.89278,     0.89274,      0.8927,     0.89267,     0.89374,     0.89354,     0.89349,     0.89452,     0.89437,\n",
              "            0.89419,     0.89546,     0.89653,     0.89611,     0.89604,     0.89728,     0.89753,     0.89779,     0.89804,      0.8983,     0.89889,     0.89995,     0.90059,      0.9015,     0.90251,     0.90316,     0.90411,     0.90528,     0.90645,     0.90812,     0.90789,     0.90783,     0.90808,\n",
              "            0.90852,     0.90896,     0.90906,     0.90902,     0.90897,     0.90998,     0.91281,     0.91274,      0.9125,     0.91244,      0.9124,     0.91236,     0.91211,     0.91472,     0.91595,     0.91663,     0.91726,     0.91714,     0.91702,      0.9169,     0.91684,     0.91666,     0.91662,\n",
              "            0.91658,     0.91947,     0.92086,     0.92214,     0.92581,     0.92579,     0.92576,     0.92574,     0.92572,     0.92543,     0.92535,     0.92529,     0.92563,     0.92634,     0.92658,     0.92647,     0.92764,     0.92757,     0.92751,      0.9273,     0.92726,     0.92723,     0.92721,\n",
              "            0.92719,     0.92717,     0.92848,     0.92978,     0.93229,     0.93363,     0.93359,     0.93356,     0.93573,      0.9367,     0.93719,     0.93769,     0.93783,     0.93773,     0.93792,     0.93842,     0.93892,      0.9388,     0.93981,     0.94148,     0.94138,     0.94199,     0.94276,\n",
              "            0.94259,     0.94256,     0.94252,     0.94249,      0.9424,     0.94223,     0.94326,      0.9452,     0.94511,     0.94484,      0.9457,     0.94598,     0.94597,     0.94595,     0.94593,     0.94592,      0.9459,     0.94738,     0.94733,     0.94729,     0.94723,     0.94707,     0.94698,\n",
              "            0.94712,     0.94793,     0.94979,     0.94962,     0.95048,     0.95212,     0.95252,     0.95248,     0.95241,     0.95399,      0.9541,     0.95494,     0.95546,     0.95538,     0.95696,     0.95692,     0.95687,     0.95679,     0.95798,     0.95812,     0.95885,     0.95971,     0.95965,\n",
              "            0.95961,     0.95957,      0.9595,     0.95976,     0.96104,       0.961,     0.96095,      0.9609,     0.96086,      0.9608,     0.96207,     0.96234,     0.96394,     0.96381,     0.96368,     0.96363,     0.96361,     0.96359,     0.96357,     0.96344,     0.96337,     0.96335,     0.96333,\n",
              "            0.96331,     0.96326,     0.96663,     0.96785,     0.96836,     0.97002,     0.96997,     0.97158,     0.97152,     0.97145,     0.97138,     0.97127,     0.97121,     0.97117,     0.97114,     0.97111,     0.97196,     0.97473,     0.97664,     0.97839,     0.97834,     0.97833,     0.97831,\n",
              "            0.97821,     0.97819,     0.97818,     0.97815,     0.97812,     0.97808,     0.97806,     0.97805,     0.98369,     0.98387,      0.9838,     0.98378,     0.98376,     0.98373,     0.98364,     0.98362,     0.98347,     0.98345,     0.98343,     0.98341,     0.98333,     0.98322,     0.98318,\n",
              "            0.98314,     0.98313,     0.98309,     0.98301,     0.98299,     0.98297,     0.98294,     0.98283,     0.98274,     0.98263,      0.9826,     0.98253,     0.98251,     0.98239,     0.98368,     0.98447,     0.98446,     0.98443,     0.98599,     0.98659,     0.98654,     0.98645,     0.98643,\n",
              "            0.98638,     0.98637,      0.9877,     0.98859,     0.98856,     0.98848,     0.98843,     0.98841,     0.98836,     0.98832,      0.9883,     0.98828,     0.98826,     0.98823,     0.98817,     0.98817,     0.98816,     0.98815,     0.98813,     0.98806,     0.98803,     0.98801,     0.98795,\n",
              "             0.9878,     0.98778,     0.98775,     0.99014,     0.99005,     0.99003,     0.99071,     0.99198,     0.99242,     0.99236,     0.99231,     0.99276,     0.99482,     0.99481,     0.99477,     0.99474,      0.9947,     0.99616,      0.9973,      0.9973,     0.99729,     0.99729,     0.99727,\n",
              "            0.99726,     0.99722,      0.9972,     0.99719,     0.99719,     0.99717,     0.99716,     0.99715,     0.99714,     0.99714,     0.99711,      0.9971,     0.99709,     0.99707,     0.99705,     0.99876,           1,           1,           1,           1,           1,           1,           1,\n",
              "                  1,           1,           1,           1,           1,           1,           1,           1,           1,           1,           1,           1,           1,           1,           1,           1,           1,           1,           1,           1,           1,           1,           1,\n",
              "                  1,           1,           1,           1,           1,           1,           1,           1,           1,           1,           1,           1,           1,           1,           1,           1,           1,           1,           1,           1,           1,           1,           1,\n",
              "                  1,           1,           1,           1,           1,           1,           1,           1,           1,           1,           1,           1,           1,           1,           1,           1,           1,           1,           1,           1,           1,           1,           1,\n",
              "                  1,           1,           1,           1,           1,           1,           1,           1,           1,           1,           1,           1,           1,           1,           1,           1,           1,           1,           1,           1,           1,           1,           1,\n",
              "                  1,           1,           1,           1,           1,           1,           1,           1,           1,           1,           1,           1,           1,           1,           1,           1,           1,           1,           1,           1,           1,           1,           1,\n",
              "                  1,           1,           1,           1,           1,           1,           1,           1,           1,           1,           1,           1,           1,           1,           1,           1,           1,           1,           1,           1,           1,           1,           1,\n",
              "                  1,           1,           1,           1,           1,           1,           1,           1,           1,           1,           1,           1,           1,           1,           1,           1,           1,           1,           1,           1,           1,           1,           1,\n",
              "                  1,           1,           1,           1,           1,           1,           1,           1,           1,           1,           1,           1,           1,           1,           1,           1,           1,           1,           1,           1,           1,           1,           1,\n",
              "                  1,           1,           1,           1,           1,           1,           1,           1,           1,           1,           1,           1,           1,           1,           1,           1,           1,           1,           1,           1,           1,           1,           1,\n",
              "                  1,           1,           1,           1,           1,           1,           1,           1,           1,           1,           1]]), 'Confidence', 'Precision'], [array([          0,    0.001001,    0.002002,    0.003003,    0.004004,    0.005005,    0.006006,    0.007007,    0.008008,    0.009009,     0.01001,    0.011011,    0.012012,    0.013013,    0.014014,    0.015015,    0.016016,    0.017017,    0.018018,    0.019019,     0.02002,    0.021021,    0.022022,    0.023023,\n",
              "          0.024024,    0.025025,    0.026026,    0.027027,    0.028028,    0.029029,     0.03003,    0.031031,    0.032032,    0.033033,    0.034034,    0.035035,    0.036036,    0.037037,    0.038038,    0.039039,     0.04004,    0.041041,    0.042042,    0.043043,    0.044044,    0.045045,    0.046046,    0.047047,\n",
              "          0.048048,    0.049049,     0.05005,    0.051051,    0.052052,    0.053053,    0.054054,    0.055055,    0.056056,    0.057057,    0.058058,    0.059059,     0.06006,    0.061061,    0.062062,    0.063063,    0.064064,    0.065065,    0.066066,    0.067067,    0.068068,    0.069069,     0.07007,    0.071071,\n",
              "          0.072072,    0.073073,    0.074074,    0.075075,    0.076076,    0.077077,    0.078078,    0.079079,     0.08008,    0.081081,    0.082082,    0.083083,    0.084084,    0.085085,    0.086086,    0.087087,    0.088088,    0.089089,     0.09009,    0.091091,    0.092092,    0.093093,    0.094094,    0.095095,\n",
              "          0.096096,    0.097097,    0.098098,    0.099099,      0.1001,      0.1011,      0.1021,      0.1031,      0.1041,     0.10511,     0.10611,     0.10711,     0.10811,     0.10911,     0.11011,     0.11111,     0.11211,     0.11311,     0.11411,     0.11512,     0.11612,     0.11712,     0.11812,     0.11912,\n",
              "           0.12012,     0.12112,     0.12212,     0.12312,     0.12412,     0.12513,     0.12613,     0.12713,     0.12813,     0.12913,     0.13013,     0.13113,     0.13213,     0.13313,     0.13413,     0.13514,     0.13614,     0.13714,     0.13814,     0.13914,     0.14014,     0.14114,     0.14214,     0.14314,\n",
              "           0.14414,     0.14515,     0.14615,     0.14715,     0.14815,     0.14915,     0.15015,     0.15115,     0.15215,     0.15315,     0.15415,     0.15516,     0.15616,     0.15716,     0.15816,     0.15916,     0.16016,     0.16116,     0.16216,     0.16316,     0.16416,     0.16517,     0.16617,     0.16717,\n",
              "           0.16817,     0.16917,     0.17017,     0.17117,     0.17217,     0.17317,     0.17417,     0.17518,     0.17618,     0.17718,     0.17818,     0.17918,     0.18018,     0.18118,     0.18218,     0.18318,     0.18418,     0.18519,     0.18619,     0.18719,     0.18819,     0.18919,     0.19019,     0.19119,\n",
              "           0.19219,     0.19319,     0.19419,      0.1952,      0.1962,      0.1972,      0.1982,      0.1992,      0.2002,      0.2012,      0.2022,      0.2032,      0.2042,     0.20521,     0.20621,     0.20721,     0.20821,     0.20921,     0.21021,     0.21121,     0.21221,     0.21321,     0.21421,     0.21522,\n",
              "           0.21622,     0.21722,     0.21822,     0.21922,     0.22022,     0.22122,     0.22222,     0.22322,     0.22422,     0.22523,     0.22623,     0.22723,     0.22823,     0.22923,     0.23023,     0.23123,     0.23223,     0.23323,     0.23423,     0.23524,     0.23624,     0.23724,     0.23824,     0.23924,\n",
              "           0.24024,     0.24124,     0.24224,     0.24324,     0.24424,     0.24525,     0.24625,     0.24725,     0.24825,     0.24925,     0.25025,     0.25125,     0.25225,     0.25325,     0.25425,     0.25526,     0.25626,     0.25726,     0.25826,     0.25926,     0.26026,     0.26126,     0.26226,     0.26326,\n",
              "           0.26426,     0.26527,     0.26627,     0.26727,     0.26827,     0.26927,     0.27027,     0.27127,     0.27227,     0.27327,     0.27427,     0.27528,     0.27628,     0.27728,     0.27828,     0.27928,     0.28028,     0.28128,     0.28228,     0.28328,     0.28428,     0.28529,     0.28629,     0.28729,\n",
              "           0.28829,     0.28929,     0.29029,     0.29129,     0.29229,     0.29329,     0.29429,      0.2953,      0.2963,      0.2973,      0.2983,      0.2993,      0.3003,      0.3013,      0.3023,      0.3033,      0.3043,     0.30531,     0.30631,     0.30731,     0.30831,     0.30931,     0.31031,     0.31131,\n",
              "           0.31231,     0.31331,     0.31431,     0.31532,     0.31632,     0.31732,     0.31832,     0.31932,     0.32032,     0.32132,     0.32232,     0.32332,     0.32432,     0.32533,     0.32633,     0.32733,     0.32833,     0.32933,     0.33033,     0.33133,     0.33233,     0.33333,     0.33433,     0.33534,\n",
              "           0.33634,     0.33734,     0.33834,     0.33934,     0.34034,     0.34134,     0.34234,     0.34334,     0.34434,     0.34535,     0.34635,     0.34735,     0.34835,     0.34935,     0.35035,     0.35135,     0.35235,     0.35335,     0.35435,     0.35536,     0.35636,     0.35736,     0.35836,     0.35936,\n",
              "           0.36036,     0.36136,     0.36236,     0.36336,     0.36436,     0.36537,     0.36637,     0.36737,     0.36837,     0.36937,     0.37037,     0.37137,     0.37237,     0.37337,     0.37437,     0.37538,     0.37638,     0.37738,     0.37838,     0.37938,     0.38038,     0.38138,     0.38238,     0.38338,\n",
              "           0.38438,     0.38539,     0.38639,     0.38739,     0.38839,     0.38939,     0.39039,     0.39139,     0.39239,     0.39339,     0.39439,      0.3954,      0.3964,      0.3974,      0.3984,      0.3994,      0.4004,      0.4014,      0.4024,      0.4034,      0.4044,     0.40541,     0.40641,     0.40741,\n",
              "           0.40841,     0.40941,     0.41041,     0.41141,     0.41241,     0.41341,     0.41441,     0.41542,     0.41642,     0.41742,     0.41842,     0.41942,     0.42042,     0.42142,     0.42242,     0.42342,     0.42442,     0.42543,     0.42643,     0.42743,     0.42843,     0.42943,     0.43043,     0.43143,\n",
              "           0.43243,     0.43343,     0.43443,     0.43544,     0.43644,     0.43744,     0.43844,     0.43944,     0.44044,     0.44144,     0.44244,     0.44344,     0.44444,     0.44545,     0.44645,     0.44745,     0.44845,     0.44945,     0.45045,     0.45145,     0.45245,     0.45345,     0.45445,     0.45546,\n",
              "           0.45646,     0.45746,     0.45846,     0.45946,     0.46046,     0.46146,     0.46246,     0.46346,     0.46446,     0.46547,     0.46647,     0.46747,     0.46847,     0.46947,     0.47047,     0.47147,     0.47247,     0.47347,     0.47447,     0.47548,     0.47648,     0.47748,     0.47848,     0.47948,\n",
              "           0.48048,     0.48148,     0.48248,     0.48348,     0.48448,     0.48549,     0.48649,     0.48749,     0.48849,     0.48949,     0.49049,     0.49149,     0.49249,     0.49349,     0.49449,      0.4955,      0.4965,      0.4975,      0.4985,      0.4995,      0.5005,      0.5015,      0.5025,      0.5035,\n",
              "            0.5045,     0.50551,     0.50651,     0.50751,     0.50851,     0.50951,     0.51051,     0.51151,     0.51251,     0.51351,     0.51451,     0.51552,     0.51652,     0.51752,     0.51852,     0.51952,     0.52052,     0.52152,     0.52252,     0.52352,     0.52452,     0.52553,     0.52653,     0.52753,\n",
              "           0.52853,     0.52953,     0.53053,     0.53153,     0.53253,     0.53353,     0.53453,     0.53554,     0.53654,     0.53754,     0.53854,     0.53954,     0.54054,     0.54154,     0.54254,     0.54354,     0.54454,     0.54555,     0.54655,     0.54755,     0.54855,     0.54955,     0.55055,     0.55155,\n",
              "           0.55255,     0.55355,     0.55455,     0.55556,     0.55656,     0.55756,     0.55856,     0.55956,     0.56056,     0.56156,     0.56256,     0.56356,     0.56456,     0.56557,     0.56657,     0.56757,     0.56857,     0.56957,     0.57057,     0.57157,     0.57257,     0.57357,     0.57457,     0.57558,\n",
              "           0.57658,     0.57758,     0.57858,     0.57958,     0.58058,     0.58158,     0.58258,     0.58358,     0.58458,     0.58559,     0.58659,     0.58759,     0.58859,     0.58959,     0.59059,     0.59159,     0.59259,     0.59359,     0.59459,      0.5956,      0.5966,      0.5976,      0.5986,      0.5996,\n",
              "            0.6006,      0.6016,      0.6026,      0.6036,      0.6046,     0.60561,     0.60661,     0.60761,     0.60861,     0.60961,     0.61061,     0.61161,     0.61261,     0.61361,     0.61461,     0.61562,     0.61662,     0.61762,     0.61862,     0.61962,     0.62062,     0.62162,     0.62262,     0.62362,\n",
              "           0.62462,     0.62563,     0.62663,     0.62763,     0.62863,     0.62963,     0.63063,     0.63163,     0.63263,     0.63363,     0.63463,     0.63564,     0.63664,     0.63764,     0.63864,     0.63964,     0.64064,     0.64164,     0.64264,     0.64364,     0.64464,     0.64565,     0.64665,     0.64765,\n",
              "           0.64865,     0.64965,     0.65065,     0.65165,     0.65265,     0.65365,     0.65465,     0.65566,     0.65666,     0.65766,     0.65866,     0.65966,     0.66066,     0.66166,     0.66266,     0.66366,     0.66466,     0.66567,     0.66667,     0.66767,     0.66867,     0.66967,     0.67067,     0.67167,\n",
              "           0.67267,     0.67367,     0.67467,     0.67568,     0.67668,     0.67768,     0.67868,     0.67968,     0.68068,     0.68168,     0.68268,     0.68368,     0.68468,     0.68569,     0.68669,     0.68769,     0.68869,     0.68969,     0.69069,     0.69169,     0.69269,     0.69369,     0.69469,      0.6957,\n",
              "            0.6967,      0.6977,      0.6987,      0.6997,      0.7007,      0.7017,      0.7027,      0.7037,      0.7047,     0.70571,     0.70671,     0.70771,     0.70871,     0.70971,     0.71071,     0.71171,     0.71271,     0.71371,     0.71471,     0.71572,     0.71672,     0.71772,     0.71872,     0.71972,\n",
              "           0.72072,     0.72172,     0.72272,     0.72372,     0.72472,     0.72573,     0.72673,     0.72773,     0.72873,     0.72973,     0.73073,     0.73173,     0.73273,     0.73373,     0.73473,     0.73574,     0.73674,     0.73774,     0.73874,     0.73974,     0.74074,     0.74174,     0.74274,     0.74374,\n",
              "           0.74474,     0.74575,     0.74675,     0.74775,     0.74875,     0.74975,     0.75075,     0.75175,     0.75275,     0.75375,     0.75475,     0.75576,     0.75676,     0.75776,     0.75876,     0.75976,     0.76076,     0.76176,     0.76276,     0.76376,     0.76476,     0.76577,     0.76677,     0.76777,\n",
              "           0.76877,     0.76977,     0.77077,     0.77177,     0.77277,     0.77377,     0.77477,     0.77578,     0.77678,     0.77778,     0.77878,     0.77978,     0.78078,     0.78178,     0.78278,     0.78378,     0.78478,     0.78579,     0.78679,     0.78779,     0.78879,     0.78979,     0.79079,     0.79179,\n",
              "           0.79279,     0.79379,     0.79479,      0.7958,      0.7968,      0.7978,      0.7988,      0.7998,      0.8008,      0.8018,      0.8028,      0.8038,      0.8048,     0.80581,     0.80681,     0.80781,     0.80881,     0.80981,     0.81081,     0.81181,     0.81281,     0.81381,     0.81481,     0.81582,\n",
              "           0.81682,     0.81782,     0.81882,     0.81982,     0.82082,     0.82182,     0.82282,     0.82382,     0.82482,     0.82583,     0.82683,     0.82783,     0.82883,     0.82983,     0.83083,     0.83183,     0.83283,     0.83383,     0.83483,     0.83584,     0.83684,     0.83784,     0.83884,     0.83984,\n",
              "           0.84084,     0.84184,     0.84284,     0.84384,     0.84484,     0.84585,     0.84685,     0.84785,     0.84885,     0.84985,     0.85085,     0.85185,     0.85285,     0.85385,     0.85485,     0.85586,     0.85686,     0.85786,     0.85886,     0.85986,     0.86086,     0.86186,     0.86286,     0.86386,\n",
              "           0.86486,     0.86587,     0.86687,     0.86787,     0.86887,     0.86987,     0.87087,     0.87187,     0.87287,     0.87387,     0.87487,     0.87588,     0.87688,     0.87788,     0.87888,     0.87988,     0.88088,     0.88188,     0.88288,     0.88388,     0.88488,     0.88589,     0.88689,     0.88789,\n",
              "           0.88889,     0.88989,     0.89089,     0.89189,     0.89289,     0.89389,     0.89489,      0.8959,      0.8969,      0.8979,      0.8989,      0.8999,      0.9009,      0.9019,      0.9029,      0.9039,      0.9049,     0.90591,     0.90691,     0.90791,     0.90891,     0.90991,     0.91091,     0.91191,\n",
              "           0.91291,     0.91391,     0.91491,     0.91592,     0.91692,     0.91792,     0.91892,     0.91992,     0.92092,     0.92192,     0.92292,     0.92392,     0.92492,     0.92593,     0.92693,     0.92793,     0.92893,     0.92993,     0.93093,     0.93193,     0.93293,     0.93393,     0.93493,     0.93594,\n",
              "           0.93694,     0.93794,     0.93894,     0.93994,     0.94094,     0.94194,     0.94294,     0.94394,     0.94494,     0.94595,     0.94695,     0.94795,     0.94895,     0.94995,     0.95095,     0.95195,     0.95295,     0.95395,     0.95495,     0.95596,     0.95696,     0.95796,     0.95896,     0.95996,\n",
              "           0.96096,     0.96196,     0.96296,     0.96396,     0.96496,     0.96597,     0.96697,     0.96797,     0.96897,     0.96997,     0.97097,     0.97197,     0.97297,     0.97397,     0.97497,     0.97598,     0.97698,     0.97798,     0.97898,     0.97998,     0.98098,     0.98198,     0.98298,     0.98398,\n",
              "           0.98498,     0.98599,     0.98699,     0.98799,     0.98899,     0.98999,     0.99099,     0.99199,     0.99299,     0.99399,     0.99499,       0.996,       0.997,       0.998,       0.999,           1]), array([[    0.97458,     0.97458,     0.96852,     0.96368,     0.96368,     0.96247,     0.96117,     0.96005,     0.96005,     0.96005,     0.96005,     0.96005,     0.95884,     0.95884,     0.95884,     0.95763,     0.95763,     0.95763,     0.95642,     0.95642,     0.95642,     0.95642,       0.954,\n",
              "              0.954,       0.954,       0.954,       0.954,     0.95278,     0.95157,     0.95157,     0.95157,     0.95157,     0.95157,     0.95036,     0.95036,     0.95036,     0.95036,     0.95036,     0.95036,     0.95036,     0.95036,     0.94915,     0.94915,     0.94915,     0.94915,     0.94915,\n",
              "            0.94915,     0.94794,     0.94673,     0.94431,     0.94431,     0.94431,     0.94431,     0.94431,     0.94431,     0.94431,      0.9431,      0.9431,     0.94068,     0.94068,     0.94068,     0.93947,     0.93947,     0.93947,     0.93898,     0.93826,     0.93826,     0.93705,     0.93539,\n",
              "            0.93462,     0.93341,     0.93341,     0.93341,     0.93341,     0.93341,      0.9322,      0.9322,      0.9322,     0.93099,     0.93099,     0.92978,     0.92978,     0.92978,     0.92978,     0.92857,     0.92857,     0.92857,     0.92857,     0.92857,     0.92736,     0.92736,     0.92736,\n",
              "            0.92736,     0.92736,     0.92646,     0.92615,     0.92615,     0.92615,     0.92615,     0.92615,     0.92615,     0.92615,     0.92615,     0.92615,     0.92615,     0.92615,     0.92615,     0.92615,     0.92615,     0.92494,     0.92494,      0.9245,     0.92252,     0.92252,     0.92172,\n",
              "             0.9201,      0.9201,      0.9201,      0.9201,      0.9201,      0.9201,      0.9201,      0.9201,      0.9201,      0.9201,      0.9201,     0.91889,     0.91889,     0.91889,     0.91889,     0.91889,     0.91889,     0.91889,     0.91889,     0.91889,     0.91889,     0.91889,     0.91889,\n",
              "            0.91889,     0.91889,     0.91889,     0.91889,     0.91889,     0.91768,     0.91768,     0.91687,     0.91628,     0.91593,     0.91557,     0.91525,     0.91525,     0.91404,     0.91404,     0.91404,     0.91404,     0.91283,     0.91162,     0.91162,     0.91162,     0.91162,     0.91162,\n",
              "            0.91162,     0.91162,     0.91162,     0.91162,     0.91162,     0.91159,     0.91049,     0.91041,     0.91041,     0.91041,     0.91041,     0.91041,     0.91041,     0.91041,     0.91041,     0.91041,     0.91041,     0.91041,     0.91041,     0.91041,     0.91041,      0.9102,     0.90949,\n",
              "            0.90799,     0.90799,     0.90799,     0.90799,     0.90678,     0.90678,     0.90678,     0.90575,     0.90527,     0.90436,     0.90436,     0.90436,     0.90315,     0.90315,     0.90315,     0.90315,      0.9023,     0.90073,     0.90073,     0.90073,     0.90073,     0.89936,     0.89874,\n",
              "            0.89831,     0.89709,     0.89709,     0.89709,     0.89709,     0.89649,     0.89588,     0.89588,     0.89588,     0.89588,     0.89588,     0.89588,     0.89588,     0.89588,     0.89588,     0.89467,     0.89467,     0.89467,     0.89467,     0.89467,     0.89467,     0.89467,     0.89467,\n",
              "            0.89467,     0.89467,     0.89467,     0.89467,     0.89467,     0.89467,     0.89467,     0.89467,     0.89467,     0.89346,     0.89346,     0.89346,     0.89346,      0.8927,     0.89225,     0.89225,      0.8916,     0.89088,     0.89065,     0.89041,     0.89017,     0.88994,     0.88983,\n",
              "            0.88983,     0.88983,     0.88983,     0.88862,     0.88862,     0.88862,     0.88741,     0.88741,     0.88618,     0.88547,     0.88499,     0.88499,     0.88499,     0.88356,     0.88301,     0.88257,     0.88257,     0.88257,     0.88194,     0.88136,     0.88095,     0.88024,     0.87943,\n",
              "            0.87893,     0.87893,     0.87893,     0.87893,     0.87858,     0.87787,     0.87772,     0.87772,     0.87772,     0.87772,     0.87772,     0.87772,     0.87772,     0.87772,     0.87651,     0.87651,     0.87651,     0.87429,     0.87392,     0.87288,     0.87288,     0.87288,     0.87222,\n",
              "            0.87167,     0.87167,      0.8702,     0.86971,     0.86925,     0.86925,     0.86804,     0.86804,     0.86804,     0.86804,     0.86766,     0.86683,     0.86683,     0.86683,     0.86683,     0.86658,     0.86587,     0.86562,     0.86562,     0.86562,     0.86514,     0.86465,     0.86376,\n",
              "             0.8623,     0.86199,     0.86077,     0.86077,     0.86077,     0.86077,     0.86077,     0.86077,     0.85956,     0.85885,     0.85835,     0.85835,     0.85835,     0.85835,     0.85714,      0.8565,     0.85593,     0.85593,     0.85593,     0.85593,     0.85593,     0.85472,     0.85472,\n",
              "            0.85472,     0.85472,     0.85472,     0.85472,     0.85472,      0.8542,     0.85351,     0.85351,     0.85311,     0.85214,     0.85169,     0.85124,     0.85109,     0.85109,     0.85083,     0.85028,     0.84971,     0.84909,     0.84867,     0.84867,     0.84867,     0.84746,     0.84746,\n",
              "            0.84746,     0.84746,     0.84746,     0.84746,     0.84746,     0.84746,     0.84746,     0.84725,     0.84692,     0.84659,     0.84626,     0.84506,     0.84383,     0.84314,     0.84222,     0.84173,     0.84097,     0.83898,     0.83872,      0.8383,     0.83789,     0.83726,     0.83656,\n",
              "            0.83531,     0.83414,     0.83414,     0.83414,     0.83414,     0.83414,     0.83414,     0.83414,      0.8338,      0.8331,     0.83198,     0.83172,     0.83172,     0.83172,     0.83118,     0.83056,     0.83051,     0.83051,     0.83051,     0.83051,     0.83051,     0.83013,      0.8293,\n",
              "             0.8293,      0.8293,      0.8293,      0.8293,      0.8293,     0.82885,     0.82823,     0.82774,     0.82729,     0.82688,     0.82688,     0.82688,     0.82668,     0.82559,     0.82518,     0.82476,      0.8243,     0.82368,     0.82203,     0.82163,     0.82082,     0.82082,     0.82082,\n",
              "            0.82082,     0.82065,      0.8204,     0.82015,     0.81991,     0.81966,      0.8186,      0.8184,     0.81733,     0.81598,     0.81485,     0.81356,     0.81356,     0.81295,     0.81233,     0.81171,     0.81103,     0.80872,     0.80872,     0.80822,     0.80612,     0.80571,     0.80529,\n",
              "            0.80356,     0.80294,     0.80266,     0.80266,     0.80266,     0.80145,     0.80125,     0.80094,     0.80063,     0.80032,     0.79932,     0.79903,     0.79903,     0.79903,     0.79635,     0.79604,     0.79573,     0.79542,     0.79423,     0.79258,     0.79217,     0.79051,     0.78927,\n",
              "            0.78692,     0.78692,     0.78676,     0.78319,     0.78257,     0.78208,     0.78208,     0.78208,     0.78208,     0.78208,     0.78208,     0.78208,     0.78208,     0.78208,     0.78208,     0.78208,     0.78208,     0.78087,     0.77966,     0.77777,     0.77567,     0.77505,     0.77482,\n",
              "            0.77482,     0.77482,     0.77453,     0.77412,      0.7737,     0.77361,     0.77312,      0.7725,     0.77014,     0.76962,      0.7692,     0.76879,     0.76639,     0.76634,     0.76513,     0.76513,     0.76506,     0.76382,     0.76257,     0.76142,      0.7608,       0.759,     0.75859,\n",
              "            0.75818,     0.75666,     0.75666,     0.75545,     0.75537,     0.75512,     0.75487,     0.75462,     0.75437,     0.75125,     0.75031,     0.74969,     0.74939,     0.74939,     0.74868,     0.74744,     0.74499,     0.74415,     0.74353,     0.74127,     0.74074,     0.74049,     0.74024,\n",
              "               0.74,     0.73975,     0.73866,     0.73742,     0.73487,     0.73227,     0.73185,     0.73144,     0.73123,     0.73123,     0.73123,     0.73123,     0.73049,     0.72925,      0.7276,      0.7276,      0.7276,     0.72429,     0.72276,     0.72059,     0.71935,     0.71913,     0.71913,\n",
              "            0.71563,     0.71513,     0.71471,      0.7143,     0.71309,     0.71065,     0.71065,     0.70997,     0.70873,     0.70507,     0.70339,     0.69962,     0.69942,     0.69921,       0.699,      0.6988,     0.69859,     0.69756,     0.69683,     0.69621,     0.69541,      0.6932,     0.69196,\n",
              "            0.68886,     0.68886,     0.68703,     0.68458,     0.68402,     0.68402,     0.68002,     0.67939,     0.67837,     0.67774,     0.67676,     0.67676,     0.67522,     0.67398,     0.67293,     0.67231,     0.67147,     0.67023,     0.66707,     0.66472,     0.66344,     0.66344,     0.66222,\n",
              "             0.6616,     0.66094,      0.6597,     0.65738,       0.657,     0.65638,     0.65534,     0.65453,     0.65391,     0.65283,     0.65133,     0.64974,     0.64729,     0.64484,     0.64238,      0.6415,     0.64115,     0.64079,     0.64044,       0.638,     0.63679,     0.63644,     0.63608,\n",
              "            0.63573,     0.63482,     0.63115,     0.63075,     0.62988,     0.62683,     0.62559,     0.62071,     0.61947,     0.61782,     0.61638,     0.61393,     0.61269,     0.61183,      0.6111,     0.61048,     0.60775,     0.60709,     0.60412,     0.60279,     0.60164,     0.60114,     0.60065,\n",
              "            0.59778,     0.59737,     0.59696,     0.59623,     0.59529,     0.59428,     0.59378,     0.59328,     0.59201,      0.5909,     0.58811,     0.58749,     0.58657,     0.58554,      0.5823,     0.58168,      0.5762,     0.57537,     0.57467,     0.57405,      0.5712,     0.56753,       0.566,\n",
              "            0.56491,     0.56429,     0.56318,     0.56033,      0.5597,     0.55901,     0.55818,     0.55455,     0.55149,     0.54783,      0.5468,     0.54476,     0.54393,     0.54044,     0.53874,     0.53722,     0.53672,     0.53585,     0.53511,     0.53451,     0.53236,     0.52882,     0.52799,\n",
              "            0.52612,      0.5255,     0.52542,     0.52441,     0.52307,     0.51941,     0.51736,     0.51632,     0.51409,     0.51205,     0.51122,      0.5104,     0.50951,     0.50807,     0.50581,     0.50546,      0.5051,     0.50468,     0.50406,     0.50083,     0.49972,      0.4989,      0.4965,\n",
              "            0.48998,     0.48915,     0.48793,     0.48628,     0.48183,       0.481,     0.47942,     0.47942,     0.47564,     0.47181,     0.46892,      0.4661,     0.46471,     0.46389,     0.46093,     0.45813,     0.45421,     0.45157,     0.44705,     0.44637,     0.44596,     0.44554,     0.44253,\n",
              "            0.44069,     0.43458,     0.43055,     0.42973,      0.4289,     0.42686,      0.4258,     0.42413,      0.4221,     0.42148,     0.41748,     0.41665,     0.41429,     0.41245,     0.40958,      0.4092,     0.40825,     0.40567,     0.40037,     0.39954,     0.39548,     0.39342,     0.39038,\n",
              "            0.38724,     0.38427,     0.38126,     0.38043,     0.37368,     0.36748,     0.36266,     0.35987,     0.35528,     0.35408,     0.35083,        0.35,     0.34762,     0.34395,     0.33918,     0.33239,     0.33058,     0.32486,     0.32077,     0.31837,     0.31775,     0.31469,     0.31387,\n",
              "            0.31183,     0.30972,     0.30848,     0.30576,     0.30176,     0.29931,     0.29764,     0.29702,     0.29377,     0.28784,     0.28701,     0.28349,      0.2767,     0.27126,     0.26817,      0.2639,     0.26139,     0.25718,     0.25401,     0.24985,      0.2468,     0.24172,     0.23826,\n",
              "            0.23433,      0.2258,     0.22183,     0.22016,     0.21954,     0.21829,     0.20733,     0.20594,     0.20116,      0.1968,     0.19499,     0.19129,     0.18639,     0.18336,     0.17849,     0.17168,     0.16678,     0.15963,     0.15725,     0.15642,     0.14622,     0.14387,     0.14304,\n",
              "            0.14068,     0.13724,     0.13518,     0.13469,       0.131,      0.1261,      0.1212,     0.11928,     0.11804,     0.11254,     0.11006,     0.10729,     0.10521,     0.10019,    0.095287,    0.091594,    0.088745,    0.084209,    0.082023,    0.081609,    0.081196,    0.076703,    0.075759,\n",
              "           0.075138,    0.074337,    0.072128,    0.071068,    0.070241,    0.067195,    0.065358,     0.06453,    0.062779,    0.059275,    0.058779,    0.058282,    0.057569,    0.055213,    0.051789,    0.047827,    0.046281,    0.044151,    0.043427,    0.042931,    0.042435,     0.03721,    0.036382,\n",
              "           0.031604,    0.030888,    0.030268,    0.025283,    0.025007,    0.024732,    0.024456,    0.024164,     0.02375,    0.023336,    0.022943,    0.022632,    0.022322,    0.022012,    0.021071,    0.020249,    0.019835,    0.019422,    0.017073,    0.014994,    0.014476,    0.014358,     0.01424,\n",
              "           0.014122,    0.014003,    0.013885,    0.013767,    0.013649,    0.013531,    0.013413,     0.01207,    0.011879,    0.011688,    0.011497,    0.011306,    0.011115,    0.010924,    0.010473,   0.0099766,   0.0096364,   0.0095182,      0.0094,   0.0092819,   0.0091637,   0.0090455,   0.0089273,\n",
              "          0.0088091,   0.0086909,   0.0085727,   0.0084045,   0.0079908,   0.0075772,    0.007197,   0.0069212,   0.0066455,   0.0063697,   0.0060939,   0.0045781,   0.0042679,   0.0039577,   0.0036474,   0.0024528,   0.0022485,   0.0020713,    0.001894,   0.0017167,   0.0015394,   0.0013621,           0,\n",
              "                  0,           0,           0,           0,           0,           0,           0,           0,           0,           0,           0,           0,           0,           0,           0,           0,           0,           0,           0,           0,           0,           0,           0,\n",
              "                  0,           0,           0,           0,           0,           0,           0,           0,           0,           0,           0]]), 'Confidence', 'Recall']]\n",
              "fitness: np.float64(0.6286067842569123)\n",
              "keys: ['metrics/precision(B)', 'metrics/recall(B)', 'metrics/mAP50(B)', 'metrics/mAP50-95(B)']\n",
              "maps: array([    0.59726])\n",
              "names: {0: 'person'}\n",
              "nt_per_class: array([826])\n",
              "nt_per_image: array([106])\n",
              "results_dict: {'metrics/precision(B)': np.float64(0.857330493340311), 'metrics/recall(B)': np.float64(0.8365617433414043), 'metrics/mAP50(B)': np.float64(0.910720898184219), 'metrics/mAP50-95(B)': np.float64(0.5972607715983227), 'fitness': np.float64(0.6286067842569123)}\n",
              "save_dir: PosixPath('runs/detect/train2')\n",
              "speed: {'preprocess': 0.5827087310948429, 'inference': 3.894887756302501, 'loss': 0.0005103361370918017, 'postprocess': 7.395816495795962}\n",
              "stats: {'tp': [], 'conf': [], 'pred_cls': [], 'target_cls': [], 'target_img': []}\n",
              "task: 'detect'"
            ]
          },
          "metadata": {},
          "execution_count": 7
        }
      ]
    },
    {
      "cell_type": "code",
      "source": [
        "# Сохранение модели после дообучения на датасете из RoboFlow\n",
        "!cp runs/detect/train2/weights/best.pt /content/drive/MyDrive/yolov8n_after_roboflow.pt"
      ],
      "metadata": {
        "id": "MSZZU4BtXtfn"
      },
      "execution_count": null,
      "outputs": []
    },
    {
      "cell_type": "code",
      "source": [
        "# Загрузка модели (той, что дообучена на датасете из RoboFlow)\n",
        "\n",
        "!cp /content/drive/MyDrive/yolov8n_after_roboflow.pt ./"
      ],
      "metadata": {
        "id": "MrgKhq8ZVA1m"
      },
      "execution_count": null,
      "outputs": []
    },
    {
      "cell_type": "code",
      "source": [
        "model = YOLO(\"yolov8n_after_roboflow.pt\")"
      ],
      "metadata": {
        "id": "CeYFJHohdr7P"
      },
      "execution_count": null,
      "outputs": []
    },
    {
      "cell_type": "code",
      "source": [
        "# Датасет, размеченный вручную через RoboFLow\n",
        "\n",
        "rf = Roboflow(api_key=\"Bo6emED703twIQ1sBP5W\")\n",
        "project = rf.workspace(\"workspace-ggk1p\").project(\"human-detection-cm0ky\")\n",
        "version = project.version(1)\n",
        "dataset = version.download(\"yolov8\")\n"
      ],
      "metadata": {
        "colab": {
          "base_uri": "https://localhost:8080/"
        },
        "id": "3EfKsWPwOnHt",
        "outputId": "b001d72b-32f8-4c0a-f8f1-32cc3ece73cf"
      },
      "execution_count": null,
      "outputs": [
        {
          "output_type": "stream",
          "name": "stdout",
          "text": [
            "loading Roboflow workspace...\n",
            "loading Roboflow project...\n"
          ]
        },
        {
          "output_type": "stream",
          "name": "stderr",
          "text": [
            "Downloading Dataset Version Zip in Human-Detection-1 to yolov8:: 100%|██████████| 15448/15448 [00:02<00:00, 6415.64it/s] "
          ]
        },
        {
          "output_type": "stream",
          "name": "stdout",
          "text": [
            "\n"
          ]
        },
        {
          "output_type": "stream",
          "name": "stderr",
          "text": [
            "\n",
            "Extracting Dataset Version Zip to Human-Detection-1 in yolov8:: 100%|██████████| 116/116 [00:00<00:00, 1230.22it/s]\n"
          ]
        }
      ]
    },
    {
      "cell_type": "code",
      "source": [
        "model.train(\n",
        "    data=\"Human-Detection-1/data.yaml\",\n",
        "    epochs=35,\n",
        "    imgsz=640,\n",
        "    batch=16,\n",
        "    patience=10,\n",
        ")"
      ],
      "metadata": {
        "colab": {
          "base_uri": "https://localhost:8080/"
        },
        "id": "byvxwgXwOnKI",
        "outputId": "c36d1df6-4e43-4bae-dcee-e805f1c20fc5",
        "collapsed": true
      },
      "execution_count": null,
      "outputs": [
        {
          "output_type": "stream",
          "name": "stdout",
          "text": [
            "Ultralytics 8.3.159 🚀 Python-3.11.13 torch-2.6.0+cu124 CUDA:0 (Tesla T4, 15095MiB)\n",
            "\u001b[34m\u001b[1mengine/trainer: \u001b[0magnostic_nms=False, amp=True, augment=False, auto_augment=randaugment, batch=16, bgr=0.0, box=7.5, cache=False, cfg=None, classes=None, close_mosaic=10, cls=0.5, conf=None, copy_paste=0.0, copy_paste_mode=flip, cos_lr=False, cutmix=0.0, data=Human-Detection-1/data.yaml, degrees=0.0, deterministic=True, device=None, dfl=1.5, dnn=False, dropout=0.0, dynamic=False, embed=None, epochs=35, erasing=0.4, exist_ok=False, fliplr=0.5, flipud=0.0, format=torchscript, fraction=1.0, freeze=None, half=False, hsv_h=0.015, hsv_s=0.7, hsv_v=0.4, imgsz=640, int8=False, iou=0.7, keras=False, kobj=1.0, line_width=None, lr0=0.01, lrf=0.01, mask_ratio=4, max_det=300, mixup=0.0, mode=train, model=yolov8n_after_roboflow.pt, momentum=0.937, mosaic=1.0, multi_scale=False, name=train2, nbs=64, nms=False, opset=None, optimize=False, optimizer=auto, overlap_mask=True, patience=10, perspective=0.0, plots=True, pose=12.0, pretrained=True, profile=False, project=None, rect=False, resume=False, retina_masks=False, save=True, save_conf=False, save_crop=False, save_dir=runs/detect/train2, save_frames=False, save_json=False, save_period=-1, save_txt=False, scale=0.5, seed=0, shear=0.0, show=False, show_boxes=True, show_conf=True, show_labels=True, simplify=True, single_cls=False, source=None, split=val, stream_buffer=False, task=detect, time=None, tracker=botsort.yaml, translate=0.1, val=True, verbose=True, vid_stride=1, visualize=False, warmup_bias_lr=0.0, warmup_epochs=3.0, warmup_momentum=0.8, weight_decay=0.0005, workers=8, workspace=None\n",
            "\n",
            "                   from  n    params  module                                       arguments                     \n",
            "  0                  -1  1       464  ultralytics.nn.modules.conv.Conv             [3, 16, 3, 2]                 \n",
            "  1                  -1  1      4672  ultralytics.nn.modules.conv.Conv             [16, 32, 3, 2]                \n",
            "  2                  -1  1      7360  ultralytics.nn.modules.block.C2f             [32, 32, 1, True]             \n",
            "  3                  -1  1     18560  ultralytics.nn.modules.conv.Conv             [32, 64, 3, 2]                \n",
            "  4                  -1  2     49664  ultralytics.nn.modules.block.C2f             [64, 64, 2, True]             \n",
            "  5                  -1  1     73984  ultralytics.nn.modules.conv.Conv             [64, 128, 3, 2]               \n",
            "  6                  -1  2    197632  ultralytics.nn.modules.block.C2f             [128, 128, 2, True]           \n",
            "  7                  -1  1    295424  ultralytics.nn.modules.conv.Conv             [128, 256, 3, 2]              \n",
            "  8                  -1  1    460288  ultralytics.nn.modules.block.C2f             [256, 256, 1, True]           \n",
            "  9                  -1  1    164608  ultralytics.nn.modules.block.SPPF            [256, 256, 5]                 \n",
            " 10                  -1  1         0  torch.nn.modules.upsampling.Upsample         [None, 2, 'nearest']          \n",
            " 11             [-1, 6]  1         0  ultralytics.nn.modules.conv.Concat           [1]                           \n",
            " 12                  -1  1    148224  ultralytics.nn.modules.block.C2f             [384, 128, 1]                 \n",
            " 13                  -1  1         0  torch.nn.modules.upsampling.Upsample         [None, 2, 'nearest']          \n",
            " 14             [-1, 4]  1         0  ultralytics.nn.modules.conv.Concat           [1]                           \n",
            " 15                  -1  1     37248  ultralytics.nn.modules.block.C2f             [192, 64, 1]                  \n",
            " 16                  -1  1     36992  ultralytics.nn.modules.conv.Conv             [64, 64, 3, 2]                \n",
            " 17            [-1, 12]  1         0  ultralytics.nn.modules.conv.Concat           [1]                           \n",
            " 18                  -1  1    123648  ultralytics.nn.modules.block.C2f             [192, 128, 1]                 \n",
            " 19                  -1  1    147712  ultralytics.nn.modules.conv.Conv             [128, 128, 3, 2]              \n",
            " 20             [-1, 9]  1         0  ultralytics.nn.modules.conv.Concat           [1]                           \n",
            " 21                  -1  1    493056  ultralytics.nn.modules.block.C2f             [384, 256, 1]                 \n",
            " 22        [15, 18, 21]  1    751507  ultralytics.nn.modules.head.Detect           [1, [64, 128, 256]]           \n",
            "Model summary: 129 layers, 3,011,043 parameters, 3,011,027 gradients, 8.2 GFLOPs\n",
            "\n",
            "Transferred 355/355 items from pretrained weights\n",
            "Freezing layer 'model.22.dfl.conv.weight'\n",
            "\u001b[34m\u001b[1mAMP: \u001b[0mrunning Automatic Mixed Precision (AMP) checks...\n",
            "\u001b[34m\u001b[1mAMP: \u001b[0mchecks passed ✅\n",
            "\u001b[34m\u001b[1mtrain: \u001b[0mFast image access ✅ (ping: 0.0±0.0 ms, read: 2512.1±478.7 MB/s, size: 296.3 KB)\n"
          ]
        },
        {
          "output_type": "stream",
          "name": "stderr",
          "text": [
            "\u001b[34m\u001b[1mtrain: \u001b[0mScanning /content/Human-Detection-1/train/labels.cache... 36 images, 0 backgrounds, 0 corrupt: 100%|██████████| 36/36 [00:00<?, ?it/s]"
          ]
        },
        {
          "output_type": "stream",
          "name": "stdout",
          "text": [
            "\u001b[34m\u001b[1malbumentations: \u001b[0mBlur(p=0.01, blur_limit=(3, 7)), MedianBlur(p=0.01, blur_limit=(3, 7)), ToGray(p=0.01, method='weighted_average', num_output_channels=3), CLAHE(p=0.01, clip_limit=(1.0, 4.0), tile_grid_size=(8, 8))\n"
          ]
        },
        {
          "output_type": "stream",
          "name": "stderr",
          "text": [
            "\n"
          ]
        },
        {
          "output_type": "stream",
          "name": "stdout",
          "text": [
            "\u001b[34m\u001b[1mval: \u001b[0mFast image access ✅ (ping: 0.0±0.0 ms, read: 983.4±1215.4 MB/s, size: 286.7 KB)\n"
          ]
        },
        {
          "output_type": "stream",
          "name": "stderr",
          "text": [
            "\u001b[34m\u001b[1mval: \u001b[0mScanning /content/Human-Detection-1/valid/labels.cache... 11 images, 0 backgrounds, 0 corrupt: 100%|██████████| 11/11 [00:00<?, ?it/s]\n"
          ]
        },
        {
          "output_type": "stream",
          "name": "stdout",
          "text": [
            "Plotting labels to runs/detect/train2/labels.jpg... \n",
            "\u001b[34m\u001b[1moptimizer:\u001b[0m 'optimizer=auto' found, ignoring 'lr0=0.01' and 'momentum=0.937' and determining best 'optimizer', 'lr0' and 'momentum' automatically... \n",
            "\u001b[34m\u001b[1moptimizer:\u001b[0m AdamW(lr=0.002, momentum=0.9) with parameter groups 57 weight(decay=0.0), 64 weight(decay=0.0005), 63 bias(decay=0.0)\n",
            "Image sizes 640 train, 640 val\n",
            "Using 2 dataloader workers\n",
            "Logging results to \u001b[1mruns/detect/train2\u001b[0m\n",
            "Starting training for 35 epochs...\n",
            "\n",
            "      Epoch    GPU_mem   box_loss   cls_loss   dfl_loss  Instances       Size\n"
          ]
        },
        {
          "output_type": "stream",
          "name": "stderr",
          "text": [
            "       1/35      2.54G      2.025      1.269      1.352        255        640: 100%|██████████| 3/3 [00:01<00:00,  2.96it/s]\n",
            "                 Class     Images  Instances      Box(P          R      mAP50  mAP50-95): 100%|██████████| 1/1 [00:00<00:00,  1.45it/s]"
          ]
        },
        {
          "output_type": "stream",
          "name": "stdout",
          "text": [
            "                   all         11        314      0.736      0.533      0.673      0.335\n"
          ]
        },
        {
          "output_type": "stream",
          "name": "stderr",
          "text": [
            "\n"
          ]
        },
        {
          "output_type": "stream",
          "name": "stdout",
          "text": [
            "\n",
            "      Epoch    GPU_mem   box_loss   cls_loss   dfl_loss  Instances       Size\n"
          ]
        },
        {
          "output_type": "stream",
          "name": "stderr",
          "text": [
            "       2/35      2.54G      1.856      1.172      1.314        135        640: 100%|██████████| 3/3 [00:00<00:00,  5.38it/s]\n",
            "                 Class     Images  Instances      Box(P          R      mAP50  mAP50-95): 100%|██████████| 1/1 [00:00<00:00,  6.70it/s]"
          ]
        },
        {
          "output_type": "stream",
          "name": "stdout",
          "text": [
            "                   all         11        314      0.724      0.535      0.662      0.309\n"
          ]
        },
        {
          "output_type": "stream",
          "name": "stderr",
          "text": [
            "\n"
          ]
        },
        {
          "output_type": "stream",
          "name": "stdout",
          "text": [
            "\n",
            "      Epoch    GPU_mem   box_loss   cls_loss   dfl_loss  Instances       Size\n"
          ]
        },
        {
          "output_type": "stream",
          "name": "stderr",
          "text": [
            "       3/35      2.99G      1.809      1.116      1.227        207        640: 100%|██████████| 3/3 [00:00<00:00,  5.44it/s]\n",
            "                 Class     Images  Instances      Box(P          R      mAP50  mAP50-95): 100%|██████████| 1/1 [00:00<00:00,  5.41it/s]"
          ]
        },
        {
          "output_type": "stream",
          "name": "stdout",
          "text": [
            "                   all         11        314       0.75      0.503      0.644      0.255\n"
          ]
        },
        {
          "output_type": "stream",
          "name": "stderr",
          "text": [
            "\n"
          ]
        },
        {
          "output_type": "stream",
          "name": "stdout",
          "text": [
            "\n",
            "      Epoch    GPU_mem   box_loss   cls_loss   dfl_loss  Instances       Size\n"
          ]
        },
        {
          "output_type": "stream",
          "name": "stderr",
          "text": [
            "       4/35      2.99G      1.686     0.9907       1.18        166        640: 100%|██████████| 3/3 [00:00<00:00,  5.31it/s]\n",
            "                 Class     Images  Instances      Box(P          R      mAP50  mAP50-95): 100%|██████████| 1/1 [00:00<00:00,  5.94it/s]\n"
          ]
        },
        {
          "output_type": "stream",
          "name": "stdout",
          "text": [
            "                   all         11        314      0.723      0.564      0.688      0.284\n",
            "\n",
            "      Epoch    GPU_mem   box_loss   cls_loss   dfl_loss  Instances       Size\n"
          ]
        },
        {
          "output_type": "stream",
          "name": "stderr",
          "text": [
            "       5/35      2.99G      1.664     0.9241      1.179        221        640: 100%|██████████| 3/3 [00:00<00:00,  5.06it/s]\n",
            "                 Class     Images  Instances      Box(P          R      mAP50  mAP50-95): 100%|██████████| 1/1 [00:00<00:00,  5.17it/s]\n"
          ]
        },
        {
          "output_type": "stream",
          "name": "stdout",
          "text": [
            "                   all         11        314      0.757      0.596      0.721      0.356\n",
            "\n",
            "      Epoch    GPU_mem   box_loss   cls_loss   dfl_loss  Instances       Size\n"
          ]
        },
        {
          "output_type": "stream",
          "name": "stderr",
          "text": [
            "       6/35         3G      1.704     0.9093      1.189        298        640: 100%|██████████| 3/3 [00:00<00:00,  5.38it/s]\n",
            "                 Class     Images  Instances      Box(P          R      mAP50  mAP50-95): 100%|██████████| 1/1 [00:00<00:00,  4.47it/s]"
          ]
        },
        {
          "output_type": "stream",
          "name": "stdout",
          "text": [
            "                   all         11        314      0.754      0.585      0.726      0.378\n"
          ]
        },
        {
          "output_type": "stream",
          "name": "stderr",
          "text": [
            "\n"
          ]
        },
        {
          "output_type": "stream",
          "name": "stdout",
          "text": [
            "\n",
            "      Epoch    GPU_mem   box_loss   cls_loss   dfl_loss  Instances       Size\n"
          ]
        },
        {
          "output_type": "stream",
          "name": "stderr",
          "text": [
            "       7/35      3.01G      1.548     0.8431      1.137        161        640: 100%|██████████| 3/3 [00:00<00:00,  4.75it/s]\n",
            "                 Class     Images  Instances      Box(P          R      mAP50  mAP50-95): 100%|██████████| 1/1 [00:00<00:00,  5.08it/s]\n"
          ]
        },
        {
          "output_type": "stream",
          "name": "stdout",
          "text": [
            "                   all         11        314      0.751      0.621      0.734      0.385\n",
            "\n",
            "      Epoch    GPU_mem   box_loss   cls_loss   dfl_loss  Instances       Size\n"
          ]
        },
        {
          "output_type": "stream",
          "name": "stderr",
          "text": [
            "       8/35      3.02G      1.593     0.8774      1.144        217        640: 100%|██████████| 3/3 [00:00<00:00,  4.35it/s]\n",
            "                 Class     Images  Instances      Box(P          R      mAP50  mAP50-95): 100%|██████████| 1/1 [00:00<00:00,  3.90it/s]"
          ]
        },
        {
          "output_type": "stream",
          "name": "stdout",
          "text": [
            "                   all         11        314      0.736      0.611      0.727      0.376\n"
          ]
        },
        {
          "output_type": "stream",
          "name": "stderr",
          "text": [
            "\n"
          ]
        },
        {
          "output_type": "stream",
          "name": "stdout",
          "text": [
            "\n",
            "      Epoch    GPU_mem   box_loss   cls_loss   dfl_loss  Instances       Size\n"
          ]
        },
        {
          "output_type": "stream",
          "name": "stderr",
          "text": [
            "       9/35      3.27G      1.498     0.8367       1.12        149        640: 100%|██████████| 3/3 [00:00<00:00,  3.79it/s]\n",
            "                 Class     Images  Instances      Box(P          R      mAP50  mAP50-95): 100%|██████████| 1/1 [00:00<00:00,  4.90it/s]"
          ]
        },
        {
          "output_type": "stream",
          "name": "stdout",
          "text": [
            "                   all         11        314      0.772      0.564       0.72      0.361\n"
          ]
        },
        {
          "output_type": "stream",
          "name": "stderr",
          "text": [
            "\n"
          ]
        },
        {
          "output_type": "stream",
          "name": "stdout",
          "text": [
            "\n",
            "      Epoch    GPU_mem   box_loss   cls_loss   dfl_loss  Instances       Size\n"
          ]
        },
        {
          "output_type": "stream",
          "name": "stderr",
          "text": [
            "      10/35      3.27G       1.49     0.8356      1.092        157        640: 100%|██████████| 3/3 [00:00<00:00,  5.74it/s]\n",
            "                 Class     Images  Instances      Box(P          R      mAP50  mAP50-95): 100%|██████████| 1/1 [00:00<00:00,  5.93it/s]"
          ]
        },
        {
          "output_type": "stream",
          "name": "stdout",
          "text": [
            "                   all         11        314      0.727      0.608      0.728      0.379\n"
          ]
        },
        {
          "output_type": "stream",
          "name": "stderr",
          "text": [
            "\n"
          ]
        },
        {
          "output_type": "stream",
          "name": "stdout",
          "text": [
            "\n",
            "      Epoch    GPU_mem   box_loss   cls_loss   dfl_loss  Instances       Size\n"
          ]
        },
        {
          "output_type": "stream",
          "name": "stderr",
          "text": [
            "      11/35      3.27G      1.481     0.8213        1.1        217        640: 100%|██████████| 3/3 [00:00<00:00,  5.68it/s]\n",
            "                 Class     Images  Instances      Box(P          R      mAP50  mAP50-95): 100%|██████████| 1/1 [00:00<00:00,  5.76it/s]\n"
          ]
        },
        {
          "output_type": "stream",
          "name": "stdout",
          "text": [
            "                   all         11        314       0.84      0.583      0.761      0.419\n",
            "\n",
            "      Epoch    GPU_mem   box_loss   cls_loss   dfl_loss  Instances       Size\n"
          ]
        },
        {
          "output_type": "stream",
          "name": "stderr",
          "text": [
            "      12/35      3.27G      1.471     0.8574      1.095        123        640: 100%|██████████| 3/3 [00:00<00:00,  5.70it/s]\n",
            "                 Class     Images  Instances      Box(P          R      mAP50  mAP50-95): 100%|██████████| 1/1 [00:00<00:00,  5.73it/s]\n"
          ]
        },
        {
          "output_type": "stream",
          "name": "stdout",
          "text": [
            "                   all         11        314      0.799      0.608      0.764      0.422\n",
            "\n",
            "      Epoch    GPU_mem   box_loss   cls_loss   dfl_loss  Instances       Size\n"
          ]
        },
        {
          "output_type": "stream",
          "name": "stderr",
          "text": [
            "      13/35      3.27G      1.437     0.8093      1.098        180        640: 100%|██████████| 3/3 [00:00<00:00,  5.48it/s]\n",
            "                 Class     Images  Instances      Box(P          R      mAP50  mAP50-95): 100%|██████████| 1/1 [00:00<00:00,  4.73it/s]"
          ]
        },
        {
          "output_type": "stream",
          "name": "stdout",
          "text": [
            "                   all         11        314      0.783       0.65      0.784      0.429\n"
          ]
        },
        {
          "output_type": "stream",
          "name": "stderr",
          "text": [
            "\n"
          ]
        },
        {
          "output_type": "stream",
          "name": "stdout",
          "text": [
            "\n",
            "      Epoch    GPU_mem   box_loss   cls_loss   dfl_loss  Instances       Size\n"
          ]
        },
        {
          "output_type": "stream",
          "name": "stderr",
          "text": [
            "      14/35      3.27G      1.391     0.8025      1.082        174        640: 100%|██████████| 3/3 [00:00<00:00,  6.02it/s]\n",
            "                 Class     Images  Instances      Box(P          R      mAP50  mAP50-95): 100%|██████████| 1/1 [00:00<00:00,  8.87it/s]"
          ]
        },
        {
          "output_type": "stream",
          "name": "stdout",
          "text": [
            "                   all         11        314      0.804      0.653      0.788      0.433\n"
          ]
        },
        {
          "output_type": "stream",
          "name": "stderr",
          "text": [
            "\n"
          ]
        },
        {
          "output_type": "stream",
          "name": "stdout",
          "text": [
            "\n",
            "      Epoch    GPU_mem   box_loss   cls_loss   dfl_loss  Instances       Size\n"
          ]
        },
        {
          "output_type": "stream",
          "name": "stderr",
          "text": [
            "      15/35      3.27G      1.407     0.8013      1.071        202        640: 100%|██████████| 3/3 [00:00<00:00,  5.64it/s]\n",
            "                 Class     Images  Instances      Box(P          R      mAP50  mAP50-95): 100%|██████████| 1/1 [00:00<00:00,  5.58it/s]"
          ]
        },
        {
          "output_type": "stream",
          "name": "stdout",
          "text": [
            "                   all         11        314      0.785      0.656      0.789      0.431\n"
          ]
        },
        {
          "output_type": "stream",
          "name": "stderr",
          "text": [
            "\n"
          ]
        },
        {
          "output_type": "stream",
          "name": "stdout",
          "text": [
            "\n",
            "      Epoch    GPU_mem   box_loss   cls_loss   dfl_loss  Instances       Size\n"
          ]
        },
        {
          "output_type": "stream",
          "name": "stderr",
          "text": [
            "      16/35      3.27G      1.353     0.7755      1.079        170        640: 100%|██████████| 3/3 [00:00<00:00,  6.35it/s]\n",
            "                 Class     Images  Instances      Box(P          R      mAP50  mAP50-95): 100%|██████████| 1/1 [00:00<00:00,  4.86it/s]"
          ]
        },
        {
          "output_type": "stream",
          "name": "stdout",
          "text": [
            "                   all         11        314      0.803      0.666      0.791      0.443\n"
          ]
        },
        {
          "output_type": "stream",
          "name": "stderr",
          "text": [
            "\n"
          ]
        },
        {
          "output_type": "stream",
          "name": "stdout",
          "text": [
            "\n",
            "      Epoch    GPU_mem   box_loss   cls_loss   dfl_loss  Instances       Size\n"
          ]
        },
        {
          "output_type": "stream",
          "name": "stderr",
          "text": [
            "      17/35      3.27G      1.373     0.7761      1.058        185        640: 100%|██████████| 3/3 [00:00<00:00,  5.65it/s]\n",
            "                 Class     Images  Instances      Box(P          R      mAP50  mAP50-95): 100%|██████████| 1/1 [00:00<00:00,  5.25it/s]"
          ]
        },
        {
          "output_type": "stream",
          "name": "stdout",
          "text": [
            "                   all         11        314      0.796      0.672      0.799      0.462\n"
          ]
        },
        {
          "output_type": "stream",
          "name": "stderr",
          "text": [
            "\n"
          ]
        },
        {
          "output_type": "stream",
          "name": "stdout",
          "text": [
            "\n",
            "      Epoch    GPU_mem   box_loss   cls_loss   dfl_loss  Instances       Size\n"
          ]
        },
        {
          "output_type": "stream",
          "name": "stderr",
          "text": [
            "      18/35      3.27G      1.398     0.7607      1.036        200        640: 100%|██████████| 3/3 [00:00<00:00,  5.82it/s]\n",
            "                 Class     Images  Instances      Box(P          R      mAP50  mAP50-95): 100%|██████████| 1/1 [00:00<00:00,  3.66it/s]"
          ]
        },
        {
          "output_type": "stream",
          "name": "stdout",
          "text": [
            "                   all         11        314      0.807      0.692      0.801      0.465\n"
          ]
        },
        {
          "output_type": "stream",
          "name": "stderr",
          "text": [
            "\n"
          ]
        },
        {
          "output_type": "stream",
          "name": "stdout",
          "text": [
            "\n",
            "      Epoch    GPU_mem   box_loss   cls_loss   dfl_loss  Instances       Size\n"
          ]
        },
        {
          "output_type": "stream",
          "name": "stderr",
          "text": [
            "      19/35      3.27G      1.345     0.7777      1.077        112        640: 100%|██████████| 3/3 [00:00<00:00,  3.82it/s]\n",
            "                 Class     Images  Instances      Box(P          R      mAP50  mAP50-95): 100%|██████████| 1/1 [00:00<00:00,  4.05it/s]"
          ]
        },
        {
          "output_type": "stream",
          "name": "stdout",
          "text": [
            "                   all         11        314      0.794      0.704      0.805      0.467\n"
          ]
        },
        {
          "output_type": "stream",
          "name": "stderr",
          "text": [
            "\n"
          ]
        },
        {
          "output_type": "stream",
          "name": "stdout",
          "text": [
            "\n",
            "      Epoch    GPU_mem   box_loss   cls_loss   dfl_loss  Instances       Size\n"
          ]
        },
        {
          "output_type": "stream",
          "name": "stderr",
          "text": [
            "      20/35      3.27G      1.408     0.7706      1.072        199        640: 100%|██████████| 3/3 [00:00<00:00,  4.08it/s]\n",
            "                 Class     Images  Instances      Box(P          R      mAP50  mAP50-95): 100%|██████████| 1/1 [00:00<00:00,  3.87it/s]"
          ]
        },
        {
          "output_type": "stream",
          "name": "stdout",
          "text": [
            "                   all         11        314      0.805      0.691      0.804      0.465\n"
          ]
        },
        {
          "output_type": "stream",
          "name": "stderr",
          "text": [
            "\n"
          ]
        },
        {
          "output_type": "stream",
          "name": "stdout",
          "text": [
            "\n",
            "      Epoch    GPU_mem   box_loss   cls_loss   dfl_loss  Instances       Size\n"
          ]
        },
        {
          "output_type": "stream",
          "name": "stderr",
          "text": [
            "      21/35      3.27G      1.362     0.7469      1.022        244        640: 100%|██████████| 3/3 [00:00<00:00,  5.12it/s]\n",
            "                 Class     Images  Instances      Box(P          R      mAP50  mAP50-95): 100%|██████████| 1/1 [00:00<00:00,  5.53it/s]\n"
          ]
        },
        {
          "output_type": "stream",
          "name": "stdout",
          "text": [
            "                   all         11        314      0.811      0.709      0.803      0.467\n",
            "\n",
            "      Epoch    GPU_mem   box_loss   cls_loss   dfl_loss  Instances       Size\n"
          ]
        },
        {
          "output_type": "stream",
          "name": "stderr",
          "text": [
            "      22/35      3.27G       1.32     0.7331      1.035        157        640: 100%|██████████| 3/3 [00:00<00:00,  5.87it/s]\n",
            "                 Class     Images  Instances      Box(P          R      mAP50  mAP50-95): 100%|██████████| 1/1 [00:00<00:00,  5.64it/s]\n"
          ]
        },
        {
          "output_type": "stream",
          "name": "stdout",
          "text": [
            "                   all         11        314      0.823       0.71      0.811       0.47\n",
            "\n",
            "      Epoch    GPU_mem   box_loss   cls_loss   dfl_loss  Instances       Size\n"
          ]
        },
        {
          "output_type": "stream",
          "name": "stderr",
          "text": [
            "      23/35      3.27G      1.377      0.746      1.033        286        640: 100%|██████████| 3/3 [00:00<00:00,  5.95it/s]\n",
            "                 Class     Images  Instances      Box(P          R      mAP50  mAP50-95): 100%|██████████| 1/1 [00:00<00:00,  7.27it/s]"
          ]
        },
        {
          "output_type": "stream",
          "name": "stdout",
          "text": [
            "                   all         11        314      0.844      0.704      0.813      0.477\n"
          ]
        },
        {
          "output_type": "stream",
          "name": "stderr",
          "text": [
            "\n"
          ]
        },
        {
          "output_type": "stream",
          "name": "stdout",
          "text": [
            "\n",
            "      Epoch    GPU_mem   box_loss   cls_loss   dfl_loss  Instances       Size\n"
          ]
        },
        {
          "output_type": "stream",
          "name": "stderr",
          "text": [
            "      24/35      3.27G      1.336     0.7438      1.051        175        640: 100%|██████████| 3/3 [00:00<00:00,  5.72it/s]\n",
            "                 Class     Images  Instances      Box(P          R      mAP50  mAP50-95): 100%|██████████| 1/1 [00:00<00:00,  5.44it/s]"
          ]
        },
        {
          "output_type": "stream",
          "name": "stdout",
          "text": [
            "                   all         11        314      0.835      0.704      0.824      0.479\n"
          ]
        },
        {
          "output_type": "stream",
          "name": "stderr",
          "text": [
            "\n"
          ]
        },
        {
          "output_type": "stream",
          "name": "stdout",
          "text": [
            "\n",
            "      Epoch    GPU_mem   box_loss   cls_loss   dfl_loss  Instances       Size\n"
          ]
        },
        {
          "output_type": "stream",
          "name": "stderr",
          "text": [
            "      25/35      3.27G       1.26     0.7197      1.028        124        640: 100%|██████████| 3/3 [00:00<00:00,  5.75it/s]\n",
            "                 Class     Images  Instances      Box(P          R      mAP50  mAP50-95): 100%|██████████| 1/1 [00:00<00:00, 11.02it/s]"
          ]
        },
        {
          "output_type": "stream",
          "name": "stdout",
          "text": [
            "                   all         11        314      0.815      0.736      0.828      0.475\n"
          ]
        },
        {
          "output_type": "stream",
          "name": "stderr",
          "text": [
            "\n"
          ]
        },
        {
          "output_type": "stream",
          "name": "stdout",
          "text": [
            "Closing dataloader mosaic\n",
            "\u001b[34m\u001b[1malbumentations: \u001b[0mBlur(p=0.01, blur_limit=(3, 7)), MedianBlur(p=0.01, blur_limit=(3, 7)), ToGray(p=0.01, method='weighted_average', num_output_channels=3), CLAHE(p=0.01, clip_limit=(1.0, 4.0), tile_grid_size=(8, 8))\n",
            "\n",
            "      Epoch    GPU_mem   box_loss   cls_loss   dfl_loss  Instances       Size\n"
          ]
        },
        {
          "output_type": "stream",
          "name": "stderr",
          "text": [
            "      26/35      3.28G      1.244     0.8389      1.022        104        640: 100%|██████████| 3/3 [00:01<00:00,  1.88it/s]\n",
            "                 Class     Images  Instances      Box(P          R      mAP50  mAP50-95): 100%|██████████| 1/1 [00:00<00:00,  2.11it/s]"
          ]
        },
        {
          "output_type": "stream",
          "name": "stdout",
          "text": [
            "                   all         11        314      0.805      0.737      0.826      0.477\n"
          ]
        },
        {
          "output_type": "stream",
          "name": "stderr",
          "text": [
            "\n"
          ]
        },
        {
          "output_type": "stream",
          "name": "stdout",
          "text": [
            "\n",
            "      Epoch    GPU_mem   box_loss   cls_loss   dfl_loss  Instances       Size\n"
          ]
        },
        {
          "output_type": "stream",
          "name": "stderr",
          "text": [
            "      27/35      3.28G      1.312      0.867      1.029         98        640: 100%|██████████| 3/3 [00:00<00:00,  6.74it/s]\n",
            "                 Class     Images  Instances      Box(P          R      mAP50  mAP50-95): 100%|██████████| 1/1 [00:00<00:00,  5.06it/s]"
          ]
        },
        {
          "output_type": "stream",
          "name": "stdout",
          "text": [
            "                   all         11        314      0.821      0.713      0.826      0.473\n"
          ]
        },
        {
          "output_type": "stream",
          "name": "stderr",
          "text": [
            "\n"
          ]
        },
        {
          "output_type": "stream",
          "name": "stdout",
          "text": [
            "\n",
            "      Epoch    GPU_mem   box_loss   cls_loss   dfl_loss  Instances       Size\n"
          ]
        },
        {
          "output_type": "stream",
          "name": "stderr",
          "text": [
            "      28/35      3.28G       1.29     0.8596      1.044         95        640: 100%|██████████| 3/3 [00:00<00:00,  6.31it/s]\n",
            "                 Class     Images  Instances      Box(P          R      mAP50  mAP50-95): 100%|██████████| 1/1 [00:00<00:00,  5.38it/s]"
          ]
        },
        {
          "output_type": "stream",
          "name": "stdout",
          "text": [
            "                   all         11        314      0.819      0.706       0.82      0.465\n"
          ]
        },
        {
          "output_type": "stream",
          "name": "stderr",
          "text": [
            "\n"
          ]
        },
        {
          "output_type": "stream",
          "name": "stdout",
          "text": [
            "\n",
            "      Epoch    GPU_mem   box_loss   cls_loss   dfl_loss  Instances       Size\n"
          ]
        },
        {
          "output_type": "stream",
          "name": "stderr",
          "text": [
            "      29/35       3.3G      1.238     0.8076      1.028         86        640: 100%|██████████| 3/3 [00:00<00:00,  4.75it/s]\n",
            "                 Class     Images  Instances      Box(P          R      mAP50  mAP50-95): 100%|██████████| 1/1 [00:00<00:00,  3.95it/s]"
          ]
        },
        {
          "output_type": "stream",
          "name": "stdout",
          "text": [
            "                   all         11        314      0.819      0.706       0.82      0.465\n"
          ]
        },
        {
          "output_type": "stream",
          "name": "stderr",
          "text": [
            "\n"
          ]
        },
        {
          "output_type": "stream",
          "name": "stdout",
          "text": [
            "\n",
            "      Epoch    GPU_mem   box_loss   cls_loss   dfl_loss  Instances       Size\n"
          ]
        },
        {
          "output_type": "stream",
          "name": "stderr",
          "text": [
            "      30/35       3.3G      1.272     0.8006      1.021         96        640: 100%|██████████| 3/3 [00:00<00:00,  4.21it/s]\n",
            "                 Class     Images  Instances      Box(P          R      mAP50  mAP50-95): 100%|██████████| 1/1 [00:00<00:00,  3.63it/s]"
          ]
        },
        {
          "output_type": "stream",
          "name": "stdout",
          "text": [
            "                   all         11        314      0.813      0.694      0.823      0.471\n"
          ]
        },
        {
          "output_type": "stream",
          "name": "stderr",
          "text": [
            "\n"
          ]
        },
        {
          "output_type": "stream",
          "name": "stdout",
          "text": [
            "\n",
            "      Epoch    GPU_mem   box_loss   cls_loss   dfl_loss  Instances       Size\n"
          ]
        },
        {
          "output_type": "stream",
          "name": "stderr",
          "text": [
            "      31/35       3.3G      1.273     0.7853      1.033         97        640: 100%|██████████| 3/3 [00:00<00:00,  3.96it/s]\n",
            "                 Class     Images  Instances      Box(P          R      mAP50  mAP50-95): 100%|██████████| 1/1 [00:00<00:00,  7.37it/s]"
          ]
        },
        {
          "output_type": "stream",
          "name": "stdout",
          "text": [
            "                   all         11        314      0.858      0.669      0.815      0.474\n"
          ]
        },
        {
          "output_type": "stream",
          "name": "stderr",
          "text": [
            "\n"
          ]
        },
        {
          "output_type": "stream",
          "name": "stdout",
          "text": [
            "\n",
            "      Epoch    GPU_mem   box_loss   cls_loss   dfl_loss  Instances       Size\n"
          ]
        },
        {
          "output_type": "stream",
          "name": "stderr",
          "text": [
            "      32/35       3.3G      1.192     0.7433      1.019         80        640: 100%|██████████| 3/3 [00:00<00:00,  3.57it/s]\n",
            "                 Class     Images  Instances      Box(P          R      mAP50  mAP50-95): 100%|██████████| 1/1 [00:00<00:00, 10.96it/s]"
          ]
        },
        {
          "output_type": "stream",
          "name": "stdout",
          "text": [
            "                   all         11        314      0.819      0.701      0.817      0.478\n"
          ]
        },
        {
          "output_type": "stream",
          "name": "stderr",
          "text": [
            "\n"
          ]
        },
        {
          "output_type": "stream",
          "name": "stdout",
          "text": [
            "\n",
            "      Epoch    GPU_mem   box_loss   cls_loss   dfl_loss  Instances       Size\n"
          ]
        },
        {
          "output_type": "stream",
          "name": "stderr",
          "text": [
            "      33/35       3.3G      1.175     0.7133      1.025         76        640: 100%|██████████| 3/3 [00:00<00:00,  6.40it/s]\n",
            "                 Class     Images  Instances      Box(P          R      mAP50  mAP50-95): 100%|██████████| 1/1 [00:00<00:00,  5.09it/s]\n"
          ]
        },
        {
          "output_type": "stream",
          "name": "stdout",
          "text": [
            "                   all         11        314      0.819      0.701      0.817      0.478\n",
            "\n",
            "      Epoch    GPU_mem   box_loss   cls_loss   dfl_loss  Instances       Size\n"
          ]
        },
        {
          "output_type": "stream",
          "name": "stderr",
          "text": [
            "      34/35       3.3G      1.246     0.7361      0.988         95        640: 100%|██████████| 3/3 [00:00<00:00,  6.55it/s]\n",
            "                 Class     Images  Instances      Box(P          R      mAP50  mAP50-95): 100%|██████████| 1/1 [00:00<00:00,  4.94it/s]"
          ]
        },
        {
          "output_type": "stream",
          "name": "stdout",
          "text": [
            "                   all         11        314      0.822       0.71       0.82      0.482\n"
          ]
        },
        {
          "output_type": "stream",
          "name": "stderr",
          "text": [
            "\n"
          ]
        },
        {
          "output_type": "stream",
          "name": "stdout",
          "text": [
            "\n",
            "      Epoch    GPU_mem   box_loss   cls_loss   dfl_loss  Instances       Size\n"
          ]
        },
        {
          "output_type": "stream",
          "name": "stderr",
          "text": [
            "      35/35       3.3G      1.212     0.7222       1.03         88        640: 100%|██████████| 3/3 [00:00<00:00,  6.31it/s]\n",
            "                 Class     Images  Instances      Box(P          R      mAP50  mAP50-95): 100%|██████████| 1/1 [00:00<00:00, 10.50it/s]"
          ]
        },
        {
          "output_type": "stream",
          "name": "stdout",
          "text": [
            "                   all         11        314      0.807      0.704      0.817      0.483\n"
          ]
        },
        {
          "output_type": "stream",
          "name": "stderr",
          "text": [
            "\n"
          ]
        },
        {
          "output_type": "stream",
          "name": "stdout",
          "text": [
            "\n",
            "35 epochs completed in 0.013 hours.\n",
            "Optimizer stripped from runs/detect/train2/weights/last.pt, 6.2MB\n",
            "Optimizer stripped from runs/detect/train2/weights/best.pt, 6.2MB\n",
            "\n",
            "Validating runs/detect/train2/weights/best.pt...\n",
            "Ultralytics 8.3.159 🚀 Python-3.11.13 torch-2.6.0+cu124 CUDA:0 (Tesla T4, 15095MiB)\n",
            "Model summary (fused): 72 layers, 3,005,843 parameters, 0 gradients, 8.1 GFLOPs\n"
          ]
        },
        {
          "output_type": "stream",
          "name": "stderr",
          "text": [
            "                 Class     Images  Instances      Box(P          R      mAP50  mAP50-95): 100%|██████████| 1/1 [00:00<00:00,  9.69it/s]\n"
          ]
        },
        {
          "output_type": "stream",
          "name": "stdout",
          "text": [
            "                   all         11        314      0.807      0.705      0.818      0.483\n",
            "Speed: 0.1ms preprocess, 1.1ms inference, 0.0ms loss, 2.0ms postprocess per image\n",
            "Results saved to \u001b[1mruns/detect/train2\u001b[0m\n"
          ]
        },
        {
          "output_type": "execute_result",
          "data": {
            "text/plain": [
              "ultralytics.utils.metrics.DetMetrics object with attributes:\n",
              "\n",
              "ap_class_index: array([0])\n",
              "box: ultralytics.utils.metrics.Metric object\n",
              "confusion_matrix: <ultralytics.utils.metrics.ConfusionMatrix object at 0x79cb05752f50>\n",
              "curves: ['Precision-Recall(B)', 'F1-Confidence(B)', 'Precision-Confidence(B)', 'Recall-Confidence(B)']\n",
              "curves_results: [[array([          0,    0.001001,    0.002002,    0.003003,    0.004004,    0.005005,    0.006006,    0.007007,    0.008008,    0.009009,     0.01001,    0.011011,    0.012012,    0.013013,    0.014014,    0.015015,    0.016016,    0.017017,    0.018018,    0.019019,     0.02002,    0.021021,    0.022022,    0.023023,\n",
              "          0.024024,    0.025025,    0.026026,    0.027027,    0.028028,    0.029029,     0.03003,    0.031031,    0.032032,    0.033033,    0.034034,    0.035035,    0.036036,    0.037037,    0.038038,    0.039039,     0.04004,    0.041041,    0.042042,    0.043043,    0.044044,    0.045045,    0.046046,    0.047047,\n",
              "          0.048048,    0.049049,     0.05005,    0.051051,    0.052052,    0.053053,    0.054054,    0.055055,    0.056056,    0.057057,    0.058058,    0.059059,     0.06006,    0.061061,    0.062062,    0.063063,    0.064064,    0.065065,    0.066066,    0.067067,    0.068068,    0.069069,     0.07007,    0.071071,\n",
              "          0.072072,    0.073073,    0.074074,    0.075075,    0.076076,    0.077077,    0.078078,    0.079079,     0.08008,    0.081081,    0.082082,    0.083083,    0.084084,    0.085085,    0.086086,    0.087087,    0.088088,    0.089089,     0.09009,    0.091091,    0.092092,    0.093093,    0.094094,    0.095095,\n",
              "          0.096096,    0.097097,    0.098098,    0.099099,      0.1001,      0.1011,      0.1021,      0.1031,      0.1041,     0.10511,     0.10611,     0.10711,     0.10811,     0.10911,     0.11011,     0.11111,     0.11211,     0.11311,     0.11411,     0.11512,     0.11612,     0.11712,     0.11812,     0.11912,\n",
              "           0.12012,     0.12112,     0.12212,     0.12312,     0.12412,     0.12513,     0.12613,     0.12713,     0.12813,     0.12913,     0.13013,     0.13113,     0.13213,     0.13313,     0.13413,     0.13514,     0.13614,     0.13714,     0.13814,     0.13914,     0.14014,     0.14114,     0.14214,     0.14314,\n",
              "           0.14414,     0.14515,     0.14615,     0.14715,     0.14815,     0.14915,     0.15015,     0.15115,     0.15215,     0.15315,     0.15415,     0.15516,     0.15616,     0.15716,     0.15816,     0.15916,     0.16016,     0.16116,     0.16216,     0.16316,     0.16416,     0.16517,     0.16617,     0.16717,\n",
              "           0.16817,     0.16917,     0.17017,     0.17117,     0.17217,     0.17317,     0.17417,     0.17518,     0.17618,     0.17718,     0.17818,     0.17918,     0.18018,     0.18118,     0.18218,     0.18318,     0.18418,     0.18519,     0.18619,     0.18719,     0.18819,     0.18919,     0.19019,     0.19119,\n",
              "           0.19219,     0.19319,     0.19419,      0.1952,      0.1962,      0.1972,      0.1982,      0.1992,      0.2002,      0.2012,      0.2022,      0.2032,      0.2042,     0.20521,     0.20621,     0.20721,     0.20821,     0.20921,     0.21021,     0.21121,     0.21221,     0.21321,     0.21421,     0.21522,\n",
              "           0.21622,     0.21722,     0.21822,     0.21922,     0.22022,     0.22122,     0.22222,     0.22322,     0.22422,     0.22523,     0.22623,     0.22723,     0.22823,     0.22923,     0.23023,     0.23123,     0.23223,     0.23323,     0.23423,     0.23524,     0.23624,     0.23724,     0.23824,     0.23924,\n",
              "           0.24024,     0.24124,     0.24224,     0.24324,     0.24424,     0.24525,     0.24625,     0.24725,     0.24825,     0.24925,     0.25025,     0.25125,     0.25225,     0.25325,     0.25425,     0.25526,     0.25626,     0.25726,     0.25826,     0.25926,     0.26026,     0.26126,     0.26226,     0.26326,\n",
              "           0.26426,     0.26527,     0.26627,     0.26727,     0.26827,     0.26927,     0.27027,     0.27127,     0.27227,     0.27327,     0.27427,     0.27528,     0.27628,     0.27728,     0.27828,     0.27928,     0.28028,     0.28128,     0.28228,     0.28328,     0.28428,     0.28529,     0.28629,     0.28729,\n",
              "           0.28829,     0.28929,     0.29029,     0.29129,     0.29229,     0.29329,     0.29429,      0.2953,      0.2963,      0.2973,      0.2983,      0.2993,      0.3003,      0.3013,      0.3023,      0.3033,      0.3043,     0.30531,     0.30631,     0.30731,     0.30831,     0.30931,     0.31031,     0.31131,\n",
              "           0.31231,     0.31331,     0.31431,     0.31532,     0.31632,     0.31732,     0.31832,     0.31932,     0.32032,     0.32132,     0.32232,     0.32332,     0.32432,     0.32533,     0.32633,     0.32733,     0.32833,     0.32933,     0.33033,     0.33133,     0.33233,     0.33333,     0.33433,     0.33534,\n",
              "           0.33634,     0.33734,     0.33834,     0.33934,     0.34034,     0.34134,     0.34234,     0.34334,     0.34434,     0.34535,     0.34635,     0.34735,     0.34835,     0.34935,     0.35035,     0.35135,     0.35235,     0.35335,     0.35435,     0.35536,     0.35636,     0.35736,     0.35836,     0.35936,\n",
              "           0.36036,     0.36136,     0.36236,     0.36336,     0.36436,     0.36537,     0.36637,     0.36737,     0.36837,     0.36937,     0.37037,     0.37137,     0.37237,     0.37337,     0.37437,     0.37538,     0.37638,     0.37738,     0.37838,     0.37938,     0.38038,     0.38138,     0.38238,     0.38338,\n",
              "           0.38438,     0.38539,     0.38639,     0.38739,     0.38839,     0.38939,     0.39039,     0.39139,     0.39239,     0.39339,     0.39439,      0.3954,      0.3964,      0.3974,      0.3984,      0.3994,      0.4004,      0.4014,      0.4024,      0.4034,      0.4044,     0.40541,     0.40641,     0.40741,\n",
              "           0.40841,     0.40941,     0.41041,     0.41141,     0.41241,     0.41341,     0.41441,     0.41542,     0.41642,     0.41742,     0.41842,     0.41942,     0.42042,     0.42142,     0.42242,     0.42342,     0.42442,     0.42543,     0.42643,     0.42743,     0.42843,     0.42943,     0.43043,     0.43143,\n",
              "           0.43243,     0.43343,     0.43443,     0.43544,     0.43644,     0.43744,     0.43844,     0.43944,     0.44044,     0.44144,     0.44244,     0.44344,     0.44444,     0.44545,     0.44645,     0.44745,     0.44845,     0.44945,     0.45045,     0.45145,     0.45245,     0.45345,     0.45445,     0.45546,\n",
              "           0.45646,     0.45746,     0.45846,     0.45946,     0.46046,     0.46146,     0.46246,     0.46346,     0.46446,     0.46547,     0.46647,     0.46747,     0.46847,     0.46947,     0.47047,     0.47147,     0.47247,     0.47347,     0.47447,     0.47548,     0.47648,     0.47748,     0.47848,     0.47948,\n",
              "           0.48048,     0.48148,     0.48248,     0.48348,     0.48448,     0.48549,     0.48649,     0.48749,     0.48849,     0.48949,     0.49049,     0.49149,     0.49249,     0.49349,     0.49449,      0.4955,      0.4965,      0.4975,      0.4985,      0.4995,      0.5005,      0.5015,      0.5025,      0.5035,\n",
              "            0.5045,     0.50551,     0.50651,     0.50751,     0.50851,     0.50951,     0.51051,     0.51151,     0.51251,     0.51351,     0.51451,     0.51552,     0.51652,     0.51752,     0.51852,     0.51952,     0.52052,     0.52152,     0.52252,     0.52352,     0.52452,     0.52553,     0.52653,     0.52753,\n",
              "           0.52853,     0.52953,     0.53053,     0.53153,     0.53253,     0.53353,     0.53453,     0.53554,     0.53654,     0.53754,     0.53854,     0.53954,     0.54054,     0.54154,     0.54254,     0.54354,     0.54454,     0.54555,     0.54655,     0.54755,     0.54855,     0.54955,     0.55055,     0.55155,\n",
              "           0.55255,     0.55355,     0.55455,     0.55556,     0.55656,     0.55756,     0.55856,     0.55956,     0.56056,     0.56156,     0.56256,     0.56356,     0.56456,     0.56557,     0.56657,     0.56757,     0.56857,     0.56957,     0.57057,     0.57157,     0.57257,     0.57357,     0.57457,     0.57558,\n",
              "           0.57658,     0.57758,     0.57858,     0.57958,     0.58058,     0.58158,     0.58258,     0.58358,     0.58458,     0.58559,     0.58659,     0.58759,     0.58859,     0.58959,     0.59059,     0.59159,     0.59259,     0.59359,     0.59459,      0.5956,      0.5966,      0.5976,      0.5986,      0.5996,\n",
              "            0.6006,      0.6016,      0.6026,      0.6036,      0.6046,     0.60561,     0.60661,     0.60761,     0.60861,     0.60961,     0.61061,     0.61161,     0.61261,     0.61361,     0.61461,     0.61562,     0.61662,     0.61762,     0.61862,     0.61962,     0.62062,     0.62162,     0.62262,     0.62362,\n",
              "           0.62462,     0.62563,     0.62663,     0.62763,     0.62863,     0.62963,     0.63063,     0.63163,     0.63263,     0.63363,     0.63463,     0.63564,     0.63664,     0.63764,     0.63864,     0.63964,     0.64064,     0.64164,     0.64264,     0.64364,     0.64464,     0.64565,     0.64665,     0.64765,\n",
              "           0.64865,     0.64965,     0.65065,     0.65165,     0.65265,     0.65365,     0.65465,     0.65566,     0.65666,     0.65766,     0.65866,     0.65966,     0.66066,     0.66166,     0.66266,     0.66366,     0.66466,     0.66567,     0.66667,     0.66767,     0.66867,     0.66967,     0.67067,     0.67167,\n",
              "           0.67267,     0.67367,     0.67467,     0.67568,     0.67668,     0.67768,     0.67868,     0.67968,     0.68068,     0.68168,     0.68268,     0.68368,     0.68468,     0.68569,     0.68669,     0.68769,     0.68869,     0.68969,     0.69069,     0.69169,     0.69269,     0.69369,     0.69469,      0.6957,\n",
              "            0.6967,      0.6977,      0.6987,      0.6997,      0.7007,      0.7017,      0.7027,      0.7037,      0.7047,     0.70571,     0.70671,     0.70771,     0.70871,     0.70971,     0.71071,     0.71171,     0.71271,     0.71371,     0.71471,     0.71572,     0.71672,     0.71772,     0.71872,     0.71972,\n",
              "           0.72072,     0.72172,     0.72272,     0.72372,     0.72472,     0.72573,     0.72673,     0.72773,     0.72873,     0.72973,     0.73073,     0.73173,     0.73273,     0.73373,     0.73473,     0.73574,     0.73674,     0.73774,     0.73874,     0.73974,     0.74074,     0.74174,     0.74274,     0.74374,\n",
              "           0.74474,     0.74575,     0.74675,     0.74775,     0.74875,     0.74975,     0.75075,     0.75175,     0.75275,     0.75375,     0.75475,     0.75576,     0.75676,     0.75776,     0.75876,     0.75976,     0.76076,     0.76176,     0.76276,     0.76376,     0.76476,     0.76577,     0.76677,     0.76777,\n",
              "           0.76877,     0.76977,     0.77077,     0.77177,     0.77277,     0.77377,     0.77477,     0.77578,     0.77678,     0.77778,     0.77878,     0.77978,     0.78078,     0.78178,     0.78278,     0.78378,     0.78478,     0.78579,     0.78679,     0.78779,     0.78879,     0.78979,     0.79079,     0.79179,\n",
              "           0.79279,     0.79379,     0.79479,      0.7958,      0.7968,      0.7978,      0.7988,      0.7998,      0.8008,      0.8018,      0.8028,      0.8038,      0.8048,     0.80581,     0.80681,     0.80781,     0.80881,     0.80981,     0.81081,     0.81181,     0.81281,     0.81381,     0.81481,     0.81582,\n",
              "           0.81682,     0.81782,     0.81882,     0.81982,     0.82082,     0.82182,     0.82282,     0.82382,     0.82482,     0.82583,     0.82683,     0.82783,     0.82883,     0.82983,     0.83083,     0.83183,     0.83283,     0.83383,     0.83483,     0.83584,     0.83684,     0.83784,     0.83884,     0.83984,\n",
              "           0.84084,     0.84184,     0.84284,     0.84384,     0.84484,     0.84585,     0.84685,     0.84785,     0.84885,     0.84985,     0.85085,     0.85185,     0.85285,     0.85385,     0.85485,     0.85586,     0.85686,     0.85786,     0.85886,     0.85986,     0.86086,     0.86186,     0.86286,     0.86386,\n",
              "           0.86486,     0.86587,     0.86687,     0.86787,     0.86887,     0.86987,     0.87087,     0.87187,     0.87287,     0.87387,     0.87487,     0.87588,     0.87688,     0.87788,     0.87888,     0.87988,     0.88088,     0.88188,     0.88288,     0.88388,     0.88488,     0.88589,     0.88689,     0.88789,\n",
              "           0.88889,     0.88989,     0.89089,     0.89189,     0.89289,     0.89389,     0.89489,      0.8959,      0.8969,      0.8979,      0.8989,      0.8999,      0.9009,      0.9019,      0.9029,      0.9039,      0.9049,     0.90591,     0.90691,     0.90791,     0.90891,     0.90991,     0.91091,     0.91191,\n",
              "           0.91291,     0.91391,     0.91491,     0.91592,     0.91692,     0.91792,     0.91892,     0.91992,     0.92092,     0.92192,     0.92292,     0.92392,     0.92492,     0.92593,     0.92693,     0.92793,     0.92893,     0.92993,     0.93093,     0.93193,     0.93293,     0.93393,     0.93493,     0.93594,\n",
              "           0.93694,     0.93794,     0.93894,     0.93994,     0.94094,     0.94194,     0.94294,     0.94394,     0.94494,     0.94595,     0.94695,     0.94795,     0.94895,     0.94995,     0.95095,     0.95195,     0.95295,     0.95395,     0.95495,     0.95596,     0.95696,     0.95796,     0.95896,     0.95996,\n",
              "           0.96096,     0.96196,     0.96296,     0.96396,     0.96496,     0.96597,     0.96697,     0.96797,     0.96897,     0.96997,     0.97097,     0.97197,     0.97297,     0.97397,     0.97497,     0.97598,     0.97698,     0.97798,     0.97898,     0.97998,     0.98098,     0.98198,     0.98298,     0.98398,\n",
              "           0.98498,     0.98599,     0.98699,     0.98799,     0.98899,     0.98999,     0.99099,     0.99199,     0.99299,     0.99399,     0.99499,       0.996,       0.997,       0.998,       0.999,           1]), array([[          1,           1,           1,           1,           1,           1,           1,           1,           1,           1,           1,           1,           1,           1,           1,           1,           1,           1,           1,           1,           1,           1,           1,\n",
              "                  1,           1,           1,           1,           1,           1,           1,           1,           1,           1,           1,           1,           1,           1,           1,           1,           1,           1,           1,           1,           1,           1,           1,\n",
              "                  1,           1,           1,           1,           1,           1,           1,           1,           1,           1,           1,           1,           1,           1,           1,           1,           1,           1,           1,           1,           1,           1,           1,\n",
              "                  1,           1,           1,           1,           1,           1,           1,           1,           1,           1,           1,           1,           1,           1,           1,           1,           1,           1,           1,           1,           1,           1,           1,\n",
              "                  1,           1,           1,           1,           1,           1,           1,           1,           1,           1,           1,           1,           1,           1,           1,           1,           1,           1,           1,           1,           1,           1,           1,\n",
              "                  1,           1,           1,           1,           1,           1,           1,           1,           1,           1,           1,           1,           1,           1,           1,           1,           1,           1,           1,           1,           1,           1,           1,\n",
              "                  1,           1,           1,           1,           1,           1,           1,           1,           1,           1,           1,           1,           1,           1,           1,           1,           1,           1,           1,           1,           1,           1,           1,\n",
              "                  1,           1,           1,           1,           1,           1,           1,           1,           1,           1,           1,           1,           1,           1,           1,           1,           1,           1,           1,           1,           1,           1,           1,\n",
              "                  1,           1,           1,           1,           1,           1,           1,           1,           1,           1,           1,           1,           1,           1,           1,           1,           1,           1,           1,           1,           1,           1,           1,\n",
              "                  1,           1,           1,           1,           1,           1,           1,           1,           1,           1,           1,           1,           1,           1,           1,           1,           1,           1,           1,           1,           1,           1,           1,\n",
              "                  1,           1,           1,           1,           1,           1,           1,           1,           1,           1,           1,           1,           1,           1,           1,           1,           1,           1,           1,           1,           1,           1,           1,\n",
              "                  1,           1,           1,           1,           1,           1,           1,           1,           1,           1,           1,           1,           1,           1,           1,           1,           1,           1,           1,           1,           1,           1,           1,\n",
              "                  1,           1,           1,           1,           1,           1,           1,           1,           1,           1,           1,           1,           1,           1,           1,           1,           1,           1,           1,           1,           1,           1,           1,\n",
              "                  1,           1,           1,           1,           1,           1,           1,           1,           1,           1,           1,           1,           1,           1,           1,           1,           1,           1,           1,           1,           1,           1,           1,\n",
              "                  1,           1,           1,           1,           1,           1,           1,           1,           1,           1,           1,           1,           1,           1,           1,           1,           1,           1,           1,           1,           1,           1,           1,\n",
              "                  1,           1,           1,           1,           1,           1,           1,           1,           1,           1,           1,           1,           1,           1,           1,           1,           1,           1,           1,           1,           1,           1,           1,\n",
              "                  1,           1,           1,           1,           1,           1,           1,           1,           1,           1,           1,           1,           1,           1,           1,           1,           1,           1,           1,           1,           1,           1,           1,\n",
              "                  1,           1,           1,           1,           1,           1,           1,           1,           1,           1,           1,           1,           1,           1,     0.99355,     0.99355,     0.99355,     0.99355,     0.99355,     0.99355,     0.99355,     0.99355,     0.99355,\n",
              "            0.99355,     0.99355,     0.99355,     0.99355,     0.99355,     0.99355,     0.99355,     0.99355,     0.99355,     0.99355,     0.99355,     0.99355,     0.99355,     0.99355,     0.99355,     0.99355,     0.99355,     0.99355,     0.99355,     0.99355,     0.99355,     0.99355,     0.99355,\n",
              "            0.99355,     0.99355,     0.99355,     0.99355,     0.99355,     0.99355,     0.99355,     0.99355,     0.99355,     0.99355,     0.99355,     0.99355,     0.99355,     0.99355,     0.99355,     0.99355,     0.99355,     0.99355,     0.99355,     0.99355,     0.99355,     0.99355,     0.99355,\n",
              "            0.99355,     0.99355,     0.99355,     0.99355,     0.99355,     0.99355,     0.99355,     0.99355,     0.99355,     0.99355,     0.99355,     0.99355,     0.99355,     0.99355,     0.99355,     0.99355,     0.99355,     0.99355,     0.99355,     0.99355,     0.99355,     0.99355,     0.99355,\n",
              "            0.99355,     0.99355,     0.99355,     0.99355,     0.99355,     0.99355,     0.99355,     0.98758,     0.98758,     0.98758,     0.98758,     0.98758,     0.98758,     0.98758,     0.98758,     0.98758,     0.98758,     0.98758,     0.98758,     0.98758,     0.98758,     0.98758,     0.98758,\n",
              "             0.9816,      0.9816,      0.9816,      0.9816,     0.97576,     0.97576,     0.97576,     0.96429,     0.96429,     0.96429,     0.95977,     0.95977,     0.95977,     0.95977,     0.95977,     0.95977,     0.95977,     0.95977,     0.95977,     0.95977,     0.95977,     0.95977,     0.95977,\n",
              "            0.95977,     0.95977,     0.95977,      0.9548,      0.9548,      0.9548,      0.9548,      0.9548,      0.9548,     0.95028,     0.95028,     0.95028,     0.95028,     0.95028,     0.95028,     0.95028,     0.95028,     0.95028,     0.95028,     0.94536,     0.94536,     0.94536,     0.94054,\n",
              "            0.94054,     0.94054,     0.93617,     0.93617,     0.93617,     0.93617,     0.93617,     0.93617,      0.9267,      0.9267,      0.9267,      0.9267,     0.92268,     0.92268,     0.92268,     0.92268,     0.92268,     0.92268,     0.92079,     0.92079,     0.92079,     0.92079,     0.92079,\n",
              "            0.92079,     0.92079,     0.92079,     0.92079,     0.92079,     0.92079,     0.92079,     0.92079,     0.92079,     0.92079,     0.92079,     0.92079,     0.92079,     0.92079,     0.92079,     0.92079,     0.92079,     0.91304,     0.91304,     0.91304,     0.91304,     0.91304,     0.91304,\n",
              "            0.91304,     0.91304,     0.91304,     0.91304,     0.90952,     0.90952,     0.90952,     0.90952,     0.90952,     0.90952,     0.90141,     0.90141,     0.90141,     0.88991,     0.88991,     0.88991,     0.88991,     0.88991,     0.88991,     0.88991,     0.88235,     0.88235,     0.88235,\n",
              "             0.8821,      0.8821,      0.8821,      0.8821,      0.8821,      0.8821,      0.8821,      0.8821,      0.8821,      0.8821,      0.8821,      0.8821,      0.8821,      0.8821,      0.8821,      0.8821,      0.8821,      0.8821,      0.8821,      0.8821,      0.8821,      0.8821,     0.87607,\n",
              "            0.87607,     0.87607,     0.87607,     0.87607,     0.87607,     0.87607,     0.87607,     0.87607,     0.87607,     0.86192,     0.86192,     0.86192,     0.84146,     0.84146,     0.84146,        0.84,        0.84,        0.84,        0.84,        0.84,        0.84,        0.84,        0.84,\n",
              "               0.84,        0.84,     0.83794,     0.83794,     0.83794,     0.83794,     0.83794,     0.83794,     0.83398,     0.83398,     0.83398,     0.83398,     0.83398,     0.83398,     0.83398,     0.83398,     0.83398,     0.83398,     0.83398,     0.83398,     0.83398,      0.8251,      0.8251,\n",
              "             0.8251,     0.82397,     0.82397,     0.82397,     0.82397,     0.82397,     0.82397,     0.82397,     0.82397,     0.82397,     0.81852,     0.81852,     0.81852,     0.81852,     0.80727,     0.80727,     0.80727,     0.80216,     0.80216,     0.80216,     0.80142,     0.80142,     0.80142,\n",
              "            0.80142,     0.80142,     0.80142,     0.80142,     0.80142,     0.80142,     0.80142,      0.7993,      0.7993,      0.7993,     0.79585,     0.79585,     0.79585,     0.79585,     0.79585,     0.79585,     0.79585,     0.79585,     0.79585,     0.78571,     0.78571,     0.78571,     0.77076,\n",
              "            0.77076,     0.77076,     0.77076,     0.76393,     0.76393,     0.76393,     0.75241,     0.75241,     0.75241,      0.7508,      0.7508,      0.7508,      0.7375,      0.7375,      0.7375,     0.73375,     0.73375,     0.73375,     0.73375,      0.7234,      0.7234,      0.7234,     0.71557,\n",
              "            0.71557,     0.71557,     0.71429,     0.71429,     0.71429,     0.71091,     0.71091,     0.71091,      0.7076,      0.7076,      0.7076,      0.7064,      0.7064,      0.7064,      0.7064,     0.70115,     0.70115,     0.70115,         0.7,         0.7,         0.7,     0.69886,     0.69886,\n",
              "            0.69886,     0.69382,     0.69382,     0.69382,     0.67391,     0.67391,     0.67391,     0.67391,     0.67116,     0.67116,     0.67116,     0.64767,     0.64767,     0.64767,     0.64615,     0.64615,     0.64615,     0.64615,     0.64615,     0.64615,     0.63409,     0.63409,     0.63409,\n",
              "            0.63342,     0.63342,     0.63342,     0.63342,     0.61893,     0.61893,     0.61893,     0.57658,     0.57658,     0.57658,     0.57494,     0.57494,     0.57494,     0.55603,     0.55603,     0.55603,     0.54526,     0.54526,     0.54526,     0.54526,     0.53608,     0.53608,     0.53608,\n",
              "            0.51076,     0.51076,     0.51076,     0.51072,     0.51072,     0.51072,     0.50674,     0.50674,     0.50674,     0.49624,     0.49624,     0.49624,     0.45533,     0.45533,     0.45533,     0.45533,     0.45085,     0.45085,     0.45085,     0.44874,     0.44874,     0.44874,     0.44444,\n",
              "            0.44444,     0.44444,     0.44316,     0.44316,     0.44316,     0.43619,     0.43619,     0.43619,     0.43619,     0.43569,     0.43569,     0.43569,      0.4345,      0.4345,      0.4345,     0.42457,     0.42457,     0.42457,     0.42349,     0.42349,     0.42349,     0.39455,     0.39455,\n",
              "            0.39455,     0.38366,     0.38366,     0.38366,     0.38366,     0.38366,     0.38366,     0.38366,     0.37978,     0.37978,     0.37978,     0.37052,     0.37052,     0.37052,     0.37037,     0.37037,     0.37037,     0.35294,     0.35294,     0.35294,     0.35294,     0.35294,     0.35294,\n",
              "            0.35294,     0.35112,     0.35112,     0.35112,     0.34756,     0.34756,     0.34756,     0.34756,     0.34756,     0.34756,     0.34375,     0.34375,     0.34375,      0.3345,      0.3345,      0.3345,      0.3345,     0.31858,     0.31858,     0.31858,     0.30325,     0.30325,     0.30325,\n",
              "            0.29293,     0.29293,     0.29293,     0.29071,     0.29071,     0.29071,     0.28768,     0.28768,     0.28768,     0.28768,     0.27563,     0.27563,     0.27563,     0.27122,     0.27122,     0.27122,     0.25809,     0.25809,     0.25809,     0.22206,     0.22206,     0.22206,      0.2074,\n",
              "             0.2074,      0.2074,      0.1236,     0.12132,     0.11903,     0.11674,     0.11445,     0.11216,     0.10987,     0.10758,     0.10529,       0.103,     0.10071,    0.098426,    0.096137,    0.093848,    0.091559,     0.08927,    0.086981,    0.084692,    0.082403,    0.080114,    0.077825,\n",
              "           0.075536,    0.073247,    0.070958,    0.068669,     0.06638,    0.064091,    0.061802,    0.059513,    0.057224,    0.054935,    0.052646,    0.050357,    0.048069,     0.04578,    0.043491,    0.041202,    0.038913,    0.036624,    0.034335,    0.032046,    0.029757,    0.027468,    0.025179,\n",
              "            0.02289,    0.020601,    0.018312,    0.016023,    0.013734,    0.011445,   0.0091559,   0.0068669,    0.004578,    0.002289,           0]]), 'Recall', 'Precision'], [array([          0,    0.001001,    0.002002,    0.003003,    0.004004,    0.005005,    0.006006,    0.007007,    0.008008,    0.009009,     0.01001,    0.011011,    0.012012,    0.013013,    0.014014,    0.015015,    0.016016,    0.017017,    0.018018,    0.019019,     0.02002,    0.021021,    0.022022,    0.023023,\n",
              "          0.024024,    0.025025,    0.026026,    0.027027,    0.028028,    0.029029,     0.03003,    0.031031,    0.032032,    0.033033,    0.034034,    0.035035,    0.036036,    0.037037,    0.038038,    0.039039,     0.04004,    0.041041,    0.042042,    0.043043,    0.044044,    0.045045,    0.046046,    0.047047,\n",
              "          0.048048,    0.049049,     0.05005,    0.051051,    0.052052,    0.053053,    0.054054,    0.055055,    0.056056,    0.057057,    0.058058,    0.059059,     0.06006,    0.061061,    0.062062,    0.063063,    0.064064,    0.065065,    0.066066,    0.067067,    0.068068,    0.069069,     0.07007,    0.071071,\n",
              "          0.072072,    0.073073,    0.074074,    0.075075,    0.076076,    0.077077,    0.078078,    0.079079,     0.08008,    0.081081,    0.082082,    0.083083,    0.084084,    0.085085,    0.086086,    0.087087,    0.088088,    0.089089,     0.09009,    0.091091,    0.092092,    0.093093,    0.094094,    0.095095,\n",
              "          0.096096,    0.097097,    0.098098,    0.099099,      0.1001,      0.1011,      0.1021,      0.1031,      0.1041,     0.10511,     0.10611,     0.10711,     0.10811,     0.10911,     0.11011,     0.11111,     0.11211,     0.11311,     0.11411,     0.11512,     0.11612,     0.11712,     0.11812,     0.11912,\n",
              "           0.12012,     0.12112,     0.12212,     0.12312,     0.12412,     0.12513,     0.12613,     0.12713,     0.12813,     0.12913,     0.13013,     0.13113,     0.13213,     0.13313,     0.13413,     0.13514,     0.13614,     0.13714,     0.13814,     0.13914,     0.14014,     0.14114,     0.14214,     0.14314,\n",
              "           0.14414,     0.14515,     0.14615,     0.14715,     0.14815,     0.14915,     0.15015,     0.15115,     0.15215,     0.15315,     0.15415,     0.15516,     0.15616,     0.15716,     0.15816,     0.15916,     0.16016,     0.16116,     0.16216,     0.16316,     0.16416,     0.16517,     0.16617,     0.16717,\n",
              "           0.16817,     0.16917,     0.17017,     0.17117,     0.17217,     0.17317,     0.17417,     0.17518,     0.17618,     0.17718,     0.17818,     0.17918,     0.18018,     0.18118,     0.18218,     0.18318,     0.18418,     0.18519,     0.18619,     0.18719,     0.18819,     0.18919,     0.19019,     0.19119,\n",
              "           0.19219,     0.19319,     0.19419,      0.1952,      0.1962,      0.1972,      0.1982,      0.1992,      0.2002,      0.2012,      0.2022,      0.2032,      0.2042,     0.20521,     0.20621,     0.20721,     0.20821,     0.20921,     0.21021,     0.21121,     0.21221,     0.21321,     0.21421,     0.21522,\n",
              "           0.21622,     0.21722,     0.21822,     0.21922,     0.22022,     0.22122,     0.22222,     0.22322,     0.22422,     0.22523,     0.22623,     0.22723,     0.22823,     0.22923,     0.23023,     0.23123,     0.23223,     0.23323,     0.23423,     0.23524,     0.23624,     0.23724,     0.23824,     0.23924,\n",
              "           0.24024,     0.24124,     0.24224,     0.24324,     0.24424,     0.24525,     0.24625,     0.24725,     0.24825,     0.24925,     0.25025,     0.25125,     0.25225,     0.25325,     0.25425,     0.25526,     0.25626,     0.25726,     0.25826,     0.25926,     0.26026,     0.26126,     0.26226,     0.26326,\n",
              "           0.26426,     0.26527,     0.26627,     0.26727,     0.26827,     0.26927,     0.27027,     0.27127,     0.27227,     0.27327,     0.27427,     0.27528,     0.27628,     0.27728,     0.27828,     0.27928,     0.28028,     0.28128,     0.28228,     0.28328,     0.28428,     0.28529,     0.28629,     0.28729,\n",
              "           0.28829,     0.28929,     0.29029,     0.29129,     0.29229,     0.29329,     0.29429,      0.2953,      0.2963,      0.2973,      0.2983,      0.2993,      0.3003,      0.3013,      0.3023,      0.3033,      0.3043,     0.30531,     0.30631,     0.30731,     0.30831,     0.30931,     0.31031,     0.31131,\n",
              "           0.31231,     0.31331,     0.31431,     0.31532,     0.31632,     0.31732,     0.31832,     0.31932,     0.32032,     0.32132,     0.32232,     0.32332,     0.32432,     0.32533,     0.32633,     0.32733,     0.32833,     0.32933,     0.33033,     0.33133,     0.33233,     0.33333,     0.33433,     0.33534,\n",
              "           0.33634,     0.33734,     0.33834,     0.33934,     0.34034,     0.34134,     0.34234,     0.34334,     0.34434,     0.34535,     0.34635,     0.34735,     0.34835,     0.34935,     0.35035,     0.35135,     0.35235,     0.35335,     0.35435,     0.35536,     0.35636,     0.35736,     0.35836,     0.35936,\n",
              "           0.36036,     0.36136,     0.36236,     0.36336,     0.36436,     0.36537,     0.36637,     0.36737,     0.36837,     0.36937,     0.37037,     0.37137,     0.37237,     0.37337,     0.37437,     0.37538,     0.37638,     0.37738,     0.37838,     0.37938,     0.38038,     0.38138,     0.38238,     0.38338,\n",
              "           0.38438,     0.38539,     0.38639,     0.38739,     0.38839,     0.38939,     0.39039,     0.39139,     0.39239,     0.39339,     0.39439,      0.3954,      0.3964,      0.3974,      0.3984,      0.3994,      0.4004,      0.4014,      0.4024,      0.4034,      0.4044,     0.40541,     0.40641,     0.40741,\n",
              "           0.40841,     0.40941,     0.41041,     0.41141,     0.41241,     0.41341,     0.41441,     0.41542,     0.41642,     0.41742,     0.41842,     0.41942,     0.42042,     0.42142,     0.42242,     0.42342,     0.42442,     0.42543,     0.42643,     0.42743,     0.42843,     0.42943,     0.43043,     0.43143,\n",
              "           0.43243,     0.43343,     0.43443,     0.43544,     0.43644,     0.43744,     0.43844,     0.43944,     0.44044,     0.44144,     0.44244,     0.44344,     0.44444,     0.44545,     0.44645,     0.44745,     0.44845,     0.44945,     0.45045,     0.45145,     0.45245,     0.45345,     0.45445,     0.45546,\n",
              "           0.45646,     0.45746,     0.45846,     0.45946,     0.46046,     0.46146,     0.46246,     0.46346,     0.46446,     0.46547,     0.46647,     0.46747,     0.46847,     0.46947,     0.47047,     0.47147,     0.47247,     0.47347,     0.47447,     0.47548,     0.47648,     0.47748,     0.47848,     0.47948,\n",
              "           0.48048,     0.48148,     0.48248,     0.48348,     0.48448,     0.48549,     0.48649,     0.48749,     0.48849,     0.48949,     0.49049,     0.49149,     0.49249,     0.49349,     0.49449,      0.4955,      0.4965,      0.4975,      0.4985,      0.4995,      0.5005,      0.5015,      0.5025,      0.5035,\n",
              "            0.5045,     0.50551,     0.50651,     0.50751,     0.50851,     0.50951,     0.51051,     0.51151,     0.51251,     0.51351,     0.51451,     0.51552,     0.51652,     0.51752,     0.51852,     0.51952,     0.52052,     0.52152,     0.52252,     0.52352,     0.52452,     0.52553,     0.52653,     0.52753,\n",
              "           0.52853,     0.52953,     0.53053,     0.53153,     0.53253,     0.53353,     0.53453,     0.53554,     0.53654,     0.53754,     0.53854,     0.53954,     0.54054,     0.54154,     0.54254,     0.54354,     0.54454,     0.54555,     0.54655,     0.54755,     0.54855,     0.54955,     0.55055,     0.55155,\n",
              "           0.55255,     0.55355,     0.55455,     0.55556,     0.55656,     0.55756,     0.55856,     0.55956,     0.56056,     0.56156,     0.56256,     0.56356,     0.56456,     0.56557,     0.56657,     0.56757,     0.56857,     0.56957,     0.57057,     0.57157,     0.57257,     0.57357,     0.57457,     0.57558,\n",
              "           0.57658,     0.57758,     0.57858,     0.57958,     0.58058,     0.58158,     0.58258,     0.58358,     0.58458,     0.58559,     0.58659,     0.58759,     0.58859,     0.58959,     0.59059,     0.59159,     0.59259,     0.59359,     0.59459,      0.5956,      0.5966,      0.5976,      0.5986,      0.5996,\n",
              "            0.6006,      0.6016,      0.6026,      0.6036,      0.6046,     0.60561,     0.60661,     0.60761,     0.60861,     0.60961,     0.61061,     0.61161,     0.61261,     0.61361,     0.61461,     0.61562,     0.61662,     0.61762,     0.61862,     0.61962,     0.62062,     0.62162,     0.62262,     0.62362,\n",
              "           0.62462,     0.62563,     0.62663,     0.62763,     0.62863,     0.62963,     0.63063,     0.63163,     0.63263,     0.63363,     0.63463,     0.63564,     0.63664,     0.63764,     0.63864,     0.63964,     0.64064,     0.64164,     0.64264,     0.64364,     0.64464,     0.64565,     0.64665,     0.64765,\n",
              "           0.64865,     0.64965,     0.65065,     0.65165,     0.65265,     0.65365,     0.65465,     0.65566,     0.65666,     0.65766,     0.65866,     0.65966,     0.66066,     0.66166,     0.66266,     0.66366,     0.66466,     0.66567,     0.66667,     0.66767,     0.66867,     0.66967,     0.67067,     0.67167,\n",
              "           0.67267,     0.67367,     0.67467,     0.67568,     0.67668,     0.67768,     0.67868,     0.67968,     0.68068,     0.68168,     0.68268,     0.68368,     0.68468,     0.68569,     0.68669,     0.68769,     0.68869,     0.68969,     0.69069,     0.69169,     0.69269,     0.69369,     0.69469,      0.6957,\n",
              "            0.6967,      0.6977,      0.6987,      0.6997,      0.7007,      0.7017,      0.7027,      0.7037,      0.7047,     0.70571,     0.70671,     0.70771,     0.70871,     0.70971,     0.71071,     0.71171,     0.71271,     0.71371,     0.71471,     0.71572,     0.71672,     0.71772,     0.71872,     0.71972,\n",
              "           0.72072,     0.72172,     0.72272,     0.72372,     0.72472,     0.72573,     0.72673,     0.72773,     0.72873,     0.72973,     0.73073,     0.73173,     0.73273,     0.73373,     0.73473,     0.73574,     0.73674,     0.73774,     0.73874,     0.73974,     0.74074,     0.74174,     0.74274,     0.74374,\n",
              "           0.74474,     0.74575,     0.74675,     0.74775,     0.74875,     0.74975,     0.75075,     0.75175,     0.75275,     0.75375,     0.75475,     0.75576,     0.75676,     0.75776,     0.75876,     0.75976,     0.76076,     0.76176,     0.76276,     0.76376,     0.76476,     0.76577,     0.76677,     0.76777,\n",
              "           0.76877,     0.76977,     0.77077,     0.77177,     0.77277,     0.77377,     0.77477,     0.77578,     0.77678,     0.77778,     0.77878,     0.77978,     0.78078,     0.78178,     0.78278,     0.78378,     0.78478,     0.78579,     0.78679,     0.78779,     0.78879,     0.78979,     0.79079,     0.79179,\n",
              "           0.79279,     0.79379,     0.79479,      0.7958,      0.7968,      0.7978,      0.7988,      0.7998,      0.8008,      0.8018,      0.8028,      0.8038,      0.8048,     0.80581,     0.80681,     0.80781,     0.80881,     0.80981,     0.81081,     0.81181,     0.81281,     0.81381,     0.81481,     0.81582,\n",
              "           0.81682,     0.81782,     0.81882,     0.81982,     0.82082,     0.82182,     0.82282,     0.82382,     0.82482,     0.82583,     0.82683,     0.82783,     0.82883,     0.82983,     0.83083,     0.83183,     0.83283,     0.83383,     0.83483,     0.83584,     0.83684,     0.83784,     0.83884,     0.83984,\n",
              "           0.84084,     0.84184,     0.84284,     0.84384,     0.84484,     0.84585,     0.84685,     0.84785,     0.84885,     0.84985,     0.85085,     0.85185,     0.85285,     0.85385,     0.85485,     0.85586,     0.85686,     0.85786,     0.85886,     0.85986,     0.86086,     0.86186,     0.86286,     0.86386,\n",
              "           0.86486,     0.86587,     0.86687,     0.86787,     0.86887,     0.86987,     0.87087,     0.87187,     0.87287,     0.87387,     0.87487,     0.87588,     0.87688,     0.87788,     0.87888,     0.87988,     0.88088,     0.88188,     0.88288,     0.88388,     0.88488,     0.88589,     0.88689,     0.88789,\n",
              "           0.88889,     0.88989,     0.89089,     0.89189,     0.89289,     0.89389,     0.89489,      0.8959,      0.8969,      0.8979,      0.8989,      0.8999,      0.9009,      0.9019,      0.9029,      0.9039,      0.9049,     0.90591,     0.90691,     0.90791,     0.90891,     0.90991,     0.91091,     0.91191,\n",
              "           0.91291,     0.91391,     0.91491,     0.91592,     0.91692,     0.91792,     0.91892,     0.91992,     0.92092,     0.92192,     0.92292,     0.92392,     0.92492,     0.92593,     0.92693,     0.92793,     0.92893,     0.92993,     0.93093,     0.93193,     0.93293,     0.93393,     0.93493,     0.93594,\n",
              "           0.93694,     0.93794,     0.93894,     0.93994,     0.94094,     0.94194,     0.94294,     0.94394,     0.94494,     0.94595,     0.94695,     0.94795,     0.94895,     0.94995,     0.95095,     0.95195,     0.95295,     0.95395,     0.95495,     0.95596,     0.95696,     0.95796,     0.95896,     0.95996,\n",
              "           0.96096,     0.96196,     0.96296,     0.96396,     0.96496,     0.96597,     0.96697,     0.96797,     0.96897,     0.96997,     0.97097,     0.97197,     0.97297,     0.97397,     0.97497,     0.97598,     0.97698,     0.97798,     0.97898,     0.97998,     0.98098,     0.98198,     0.98298,     0.98398,\n",
              "           0.98498,     0.98599,     0.98699,     0.98799,     0.98899,     0.98999,     0.99099,     0.99199,     0.99299,     0.99399,     0.99499,       0.996,       0.997,       0.998,       0.999,           1]), array([[    0.21895,     0.21895,      0.2558,     0.27678,     0.29246,     0.30565,     0.31609,     0.32474,     0.33449,     0.34393,     0.35009,     0.35519,     0.36013,     0.36464,     0.37133,     0.37808,     0.38113,     0.38481,     0.39002,     0.39483,     0.39828,      0.4014,     0.40512,\n",
              "            0.40902,     0.41162,     0.41568,     0.41893,     0.42313,     0.42524,     0.42795,     0.43123,     0.43423,     0.43706,     0.43917,      0.4411,     0.44282,     0.44382,     0.44684,     0.44949,     0.45151,     0.45546,     0.45873,     0.46404,     0.46718,     0.47105,     0.47172,\n",
              "            0.47443,      0.4771,      0.4786,     0.48117,     0.48419,     0.48636,     0.48938,     0.49019,     0.49243,     0.49579,     0.49831,      0.4991,     0.50181,      0.5037,     0.50534,     0.50619,     0.50578,      0.5082,     0.51081,     0.51325,     0.51695,     0.51994,     0.52321,\n",
              "            0.52313,     0.52602,     0.53007,     0.53153,     0.53098,     0.53311,      0.5335,     0.53495,     0.53985,     0.54266,      0.5434,     0.54582,     0.54882,     0.55184,     0.55698,     0.56017,     0.56554,     0.56839,     0.56954,     0.57043,     0.57095,     0.57289,     0.57387,\n",
              "            0.57632,     0.57736,     0.57733,     0.57882,     0.58325,     0.58327,     0.58372,     0.58306,     0.58461,     0.58626,     0.58762,     0.59025,     0.59144,     0.59156,     0.59339,     0.59431,     0.59517,     0.59613,     0.59797,     0.60051,     0.60292,     0.60453,     0.60596,\n",
              "            0.60686,     0.61021,     0.61241,     0.61504,     0.61631,     0.61703,     0.61995,     0.62305,     0.62303,     0.62456,     0.62995,     0.63059,     0.63221,     0.63297,     0.63197,      0.6336,     0.63477,     0.63586,     0.63777,     0.63942,     0.64099,     0.64229,     0.64285,\n",
              "            0.64607,     0.64662,     0.64798,      0.6506,     0.65228,     0.65645,     0.65564,     0.65691,     0.66074,     0.66185,     0.66315,     0.66197,     0.66419,      0.6678,     0.67127,     0.67329,     0.67472,     0.67491,     0.67407,     0.67465,     0.67387,     0.67588,     0.67707,\n",
              "            0.67942,     0.68298,     0.68376,     0.68434,      0.6866,     0.68924,     0.69035,     0.69078,     0.69159,     0.69332,     0.69506,     0.69776,     0.69933,     0.70074,     0.70131,     0.70075,     0.70209,     0.70522,     0.70887,     0.70984,     0.70878,     0.70919,     0.70803,\n",
              "            0.70884,     0.70975,     0.71512,     0.71583,     0.71433,     0.71384,     0.71486,     0.71546,     0.71705,     0.71816,     0.71941,     0.72322,       0.726,     0.72588,      0.7268,     0.72621,     0.72562,     0.72867,     0.73111,     0.73308,     0.73423,     0.73465,     0.73508,\n",
              "            0.73675,     0.73549,     0.73631,     0.73841,     0.73733,     0.73632,     0.73646,     0.73534,     0.73576,     0.73617,     0.73736,     0.73705,     0.73637,     0.73739,     0.73716,     0.73761,     0.73667,     0.73641,     0.73726,     0.73822,     0.73949,     0.74007,     0.73851,\n",
              "            0.73907,     0.74074,     0.74115,     0.74156,     0.74259,     0.74351,     0.74341,     0.74494,     0.74621,     0.74675,     0.74727,      0.7477,     0.74812,     0.74872,     0.74857,     0.74806,     0.74861,     0.74916,     0.75172,     0.75228,     0.75282,     0.75144,     0.75293,\n",
              "            0.75251,     0.75335,     0.75666,     0.75744,     0.75787,     0.75829,     0.75901,     0.75849,     0.75909,     0.75961,     0.76012,     0.76045,     0.76066,     0.76087,     0.76107,     0.76128,     0.76149,     0.76244,     0.76071,     0.75789,      0.7574,     0.75896,     0.75838,\n",
              "            0.75744,     0.75799,     0.75741,     0.75356,     0.75297,     0.75227,     0.75268,     0.75183,     0.75224,     0.75264,     0.75454,     0.75578,     0.75631,     0.75684,     0.75472,     0.75495,     0.75518,     0.75541,     0.75564,     0.75587,     0.75672,     0.75702,     0.75658,\n",
              "            0.75614,     0.75571,     0.75527,     0.75418,     0.75292,     0.75166,     0.75098,      0.7513,     0.75161,     0.75192,     0.75149,     0.75013,     0.75038,     0.75064,     0.75089,     0.75115,     0.75145,     0.75183,     0.75221,      0.7526,     0.75292,     0.75323,     0.75355,\n",
              "            0.75387,     0.75211,     0.74713,     0.74527,     0.74604,     0.74652,     0.74401,     0.74465,     0.74245,     0.74201,     0.74157,     0.74114,      0.7407,     0.74026,     0.73905,     0.73806,     0.73855,     0.73904,      0.7377,     0.73929,     0.74029,     0.74104,      0.7414,\n",
              "            0.74177,     0.74213,     0.74268,     0.74346,     0.74425,     0.74502,     0.74385,     0.74286,     0.74415,     0.74428,     0.74442,     0.74455,     0.74469,     0.74482,     0.74496,     0.74509,     0.74523,     0.74536,     0.74774,      0.7464,      0.7455,     0.74487,     0.74424,\n",
              "            0.74361,     0.74299,     0.74236,     0.74172,     0.74144,     0.74195,     0.74245,     0.74352,     0.74249,     0.74112,     0.74025,     0.73938,     0.73874,     0.73811,     0.73747,     0.73683,     0.73619,     0.73555,     0.73491,     0.73073,      0.7283,     0.72861,     0.72687,\n",
              "            0.72724,     0.72761,     0.72797,     0.72816,     0.72835,     0.72853,     0.72872,     0.72891,     0.72909,     0.72928,     0.72901,      0.7286,     0.72819,     0.72778,     0.72738,     0.72697,     0.72475,       0.725,     0.72524,     0.72548,     0.72573,     0.72749,     0.72819,\n",
              "            0.72847,     0.72795,     0.72743,     0.72691,     0.72638,     0.72637,     0.72655,     0.72673,     0.72692,      0.7271,     0.72728,     0.72747,     0.72769,     0.72817,     0.72864,     0.72844,     0.72626,     0.72501,     0.72457,     0.72538,     0.72495,     0.72451,     0.72407,\n",
              "            0.72364,      0.7232,     0.72016,     0.71953,      0.7189,     0.71826,     0.72041,     0.71978,     0.71914,      0.7185,     0.71517,     0.71432,     0.71346,      0.7126,     0.71175,     0.71078,     0.70584,     0.70529,     0.70474,     0.70419,     0.70364,     0.70366,     0.70437,\n",
              "             0.7044,     0.70374,     0.70309,     0.70243,      0.7006,     0.70049,     0.69929,     0.69865,     0.69901,     0.69936,     0.69972,     0.70018,     0.69885,     0.69717,     0.69514,     0.69509,     0.69545,     0.69581,     0.69616,     0.69493,     0.69442,     0.69387,     0.69333,\n",
              "            0.69279,     0.69201,      0.6896,     0.68921,     0.68882,     0.68843,     0.68804,     0.68765,     0.68726,     0.68714,     0.68762,     0.68809,     0.68805,     0.68713,     0.68622,     0.68308,      0.6832,     0.68332,     0.68344,     0.68356,     0.68368,      0.6838,     0.68392,\n",
              "            0.68404,     0.68416,     0.68428,      0.6844,     0.68374,     0.68282,     0.68189,     0.67844,     0.67775,     0.67705,     0.67635,     0.67578,     0.67522,     0.67466,     0.67409,     0.67345,     0.67084,     0.67131,     0.67179,     0.67201,      0.6706,     0.66957,     0.67029,\n",
              "            0.67094,     0.67142,      0.6719,      0.6718,     0.67038,     0.66949,     0.66957,     0.66966,     0.66974,     0.66983,     0.66991,        0.67,     0.67008,     0.67016,     0.67025,     0.67033,     0.67042,      0.6705,     0.67059,     0.67067,     0.67076,     0.67084,     0.66866,\n",
              "            0.66835,     0.66872,     0.66908,     0.66943,     0.66845,      0.6673,     0.66655,     0.66629,     0.66602,     0.66576,      0.6655,     0.66524,     0.66497,     0.66471,     0.66445,     0.66418,     0.66392,     0.66315,     0.66218,     0.66122,     0.65986,      0.6584,     0.65756,\n",
              "            0.65683,      0.6561,     0.65536,     0.65246,     0.65098,      0.6495,     0.64806,     0.64789,     0.64771,     0.64754,     0.64736,     0.64719,     0.64701,     0.64684,     0.64666,     0.64649,     0.64631,     0.64613,     0.64596,     0.64578,     0.64561,     0.64543,     0.64526,\n",
              "            0.64482,     0.64408,     0.64333,     0.64258,     0.64169,     0.64069,     0.63969,     0.63889,     0.63822,     0.63755,     0.63688,     0.63619,     0.63543,     0.63467,     0.63391,     0.63312,     0.63225,     0.63138,     0.63051,      0.6295,     0.62848,     0.62746,     0.62444,\n",
              "            0.62341,     0.62238,     0.62117,     0.61828,     0.61704,     0.61579,     0.61486,     0.61408,      0.6133,     0.61251,     0.61218,     0.61198,     0.61177,     0.61157,     0.61137,     0.61117,     0.61096,     0.61076,     0.61056,     0.61036,     0.61015,     0.60995,     0.60975,\n",
              "            0.60955,     0.60934,     0.60825,     0.60667,     0.60556,     0.60466,     0.60375,      0.6022,     0.59978,     0.59907,     0.59836,     0.59765,     0.59694,     0.59393,     0.59346,     0.59315,     0.59285,     0.59254,     0.59223,     0.59193,     0.59162,     0.59131,       0.591,\n",
              "             0.5907,     0.59019,      0.5896,     0.58902,     0.58843,     0.58784,     0.58528,     0.57969,     0.57805,     0.57591,     0.57495,     0.57562,     0.57437,     0.56947,     0.56915,     0.56883,     0.56852,      0.5682,     0.56788,     0.56756,     0.56724,     0.56692,      0.5666,\n",
              "            0.56628,     0.56491,     0.56323,     0.56271,     0.56244,     0.56217,      0.5619,     0.56163,     0.56136,     0.56109,     0.56082,     0.56055,     0.56028,        0.56,     0.55973,     0.55925,     0.55863,     0.55801,      0.5574,     0.55678,     0.55624,     0.55595,     0.55565,\n",
              "            0.55536,     0.55506,     0.55476,     0.55447,     0.55417,     0.55387,     0.55358,     0.55328,     0.55285,     0.54963,     0.54922,     0.54882,     0.54841,     0.54801,      0.5476,      0.5472,     0.54679,     0.54639,      0.5392,     0.53876,     0.53833,     0.53789,     0.53745,\n",
              "            0.53702,     0.53658,     0.53614,     0.53195,     0.53117,     0.53039,      0.5296,     0.52548,     0.52489,      0.5243,      0.5237,     0.52311,     0.52252,       0.518,     0.51681,     0.51561,     0.51345,     0.51104,     0.50862,     0.50804,     0.50772,     0.50741,     0.50709,\n",
              "            0.50677,     0.50646,     0.50614,     0.50582,     0.50551,     0.50519,     0.50487,      0.4988,     0.49636,     0.49451,     0.48639,     0.48489,     0.48339,     0.48272,     0.48225,     0.48178,     0.48131,     0.48084,     0.48036,     0.47989,     0.47942,     0.47858,     0.47774,\n",
              "             0.4769,     0.47606,     0.47113,     0.46749,     0.46621,     0.46493,     0.46347,     0.46192,     0.46011,     0.45752,     0.45389,      0.4524,     0.45142,     0.45044,     0.44946,     0.44498,     0.44438,     0.44377,     0.44316,     0.44255,     0.44194,     0.44123,     0.44043,\n",
              "            0.43964,     0.43884,     0.43805,     0.43501,     0.43246,     0.43045,     0.42537,     0.42447,     0.42357,     0.42267,      0.4218,     0.42098,     0.42017,     0.41935,     0.41854,      0.4141,     0.41205,     0.40994,     0.40718,     0.40509,     0.40342,     0.40184,     0.40065,\n",
              "            0.39945,     0.39826,      0.3948,     0.39277,     0.39136,     0.38996,      0.3883,     0.38661,     0.38386,     0.38098,     0.37991,     0.37884,     0.37776,     0.37634,     0.37462,     0.36842,      0.3645,     0.36383,     0.36316,     0.36249,     0.36181,     0.36114,     0.36046,\n",
              "            0.35861,     0.35641,     0.35481,     0.35333,     0.35186,     0.34771,     0.34462,     0.34218,     0.34039,     0.33415,     0.33113,     0.32724,     0.31999,       0.309,     0.30432,     0.29652,     0.29024,     0.28076,     0.27875,     0.27778,     0.27681,     0.27584,     0.27487,\n",
              "            0.27307,     0.27112,     0.26594,     0.26368,     0.26204,     0.26039,     0.25792,      0.2555,     0.25426,     0.25301,     0.25177,     0.25041,     0.24841,      0.2464,     0.24017,     0.23679,     0.23468,     0.23298,     0.23128,     0.22675,     0.21876,     0.21617,     0.21404,\n",
              "            0.21195,     0.20922,     0.20572,     0.20221,     0.19869,     0.19503,     0.18969,     0.18471,     0.18256,      0.1804,     0.17195,     0.16672,     0.15702,     0.15146,     0.14423,     0.13899,     0.13264,     0.12608,     0.12202,     0.11499,     0.10873,     0.10287,     0.10129,\n",
              "           0.099816,    0.098341,    0.096689,    0.092739,    0.089376,    0.086392,    0.072596,    0.066513,    0.055569,    0.054843,    0.054116,    0.053389,    0.052661,    0.051933,    0.051204,    0.050474,    0.049744,    0.045852,    0.042789,    0.041001,     0.03921,    0.037301,    0.033101,\n",
              "           0.024982,    0.023162,    0.021337,     0.01951,    0.018255,    0.017269,    0.016281,    0.015292,    0.014303,    0.013312,    0.012558,    0.012265,    0.011972,    0.011679,    0.011386,    0.011092,    0.010799,    0.010505,    0.010211,   0.0099175,   0.0096237,   0.0093297,   0.0090357,\n",
              "          0.0087415,   0.0084473,    0.008153,   0.0078586,   0.0075641,   0.0072696,   0.0069749,   0.0066802,   0.0063853,           0,           0,           0,           0,           0,           0,           0,           0,           0,           0,           0,           0,           0,           0,\n",
              "                  0,           0,           0,           0,           0,           0,           0,           0,           0,           0,           0]]), 'Confidence', 'F1'], [array([          0,    0.001001,    0.002002,    0.003003,    0.004004,    0.005005,    0.006006,    0.007007,    0.008008,    0.009009,     0.01001,    0.011011,    0.012012,    0.013013,    0.014014,    0.015015,    0.016016,    0.017017,    0.018018,    0.019019,     0.02002,    0.021021,    0.022022,    0.023023,\n",
              "          0.024024,    0.025025,    0.026026,    0.027027,    0.028028,    0.029029,     0.03003,    0.031031,    0.032032,    0.033033,    0.034034,    0.035035,    0.036036,    0.037037,    0.038038,    0.039039,     0.04004,    0.041041,    0.042042,    0.043043,    0.044044,    0.045045,    0.046046,    0.047047,\n",
              "          0.048048,    0.049049,     0.05005,    0.051051,    0.052052,    0.053053,    0.054054,    0.055055,    0.056056,    0.057057,    0.058058,    0.059059,     0.06006,    0.061061,    0.062062,    0.063063,    0.064064,    0.065065,    0.066066,    0.067067,    0.068068,    0.069069,     0.07007,    0.071071,\n",
              "          0.072072,    0.073073,    0.074074,    0.075075,    0.076076,    0.077077,    0.078078,    0.079079,     0.08008,    0.081081,    0.082082,    0.083083,    0.084084,    0.085085,    0.086086,    0.087087,    0.088088,    0.089089,     0.09009,    0.091091,    0.092092,    0.093093,    0.094094,    0.095095,\n",
              "          0.096096,    0.097097,    0.098098,    0.099099,      0.1001,      0.1011,      0.1021,      0.1031,      0.1041,     0.10511,     0.10611,     0.10711,     0.10811,     0.10911,     0.11011,     0.11111,     0.11211,     0.11311,     0.11411,     0.11512,     0.11612,     0.11712,     0.11812,     0.11912,\n",
              "           0.12012,     0.12112,     0.12212,     0.12312,     0.12412,     0.12513,     0.12613,     0.12713,     0.12813,     0.12913,     0.13013,     0.13113,     0.13213,     0.13313,     0.13413,     0.13514,     0.13614,     0.13714,     0.13814,     0.13914,     0.14014,     0.14114,     0.14214,     0.14314,\n",
              "           0.14414,     0.14515,     0.14615,     0.14715,     0.14815,     0.14915,     0.15015,     0.15115,     0.15215,     0.15315,     0.15415,     0.15516,     0.15616,     0.15716,     0.15816,     0.15916,     0.16016,     0.16116,     0.16216,     0.16316,     0.16416,     0.16517,     0.16617,     0.16717,\n",
              "           0.16817,     0.16917,     0.17017,     0.17117,     0.17217,     0.17317,     0.17417,     0.17518,     0.17618,     0.17718,     0.17818,     0.17918,     0.18018,     0.18118,     0.18218,     0.18318,     0.18418,     0.18519,     0.18619,     0.18719,     0.18819,     0.18919,     0.19019,     0.19119,\n",
              "           0.19219,     0.19319,     0.19419,      0.1952,      0.1962,      0.1972,      0.1982,      0.1992,      0.2002,      0.2012,      0.2022,      0.2032,      0.2042,     0.20521,     0.20621,     0.20721,     0.20821,     0.20921,     0.21021,     0.21121,     0.21221,     0.21321,     0.21421,     0.21522,\n",
              "           0.21622,     0.21722,     0.21822,     0.21922,     0.22022,     0.22122,     0.22222,     0.22322,     0.22422,     0.22523,     0.22623,     0.22723,     0.22823,     0.22923,     0.23023,     0.23123,     0.23223,     0.23323,     0.23423,     0.23524,     0.23624,     0.23724,     0.23824,     0.23924,\n",
              "           0.24024,     0.24124,     0.24224,     0.24324,     0.24424,     0.24525,     0.24625,     0.24725,     0.24825,     0.24925,     0.25025,     0.25125,     0.25225,     0.25325,     0.25425,     0.25526,     0.25626,     0.25726,     0.25826,     0.25926,     0.26026,     0.26126,     0.26226,     0.26326,\n",
              "           0.26426,     0.26527,     0.26627,     0.26727,     0.26827,     0.26927,     0.27027,     0.27127,     0.27227,     0.27327,     0.27427,     0.27528,     0.27628,     0.27728,     0.27828,     0.27928,     0.28028,     0.28128,     0.28228,     0.28328,     0.28428,     0.28529,     0.28629,     0.28729,\n",
              "           0.28829,     0.28929,     0.29029,     0.29129,     0.29229,     0.29329,     0.29429,      0.2953,      0.2963,      0.2973,      0.2983,      0.2993,      0.3003,      0.3013,      0.3023,      0.3033,      0.3043,     0.30531,     0.30631,     0.30731,     0.30831,     0.30931,     0.31031,     0.31131,\n",
              "           0.31231,     0.31331,     0.31431,     0.31532,     0.31632,     0.31732,     0.31832,     0.31932,     0.32032,     0.32132,     0.32232,     0.32332,     0.32432,     0.32533,     0.32633,     0.32733,     0.32833,     0.32933,     0.33033,     0.33133,     0.33233,     0.33333,     0.33433,     0.33534,\n",
              "           0.33634,     0.33734,     0.33834,     0.33934,     0.34034,     0.34134,     0.34234,     0.34334,     0.34434,     0.34535,     0.34635,     0.34735,     0.34835,     0.34935,     0.35035,     0.35135,     0.35235,     0.35335,     0.35435,     0.35536,     0.35636,     0.35736,     0.35836,     0.35936,\n",
              "           0.36036,     0.36136,     0.36236,     0.36336,     0.36436,     0.36537,     0.36637,     0.36737,     0.36837,     0.36937,     0.37037,     0.37137,     0.37237,     0.37337,     0.37437,     0.37538,     0.37638,     0.37738,     0.37838,     0.37938,     0.38038,     0.38138,     0.38238,     0.38338,\n",
              "           0.38438,     0.38539,     0.38639,     0.38739,     0.38839,     0.38939,     0.39039,     0.39139,     0.39239,     0.39339,     0.39439,      0.3954,      0.3964,      0.3974,      0.3984,      0.3994,      0.4004,      0.4014,      0.4024,      0.4034,      0.4044,     0.40541,     0.40641,     0.40741,\n",
              "           0.40841,     0.40941,     0.41041,     0.41141,     0.41241,     0.41341,     0.41441,     0.41542,     0.41642,     0.41742,     0.41842,     0.41942,     0.42042,     0.42142,     0.42242,     0.42342,     0.42442,     0.42543,     0.42643,     0.42743,     0.42843,     0.42943,     0.43043,     0.43143,\n",
              "           0.43243,     0.43343,     0.43443,     0.43544,     0.43644,     0.43744,     0.43844,     0.43944,     0.44044,     0.44144,     0.44244,     0.44344,     0.44444,     0.44545,     0.44645,     0.44745,     0.44845,     0.44945,     0.45045,     0.45145,     0.45245,     0.45345,     0.45445,     0.45546,\n",
              "           0.45646,     0.45746,     0.45846,     0.45946,     0.46046,     0.46146,     0.46246,     0.46346,     0.46446,     0.46547,     0.46647,     0.46747,     0.46847,     0.46947,     0.47047,     0.47147,     0.47247,     0.47347,     0.47447,     0.47548,     0.47648,     0.47748,     0.47848,     0.47948,\n",
              "           0.48048,     0.48148,     0.48248,     0.48348,     0.48448,     0.48549,     0.48649,     0.48749,     0.48849,     0.48949,     0.49049,     0.49149,     0.49249,     0.49349,     0.49449,      0.4955,      0.4965,      0.4975,      0.4985,      0.4995,      0.5005,      0.5015,      0.5025,      0.5035,\n",
              "            0.5045,     0.50551,     0.50651,     0.50751,     0.50851,     0.50951,     0.51051,     0.51151,     0.51251,     0.51351,     0.51451,     0.51552,     0.51652,     0.51752,     0.51852,     0.51952,     0.52052,     0.52152,     0.52252,     0.52352,     0.52452,     0.52553,     0.52653,     0.52753,\n",
              "           0.52853,     0.52953,     0.53053,     0.53153,     0.53253,     0.53353,     0.53453,     0.53554,     0.53654,     0.53754,     0.53854,     0.53954,     0.54054,     0.54154,     0.54254,     0.54354,     0.54454,     0.54555,     0.54655,     0.54755,     0.54855,     0.54955,     0.55055,     0.55155,\n",
              "           0.55255,     0.55355,     0.55455,     0.55556,     0.55656,     0.55756,     0.55856,     0.55956,     0.56056,     0.56156,     0.56256,     0.56356,     0.56456,     0.56557,     0.56657,     0.56757,     0.56857,     0.56957,     0.57057,     0.57157,     0.57257,     0.57357,     0.57457,     0.57558,\n",
              "           0.57658,     0.57758,     0.57858,     0.57958,     0.58058,     0.58158,     0.58258,     0.58358,     0.58458,     0.58559,     0.58659,     0.58759,     0.58859,     0.58959,     0.59059,     0.59159,     0.59259,     0.59359,     0.59459,      0.5956,      0.5966,      0.5976,      0.5986,      0.5996,\n",
              "            0.6006,      0.6016,      0.6026,      0.6036,      0.6046,     0.60561,     0.60661,     0.60761,     0.60861,     0.60961,     0.61061,     0.61161,     0.61261,     0.61361,     0.61461,     0.61562,     0.61662,     0.61762,     0.61862,     0.61962,     0.62062,     0.62162,     0.62262,     0.62362,\n",
              "           0.62462,     0.62563,     0.62663,     0.62763,     0.62863,     0.62963,     0.63063,     0.63163,     0.63263,     0.63363,     0.63463,     0.63564,     0.63664,     0.63764,     0.63864,     0.63964,     0.64064,     0.64164,     0.64264,     0.64364,     0.64464,     0.64565,     0.64665,     0.64765,\n",
              "           0.64865,     0.64965,     0.65065,     0.65165,     0.65265,     0.65365,     0.65465,     0.65566,     0.65666,     0.65766,     0.65866,     0.65966,     0.66066,     0.66166,     0.66266,     0.66366,     0.66466,     0.66567,     0.66667,     0.66767,     0.66867,     0.66967,     0.67067,     0.67167,\n",
              "           0.67267,     0.67367,     0.67467,     0.67568,     0.67668,     0.67768,     0.67868,     0.67968,     0.68068,     0.68168,     0.68268,     0.68368,     0.68468,     0.68569,     0.68669,     0.68769,     0.68869,     0.68969,     0.69069,     0.69169,     0.69269,     0.69369,     0.69469,      0.6957,\n",
              "            0.6967,      0.6977,      0.6987,      0.6997,      0.7007,      0.7017,      0.7027,      0.7037,      0.7047,     0.70571,     0.70671,     0.70771,     0.70871,     0.70971,     0.71071,     0.71171,     0.71271,     0.71371,     0.71471,     0.71572,     0.71672,     0.71772,     0.71872,     0.71972,\n",
              "           0.72072,     0.72172,     0.72272,     0.72372,     0.72472,     0.72573,     0.72673,     0.72773,     0.72873,     0.72973,     0.73073,     0.73173,     0.73273,     0.73373,     0.73473,     0.73574,     0.73674,     0.73774,     0.73874,     0.73974,     0.74074,     0.74174,     0.74274,     0.74374,\n",
              "           0.74474,     0.74575,     0.74675,     0.74775,     0.74875,     0.74975,     0.75075,     0.75175,     0.75275,     0.75375,     0.75475,     0.75576,     0.75676,     0.75776,     0.75876,     0.75976,     0.76076,     0.76176,     0.76276,     0.76376,     0.76476,     0.76577,     0.76677,     0.76777,\n",
              "           0.76877,     0.76977,     0.77077,     0.77177,     0.77277,     0.77377,     0.77477,     0.77578,     0.77678,     0.77778,     0.77878,     0.77978,     0.78078,     0.78178,     0.78278,     0.78378,     0.78478,     0.78579,     0.78679,     0.78779,     0.78879,     0.78979,     0.79079,     0.79179,\n",
              "           0.79279,     0.79379,     0.79479,      0.7958,      0.7968,      0.7978,      0.7988,      0.7998,      0.8008,      0.8018,      0.8028,      0.8038,      0.8048,     0.80581,     0.80681,     0.80781,     0.80881,     0.80981,     0.81081,     0.81181,     0.81281,     0.81381,     0.81481,     0.81582,\n",
              "           0.81682,     0.81782,     0.81882,     0.81982,     0.82082,     0.82182,     0.82282,     0.82382,     0.82482,     0.82583,     0.82683,     0.82783,     0.82883,     0.82983,     0.83083,     0.83183,     0.83283,     0.83383,     0.83483,     0.83584,     0.83684,     0.83784,     0.83884,     0.83984,\n",
              "           0.84084,     0.84184,     0.84284,     0.84384,     0.84484,     0.84585,     0.84685,     0.84785,     0.84885,     0.84985,     0.85085,     0.85185,     0.85285,     0.85385,     0.85485,     0.85586,     0.85686,     0.85786,     0.85886,     0.85986,     0.86086,     0.86186,     0.86286,     0.86386,\n",
              "           0.86486,     0.86587,     0.86687,     0.86787,     0.86887,     0.86987,     0.87087,     0.87187,     0.87287,     0.87387,     0.87487,     0.87588,     0.87688,     0.87788,     0.87888,     0.87988,     0.88088,     0.88188,     0.88288,     0.88388,     0.88488,     0.88589,     0.88689,     0.88789,\n",
              "           0.88889,     0.88989,     0.89089,     0.89189,     0.89289,     0.89389,     0.89489,      0.8959,      0.8969,      0.8979,      0.8989,      0.8999,      0.9009,      0.9019,      0.9029,      0.9039,      0.9049,     0.90591,     0.90691,     0.90791,     0.90891,     0.90991,     0.91091,     0.91191,\n",
              "           0.91291,     0.91391,     0.91491,     0.91592,     0.91692,     0.91792,     0.91892,     0.91992,     0.92092,     0.92192,     0.92292,     0.92392,     0.92492,     0.92593,     0.92693,     0.92793,     0.92893,     0.92993,     0.93093,     0.93193,     0.93293,     0.93393,     0.93493,     0.93594,\n",
              "           0.93694,     0.93794,     0.93894,     0.93994,     0.94094,     0.94194,     0.94294,     0.94394,     0.94494,     0.94595,     0.94695,     0.94795,     0.94895,     0.94995,     0.95095,     0.95195,     0.95295,     0.95395,     0.95495,     0.95596,     0.95696,     0.95796,     0.95896,     0.95996,\n",
              "           0.96096,     0.96196,     0.96296,     0.96396,     0.96496,     0.96597,     0.96697,     0.96797,     0.96897,     0.96997,     0.97097,     0.97197,     0.97297,     0.97397,     0.97497,     0.97598,     0.97698,     0.97798,     0.97898,     0.97998,     0.98098,     0.98198,     0.98298,     0.98398,\n",
              "           0.98498,     0.98599,     0.98699,     0.98799,     0.98899,     0.98999,     0.99099,     0.99199,     0.99299,     0.99399,     0.99499,       0.996,       0.997,       0.998,       0.999,           1]), array([[     0.1238,      0.1238,      0.1479,     0.16211,     0.17297,     0.18228,     0.18975,     0.19602,     0.20317,     0.21033,     0.21496,     0.21882,     0.22276,     0.22622,     0.23139,     0.23666,     0.23906,     0.24196,     0.24609,     0.24993,      0.2527,     0.25522,     0.25848,\n",
              "            0.26166,     0.26379,     0.26714,     0.26983,      0.2736,     0.27544,     0.27793,      0.2807,     0.28324,     0.28566,     0.28746,     0.28942,     0.29122,     0.29235,     0.29504,     0.29735,     0.29912,     0.30295,     0.30585,     0.31059,     0.31341,      0.3169,     0.31789,\n",
              "            0.32036,     0.32279,     0.32418,     0.32654,     0.32932,     0.33133,     0.33415,     0.33533,     0.33743,     0.34059,     0.34298,     0.34418,     0.34705,     0.34952,      0.3511,     0.35261,       0.353,     0.35536,     0.35792,     0.36032,     0.36397,     0.36695,     0.37028,\n",
              "            0.37124,     0.37416,     0.37828,     0.37976,     0.37979,     0.38197,     0.38358,     0.38508,     0.39018,     0.39312,     0.39454,     0.39711,     0.40028,     0.40351,     0.40903,     0.41248,     0.41833,     0.42146,     0.42307,     0.42446,      0.4258,     0.42796,     0.42906,\n",
              "             0.4318,     0.43377,     0.43536,     0.43706,     0.44213,       0.443,     0.44352,     0.44358,     0.44542,     0.44735,     0.44982,     0.45383,     0.45523,     0.45631,      0.4585,     0.45959,     0.46062,     0.46178,     0.46398,     0.46705,     0.46997,     0.47193,     0.47368,\n",
              "            0.47477,     0.47889,     0.48161,     0.48487,     0.48644,     0.48735,       0.491,     0.49489,     0.49598,     0.49792,     0.50481,     0.50681,     0.50889,     0.50988,     0.51033,     0.51311,     0.51465,     0.51609,     0.51861,      0.5208,     0.52288,     0.52462,     0.52537,\n",
              "            0.52968,     0.53042,     0.53225,      0.5358,     0.53942,     0.54516,     0.54543,     0.54719,     0.55253,     0.55409,     0.55598,     0.55533,     0.55885,     0.56398,     0.56894,     0.57185,     0.57393,     0.57466,      0.5742,     0.57539,     0.57571,     0.57879,     0.58055,\n",
              "              0.584,     0.58928,     0.59045,     0.59131,     0.59469,     0.59867,     0.60035,     0.60099,     0.60222,     0.60485,      0.6075,     0.61164,     0.61405,     0.61624,     0.61712,     0.61809,     0.62018,     0.62509,     0.63085,     0.63309,     0.63255,     0.63384,     0.63343,\n",
              "            0.63473,     0.63619,     0.64487,     0.64611,     0.64537,     0.64906,     0.65074,     0.65174,     0.65438,     0.65624,     0.65833,     0.66472,     0.66944,     0.67152,     0.67369,     0.67341,     0.67313,     0.67866,     0.68291,     0.68636,     0.68837,     0.68912,     0.68987,\n",
              "            0.69283,     0.69307,     0.69453,     0.69871,     0.69972,     0.69962,     0.70084,     0.70046,     0.70121,     0.70197,     0.70412,     0.70622,     0.70766,     0.70954,     0.71185,     0.71391,      0.7135,     0.71605,     0.71766,     0.71949,      0.7219,     0.72331,     0.72293,\n",
              "              0.724,     0.72721,     0.72801,     0.72881,     0.73311,      0.7356,     0.73705,      0.7415,     0.74402,     0.74509,     0.74614,     0.74699,     0.74783,     0.75045,     0.75195,     0.75419,      0.7553,     0.75642,     0.76167,      0.7628,     0.76393,      0.7634,     0.76756,\n",
              "            0.77014,      0.7719,     0.77888,     0.78054,     0.78145,     0.78235,     0.78387,     0.78522,     0.78771,     0.78882,     0.78992,     0.79064,     0.79109,     0.79154,     0.79198,     0.79243,     0.79288,     0.79496,     0.79511,     0.79413,     0.79533,     0.79876,     0.79902,\n",
              "            0.79869,     0.80052,     0.80109,     0.79978,     0.80123,     0.80371,     0.80689,     0.80687,      0.8078,     0.80873,     0.81313,     0.81602,     0.81726,      0.8185,     0.81785,     0.81839,     0.81894,     0.81948,     0.82002,     0.82057,     0.82257,     0.82388,     0.82374,\n",
              "            0.82361,     0.82347,     0.82334,       0.823,     0.82261,     0.82222,     0.82225,       0.823,     0.82376,     0.82451,     0.82489,     0.82473,     0.82535,     0.82597,     0.82658,      0.8272,     0.82793,     0.82887,      0.8298,     0.83073,     0.83151,     0.83228,     0.83306,\n",
              "            0.83383,     0.83344,     0.83196,     0.83162,     0.83354,     0.83757,     0.83684,     0.83993,     0.83936,     0.83923,      0.8391,     0.83898,     0.83885,     0.83872,     0.83837,     0.83828,     0.83955,     0.84082,     0.84257,     0.84673,     0.84936,     0.85132,     0.85228,\n",
              "            0.85325,     0.85421,     0.85565,     0.85774,     0.85984,     0.86192,     0.86162,     0.86163,      0.8651,     0.86546,     0.86583,      0.8662,     0.86656,     0.86693,      0.8673,     0.86766,     0.86803,      0.8684,     0.87597,     0.87566,     0.87545,      0.8753,     0.87515,\n",
              "            0.87501,     0.87486,     0.87471,     0.87456,     0.87489,      0.8763,     0.87772,     0.88069,     0.88176,     0.88145,     0.88125,     0.88106,     0.88092,     0.88077,     0.88063,     0.88048,     0.88034,     0.88019,     0.88005,     0.87909,     0.87854,      0.8813,     0.88263,\n",
              "            0.88373,     0.88484,     0.88589,     0.88645,       0.887,     0.88756,     0.88811,     0.88867,     0.88922,     0.88978,     0.88984,     0.88976,     0.88967,     0.88958,      0.8895,     0.88941,     0.88956,      0.8903,     0.89104,     0.89177,     0.89251,     0.89785,     0.90001,\n",
              "            0.90137,     0.90127,     0.90117,     0.90107,     0.90097,     0.90135,     0.90191,     0.90248,     0.90304,     0.90361,     0.90417,     0.90474,     0.90544,     0.90692,     0.90839,     0.90942,     0.90903,     0.90881,     0.91002,     0.91302,     0.91294,     0.91287,     0.91279,\n",
              "            0.91272,     0.91264,     0.91212,     0.91201,      0.9119,     0.91179,     0.92071,     0.92061,     0.92051,     0.92041,     0.91987,     0.91974,      0.9196,     0.91946,     0.91932,     0.91917,     0.91836,     0.91827,     0.91818,     0.91809,       0.918,     0.91904,     0.92147,\n",
              "            0.92263,     0.92253,     0.92242,     0.92232,     0.92203,     0.92495,     0.92645,     0.92716,     0.92841,     0.92967,     0.93093,     0.93604,     0.93586,     0.93972,     0.94026,     0.94136,     0.94267,     0.94399,     0.94531,     0.95021,     0.95022,     0.95016,     0.95011,\n",
              "            0.95005,     0.94997,     0.94972,     0.94967,     0.94963,     0.94959,     0.94955,     0.94951,     0.94947,        0.95,     0.95183,     0.95366,     0.95477,     0.95468,     0.95459,      0.9545,     0.95497,     0.95543,      0.9559,     0.95637,     0.95684,     0.95731,     0.95778,\n",
              "            0.95824,     0.95871,     0.95918,     0.95965,     0.95971,     0.95963,     0.95955,     0.95925,     0.95919,     0.95913,     0.95907,     0.95902,     0.95897,     0.95892,     0.95887,     0.95881,      0.9587,     0.96065,      0.9626,     0.96427,     0.96416,     0.96462,     0.96759,\n",
              "            0.97035,     0.97235,     0.97436,     0.97573,     0.97566,     0.97574,      0.9761,     0.97646,     0.97682,     0.97718,     0.97754,      0.9779,     0.97826,     0.97862,     0.97899,     0.97935,     0.97971,     0.98007,     0.98043,     0.98079,     0.98115,     0.98151,     0.98151,\n",
              "            0.98272,     0.98428,     0.98585,     0.98741,     0.98755,     0.98752,      0.9875,     0.98749,     0.98748,     0.98747,     0.98747,     0.98746,     0.98745,     0.98745,     0.98744,     0.98743,     0.98742,      0.9874,     0.98737,     0.98735,     0.98731,     0.98727,     0.98724,\n",
              "            0.98722,      0.9872,     0.98718,     0.99349,     0.99346,     0.99344,     0.99342,     0.99342,     0.99342,     0.99341,     0.99341,     0.99341,     0.99341,      0.9934,      0.9934,      0.9934,     0.99339,     0.99339,     0.99339,     0.99339,     0.99338,     0.99338,     0.99338,\n",
              "            0.99337,     0.99336,     0.99335,     0.99334,     0.99332,     0.99331,     0.99329,     0.99328,     0.99327,     0.99326,     0.99325,     0.99324,     0.99323,     0.99322,     0.99321,     0.99319,     0.99318,     0.99317,     0.99315,     0.99314,     0.99312,      0.9931,     0.99306,\n",
              "            0.99304,     0.99302,       0.993,     0.99296,     0.99293,     0.99291,      0.9929,     0.99289,     0.99287,     0.99286,     0.99285,     0.99285,     0.99285,     0.99284,     0.99284,     0.99284,     0.99283,     0.99283,     0.99283,     0.99282,     0.99282,     0.99282,     0.99281,\n",
              "            0.99281,     0.99281,     0.99279,     0.99276,     0.99274,     0.99273,     0.99271,     0.99269,     0.99264,     0.99263,     0.99262,     0.99261,     0.99259,     0.99254,     0.99253,     0.99253,     0.99252,     0.99252,     0.99251,      0.9925,      0.9925,     0.99249,     0.99249,\n",
              "            0.99248,     0.99247,     0.99246,     0.99245,     0.99244,     0.99243,     0.99238,     0.99228,     0.99225,     0.99221,     0.99391,     0.99792,           1,           1,           1,           1,           1,           1,           1,           1,           1,           1,           1,\n",
              "                  1,           1,           1,           1,           1,           1,           1,           1,           1,           1,           1,           1,           1,           1,           1,           1,           1,           1,           1,           1,           1,           1,           1,\n",
              "                  1,           1,           1,           1,           1,           1,           1,           1,           1,           1,           1,           1,           1,           1,           1,           1,           1,           1,           1,           1,           1,           1,           1,\n",
              "                  1,           1,           1,           1,           1,           1,           1,           1,           1,           1,           1,           1,           1,           1,           1,           1,           1,           1,           1,           1,           1,           1,           1,\n",
              "                  1,           1,           1,           1,           1,           1,           1,           1,           1,           1,           1,           1,           1,           1,           1,           1,           1,           1,           1,           1,           1,           1,           1,\n",
              "                  1,           1,           1,           1,           1,           1,           1,           1,           1,           1,           1,           1,           1,           1,           1,           1,           1,           1,           1,           1,           1,           1,           1,\n",
              "                  1,           1,           1,           1,           1,           1,           1,           1,           1,           1,           1,           1,           1,           1,           1,           1,           1,           1,           1,           1,           1,           1,           1,\n",
              "                  1,           1,           1,           1,           1,           1,           1,           1,           1,           1,           1,           1,           1,           1,           1,           1,           1,           1,           1,           1,           1,           1,           1,\n",
              "                  1,           1,           1,           1,           1,           1,           1,           1,           1,           1,           1,           1,           1,           1,           1,           1,           1,           1,           1,           1,           1,           1,           1,\n",
              "                  1,           1,           1,           1,           1,           1,           1,           1,           1,           1,           1,           1,           1,           1,           1,           1,           1,           1,           1,           1,           1,           1,           1,\n",
              "                  1,           1,           1,           1,           1,           1,           1,           1,           1,           1,           1,           1,           1,           1,           1,           1,           1,           1,           1,           1,           1,           1,           1,\n",
              "                  1,           1,           1,           1,           1,           1,           1,           1,           1,           1,           1,           1,           1,           1,           1,           1,           1,           1,           1,           1,           1,           1,           1,\n",
              "                  1,           1,           1,           1,           1,           1,           1,           1,           1,           1,           1,           1,           1,           1,           1,           1,           1,           1,           1,           1,           1,           1,           1,\n",
              "                  1,           1,           1,           1,           1,           1,           1,           1,           1,           1,           1,           1,           1,           1,           1,           1,           1,           1,           1,           1,           1,           1,           1,\n",
              "                  1,           1,           1,           1,           1,           1,           1,           1,           1,           1,           1]]), 'Confidence', 'Precision'], [array([          0,    0.001001,    0.002002,    0.003003,    0.004004,    0.005005,    0.006006,    0.007007,    0.008008,    0.009009,     0.01001,    0.011011,    0.012012,    0.013013,    0.014014,    0.015015,    0.016016,    0.017017,    0.018018,    0.019019,     0.02002,    0.021021,    0.022022,    0.023023,\n",
              "          0.024024,    0.025025,    0.026026,    0.027027,    0.028028,    0.029029,     0.03003,    0.031031,    0.032032,    0.033033,    0.034034,    0.035035,    0.036036,    0.037037,    0.038038,    0.039039,     0.04004,    0.041041,    0.042042,    0.043043,    0.044044,    0.045045,    0.046046,    0.047047,\n",
              "          0.048048,    0.049049,     0.05005,    0.051051,    0.052052,    0.053053,    0.054054,    0.055055,    0.056056,    0.057057,    0.058058,    0.059059,     0.06006,    0.061061,    0.062062,    0.063063,    0.064064,    0.065065,    0.066066,    0.067067,    0.068068,    0.069069,     0.07007,    0.071071,\n",
              "          0.072072,    0.073073,    0.074074,    0.075075,    0.076076,    0.077077,    0.078078,    0.079079,     0.08008,    0.081081,    0.082082,    0.083083,    0.084084,    0.085085,    0.086086,    0.087087,    0.088088,    0.089089,     0.09009,    0.091091,    0.092092,    0.093093,    0.094094,    0.095095,\n",
              "          0.096096,    0.097097,    0.098098,    0.099099,      0.1001,      0.1011,      0.1021,      0.1031,      0.1041,     0.10511,     0.10611,     0.10711,     0.10811,     0.10911,     0.11011,     0.11111,     0.11211,     0.11311,     0.11411,     0.11512,     0.11612,     0.11712,     0.11812,     0.11912,\n",
              "           0.12012,     0.12112,     0.12212,     0.12312,     0.12412,     0.12513,     0.12613,     0.12713,     0.12813,     0.12913,     0.13013,     0.13113,     0.13213,     0.13313,     0.13413,     0.13514,     0.13614,     0.13714,     0.13814,     0.13914,     0.14014,     0.14114,     0.14214,     0.14314,\n",
              "           0.14414,     0.14515,     0.14615,     0.14715,     0.14815,     0.14915,     0.15015,     0.15115,     0.15215,     0.15315,     0.15415,     0.15516,     0.15616,     0.15716,     0.15816,     0.15916,     0.16016,     0.16116,     0.16216,     0.16316,     0.16416,     0.16517,     0.16617,     0.16717,\n",
              "           0.16817,     0.16917,     0.17017,     0.17117,     0.17217,     0.17317,     0.17417,     0.17518,     0.17618,     0.17718,     0.17818,     0.17918,     0.18018,     0.18118,     0.18218,     0.18318,     0.18418,     0.18519,     0.18619,     0.18719,     0.18819,     0.18919,     0.19019,     0.19119,\n",
              "           0.19219,     0.19319,     0.19419,      0.1952,      0.1962,      0.1972,      0.1982,      0.1992,      0.2002,      0.2012,      0.2022,      0.2032,      0.2042,     0.20521,     0.20621,     0.20721,     0.20821,     0.20921,     0.21021,     0.21121,     0.21221,     0.21321,     0.21421,     0.21522,\n",
              "           0.21622,     0.21722,     0.21822,     0.21922,     0.22022,     0.22122,     0.22222,     0.22322,     0.22422,     0.22523,     0.22623,     0.22723,     0.22823,     0.22923,     0.23023,     0.23123,     0.23223,     0.23323,     0.23423,     0.23524,     0.23624,     0.23724,     0.23824,     0.23924,\n",
              "           0.24024,     0.24124,     0.24224,     0.24324,     0.24424,     0.24525,     0.24625,     0.24725,     0.24825,     0.24925,     0.25025,     0.25125,     0.25225,     0.25325,     0.25425,     0.25526,     0.25626,     0.25726,     0.25826,     0.25926,     0.26026,     0.26126,     0.26226,     0.26326,\n",
              "           0.26426,     0.26527,     0.26627,     0.26727,     0.26827,     0.26927,     0.27027,     0.27127,     0.27227,     0.27327,     0.27427,     0.27528,     0.27628,     0.27728,     0.27828,     0.27928,     0.28028,     0.28128,     0.28228,     0.28328,     0.28428,     0.28529,     0.28629,     0.28729,\n",
              "           0.28829,     0.28929,     0.29029,     0.29129,     0.29229,     0.29329,     0.29429,      0.2953,      0.2963,      0.2973,      0.2983,      0.2993,      0.3003,      0.3013,      0.3023,      0.3033,      0.3043,     0.30531,     0.30631,     0.30731,     0.30831,     0.30931,     0.31031,     0.31131,\n",
              "           0.31231,     0.31331,     0.31431,     0.31532,     0.31632,     0.31732,     0.31832,     0.31932,     0.32032,     0.32132,     0.32232,     0.32332,     0.32432,     0.32533,     0.32633,     0.32733,     0.32833,     0.32933,     0.33033,     0.33133,     0.33233,     0.33333,     0.33433,     0.33534,\n",
              "           0.33634,     0.33734,     0.33834,     0.33934,     0.34034,     0.34134,     0.34234,     0.34334,     0.34434,     0.34535,     0.34635,     0.34735,     0.34835,     0.34935,     0.35035,     0.35135,     0.35235,     0.35335,     0.35435,     0.35536,     0.35636,     0.35736,     0.35836,     0.35936,\n",
              "           0.36036,     0.36136,     0.36236,     0.36336,     0.36436,     0.36537,     0.36637,     0.36737,     0.36837,     0.36937,     0.37037,     0.37137,     0.37237,     0.37337,     0.37437,     0.37538,     0.37638,     0.37738,     0.37838,     0.37938,     0.38038,     0.38138,     0.38238,     0.38338,\n",
              "           0.38438,     0.38539,     0.38639,     0.38739,     0.38839,     0.38939,     0.39039,     0.39139,     0.39239,     0.39339,     0.39439,      0.3954,      0.3964,      0.3974,      0.3984,      0.3994,      0.4004,      0.4014,      0.4024,      0.4034,      0.4044,     0.40541,     0.40641,     0.40741,\n",
              "           0.40841,     0.40941,     0.41041,     0.41141,     0.41241,     0.41341,     0.41441,     0.41542,     0.41642,     0.41742,     0.41842,     0.41942,     0.42042,     0.42142,     0.42242,     0.42342,     0.42442,     0.42543,     0.42643,     0.42743,     0.42843,     0.42943,     0.43043,     0.43143,\n",
              "           0.43243,     0.43343,     0.43443,     0.43544,     0.43644,     0.43744,     0.43844,     0.43944,     0.44044,     0.44144,     0.44244,     0.44344,     0.44444,     0.44545,     0.44645,     0.44745,     0.44845,     0.44945,     0.45045,     0.45145,     0.45245,     0.45345,     0.45445,     0.45546,\n",
              "           0.45646,     0.45746,     0.45846,     0.45946,     0.46046,     0.46146,     0.46246,     0.46346,     0.46446,     0.46547,     0.46647,     0.46747,     0.46847,     0.46947,     0.47047,     0.47147,     0.47247,     0.47347,     0.47447,     0.47548,     0.47648,     0.47748,     0.47848,     0.47948,\n",
              "           0.48048,     0.48148,     0.48248,     0.48348,     0.48448,     0.48549,     0.48649,     0.48749,     0.48849,     0.48949,     0.49049,     0.49149,     0.49249,     0.49349,     0.49449,      0.4955,      0.4965,      0.4975,      0.4985,      0.4995,      0.5005,      0.5015,      0.5025,      0.5035,\n",
              "            0.5045,     0.50551,     0.50651,     0.50751,     0.50851,     0.50951,     0.51051,     0.51151,     0.51251,     0.51351,     0.51451,     0.51552,     0.51652,     0.51752,     0.51852,     0.51952,     0.52052,     0.52152,     0.52252,     0.52352,     0.52452,     0.52553,     0.52653,     0.52753,\n",
              "           0.52853,     0.52953,     0.53053,     0.53153,     0.53253,     0.53353,     0.53453,     0.53554,     0.53654,     0.53754,     0.53854,     0.53954,     0.54054,     0.54154,     0.54254,     0.54354,     0.54454,     0.54555,     0.54655,     0.54755,     0.54855,     0.54955,     0.55055,     0.55155,\n",
              "           0.55255,     0.55355,     0.55455,     0.55556,     0.55656,     0.55756,     0.55856,     0.55956,     0.56056,     0.56156,     0.56256,     0.56356,     0.56456,     0.56557,     0.56657,     0.56757,     0.56857,     0.56957,     0.57057,     0.57157,     0.57257,     0.57357,     0.57457,     0.57558,\n",
              "           0.57658,     0.57758,     0.57858,     0.57958,     0.58058,     0.58158,     0.58258,     0.58358,     0.58458,     0.58559,     0.58659,     0.58759,     0.58859,     0.58959,     0.59059,     0.59159,     0.59259,     0.59359,     0.59459,      0.5956,      0.5966,      0.5976,      0.5986,      0.5996,\n",
              "            0.6006,      0.6016,      0.6026,      0.6036,      0.6046,     0.60561,     0.60661,     0.60761,     0.60861,     0.60961,     0.61061,     0.61161,     0.61261,     0.61361,     0.61461,     0.61562,     0.61662,     0.61762,     0.61862,     0.61962,     0.62062,     0.62162,     0.62262,     0.62362,\n",
              "           0.62462,     0.62563,     0.62663,     0.62763,     0.62863,     0.62963,     0.63063,     0.63163,     0.63263,     0.63363,     0.63463,     0.63564,     0.63664,     0.63764,     0.63864,     0.63964,     0.64064,     0.64164,     0.64264,     0.64364,     0.64464,     0.64565,     0.64665,     0.64765,\n",
              "           0.64865,     0.64965,     0.65065,     0.65165,     0.65265,     0.65365,     0.65465,     0.65566,     0.65666,     0.65766,     0.65866,     0.65966,     0.66066,     0.66166,     0.66266,     0.66366,     0.66466,     0.66567,     0.66667,     0.66767,     0.66867,     0.66967,     0.67067,     0.67167,\n",
              "           0.67267,     0.67367,     0.67467,     0.67568,     0.67668,     0.67768,     0.67868,     0.67968,     0.68068,     0.68168,     0.68268,     0.68368,     0.68468,     0.68569,     0.68669,     0.68769,     0.68869,     0.68969,     0.69069,     0.69169,     0.69269,     0.69369,     0.69469,      0.6957,\n",
              "            0.6967,      0.6977,      0.6987,      0.6997,      0.7007,      0.7017,      0.7027,      0.7037,      0.7047,     0.70571,     0.70671,     0.70771,     0.70871,     0.70971,     0.71071,     0.71171,     0.71271,     0.71371,     0.71471,     0.71572,     0.71672,     0.71772,     0.71872,     0.71972,\n",
              "           0.72072,     0.72172,     0.72272,     0.72372,     0.72472,     0.72573,     0.72673,     0.72773,     0.72873,     0.72973,     0.73073,     0.73173,     0.73273,     0.73373,     0.73473,     0.73574,     0.73674,     0.73774,     0.73874,     0.73974,     0.74074,     0.74174,     0.74274,     0.74374,\n",
              "           0.74474,     0.74575,     0.74675,     0.74775,     0.74875,     0.74975,     0.75075,     0.75175,     0.75275,     0.75375,     0.75475,     0.75576,     0.75676,     0.75776,     0.75876,     0.75976,     0.76076,     0.76176,     0.76276,     0.76376,     0.76476,     0.76577,     0.76677,     0.76777,\n",
              "           0.76877,     0.76977,     0.77077,     0.77177,     0.77277,     0.77377,     0.77477,     0.77578,     0.77678,     0.77778,     0.77878,     0.77978,     0.78078,     0.78178,     0.78278,     0.78378,     0.78478,     0.78579,     0.78679,     0.78779,     0.78879,     0.78979,     0.79079,     0.79179,\n",
              "           0.79279,     0.79379,     0.79479,      0.7958,      0.7968,      0.7978,      0.7988,      0.7998,      0.8008,      0.8018,      0.8028,      0.8038,      0.8048,     0.80581,     0.80681,     0.80781,     0.80881,     0.80981,     0.81081,     0.81181,     0.81281,     0.81381,     0.81481,     0.81582,\n",
              "           0.81682,     0.81782,     0.81882,     0.81982,     0.82082,     0.82182,     0.82282,     0.82382,     0.82482,     0.82583,     0.82683,     0.82783,     0.82883,     0.82983,     0.83083,     0.83183,     0.83283,     0.83383,     0.83483,     0.83584,     0.83684,     0.83784,     0.83884,     0.83984,\n",
              "           0.84084,     0.84184,     0.84284,     0.84384,     0.84484,     0.84585,     0.84685,     0.84785,     0.84885,     0.84985,     0.85085,     0.85185,     0.85285,     0.85385,     0.85485,     0.85586,     0.85686,     0.85786,     0.85886,     0.85986,     0.86086,     0.86186,     0.86286,     0.86386,\n",
              "           0.86486,     0.86587,     0.86687,     0.86787,     0.86887,     0.86987,     0.87087,     0.87187,     0.87287,     0.87387,     0.87487,     0.87588,     0.87688,     0.87788,     0.87888,     0.87988,     0.88088,     0.88188,     0.88288,     0.88388,     0.88488,     0.88589,     0.88689,     0.88789,\n",
              "           0.88889,     0.88989,     0.89089,     0.89189,     0.89289,     0.89389,     0.89489,      0.8959,      0.8969,      0.8979,      0.8989,      0.8999,      0.9009,      0.9019,      0.9029,      0.9039,      0.9049,     0.90591,     0.90691,     0.90791,     0.90891,     0.90991,     0.91091,     0.91191,\n",
              "           0.91291,     0.91391,     0.91491,     0.91592,     0.91692,     0.91792,     0.91892,     0.91992,     0.92092,     0.92192,     0.92292,     0.92392,     0.92492,     0.92593,     0.92693,     0.92793,     0.92893,     0.92993,     0.93093,     0.93193,     0.93293,     0.93393,     0.93493,     0.93594,\n",
              "           0.93694,     0.93794,     0.93894,     0.93994,     0.94094,     0.94194,     0.94294,     0.94394,     0.94494,     0.94595,     0.94695,     0.94795,     0.94895,     0.94995,     0.95095,     0.95195,     0.95295,     0.95395,     0.95495,     0.95596,     0.95696,     0.95796,     0.95896,     0.95996,\n",
              "           0.96096,     0.96196,     0.96296,     0.96396,     0.96496,     0.96597,     0.96697,     0.96797,     0.96897,     0.96997,     0.97097,     0.97197,     0.97297,     0.97397,     0.97497,     0.97598,     0.97698,     0.97798,     0.97898,     0.97998,     0.98098,     0.98198,     0.98298,     0.98398,\n",
              "           0.98498,     0.98599,     0.98699,     0.98799,     0.98899,     0.98999,     0.99099,     0.99199,     0.99299,     0.99399,     0.99499,       0.996,       0.997,       0.998,       0.999,           1]), array([[    0.94586,     0.94586,     0.94586,     0.94586,     0.94586,     0.94586,     0.94586,     0.94586,     0.94586,     0.94268,     0.94268,     0.94268,     0.93949,     0.93949,     0.93949,     0.93949,     0.93949,     0.93949,     0.93949,     0.93949,     0.93949,     0.93949,     0.93631,\n",
              "            0.93631,     0.93631,     0.93631,     0.93631,     0.93312,     0.93222,     0.92994,     0.92994,     0.92994,     0.92994,     0.92994,     0.92675,     0.92357,       0.921,     0.92038,     0.92038,     0.92038,      0.9172,      0.9172,      0.9172,      0.9172,      0.9172,     0.91401,\n",
              "            0.91401,     0.91401,     0.91401,     0.91401,     0.91401,     0.91401,     0.91401,     0.91083,     0.91083,     0.91083,     0.91083,     0.90764,     0.90562,     0.90127,     0.90127,     0.89679,     0.89172,     0.89172,     0.89172,     0.89172,     0.89172,     0.89172,     0.89136,\n",
              "            0.88535,     0.88535,     0.88535,     0.88535,     0.88217,     0.88217,      0.8758,      0.8758,      0.8758,      0.8758,     0.87261,     0.87261,     0.87261,     0.87261,     0.87261,     0.87261,     0.87261,     0.87261,     0.87111,     0.86943,     0.86624,     0.86624,     0.86624,\n",
              "            0.86624,     0.86306,     0.85669,     0.85669,     0.85669,      0.8535,      0.8535,     0.85051,     0.85032,     0.85032,     0.84713,     0.84395,     0.84395,     0.84076,     0.84076,     0.84076,     0.84076,     0.84076,     0.84076,     0.84076,     0.84076,     0.84076,     0.84076,\n",
              "            0.84076,     0.84076,     0.84076,     0.84076,     0.84076,     0.84076,     0.84076,     0.84076,     0.83758,     0.83758,     0.83758,     0.83439,     0.83439,     0.83439,     0.82976,     0.82803,     0.82803,     0.82803,     0.82803,     0.82803,     0.82803,     0.82803,     0.82803,\n",
              "            0.82803,     0.82803,     0.82803,     0.82803,     0.82484,     0.82484,     0.82166,     0.82166,     0.82166,     0.82166,     0.82149,     0.81931,     0.81847,     0.81847,     0.81847,     0.81847,     0.81847,     0.81753,     0.81599,     0.81529,      0.8124,      0.8121,      0.8121,\n",
              "             0.8121,      0.8121,      0.8121,      0.8121,      0.8121,      0.8121,      0.8121,      0.8121,      0.8121,      0.8121,      0.8121,      0.8121,      0.8121,      0.8121,      0.8121,     0.80892,     0.80892,     0.80892,     0.80892,     0.80777,     0.80591,     0.80487,     0.80255,\n",
              "            0.80255,     0.80255,     0.80255,     0.80241,      0.7998,     0.79299,     0.79299,     0.79299,     0.79299,     0.79299,     0.79299,     0.79299,     0.79299,     0.78981,       0.789,     0.78799,     0.78699,     0.78662,     0.78662,     0.78662,     0.78662,     0.78662,     0.78662,\n",
              "            0.78662,     0.78344,     0.78344,     0.78289,     0.77922,     0.77707,     0.77591,     0.77389,     0.77389,     0.77389,     0.77389,      0.7707,     0.76752,     0.76752,     0.76433,     0.76294,      0.7614,     0.75796,     0.75796,     0.75796,     0.75796,     0.75762,     0.75478,\n",
              "            0.75478,     0.75478,     0.75478,     0.75478,     0.75233,     0.75159,     0.74987,     0.74841,     0.74841,     0.74841,     0.74841,     0.74841,     0.74841,       0.747,     0.74522,     0.74204,     0.74204,     0.74204,     0.74204,     0.74204,     0.74202,     0.73985,     0.73885,\n",
              "            0.73567,     0.73567,     0.73567,     0.73567,     0.73567,     0.73567,     0.73567,     0.73352,     0.73248,     0.73248,     0.73248,     0.73248,     0.73248,     0.73248,     0.73248,     0.73248,     0.73248,     0.73248,     0.72916,     0.72481,     0.72293,     0.72293,     0.72168,\n",
              "            0.72023,     0.71975,     0.71824,     0.71239,     0.71019,     0.70701,     0.70529,     0.70382,     0.70382,     0.70382,     0.70382,     0.70382,     0.70382,     0.70382,     0.70064,     0.70064,     0.70064,     0.70064,     0.70064,     0.70064,     0.70064,      0.7002,     0.69955,\n",
              "             0.6989,     0.69824,     0.69759,     0.69598,     0.69412,     0.69225,     0.69108,     0.69108,     0.69108,     0.69108,     0.69009,      0.6879,      0.6879,      0.6879,      0.6879,      0.6879,      0.6879,      0.6879,      0.6879,      0.6879,      0.6879,      0.6879,      0.6879,\n",
              "             0.6879,     0.68524,       0.678,     0.67516,     0.67516,     0.67332,     0.66972,     0.66879,      0.6656,     0.66498,     0.66436,     0.66373,     0.66311,     0.66249,     0.66077,     0.65924,     0.65924,     0.65924,     0.65605,     0.65605,     0.65605,     0.65605,     0.65605,\n",
              "            0.65605,     0.65605,     0.65605,     0.65605,     0.65605,     0.65604,      0.6544,     0.65287,     0.65287,     0.65287,     0.65287,     0.65287,     0.65287,     0.65287,     0.65287,     0.65287,     0.65287,     0.65287,     0.65226,     0.65039,     0.64914,     0.64827,      0.6474,\n",
              "            0.64653,     0.64566,     0.64479,     0.64392,     0.64331,     0.64331,     0.64331,     0.64331,     0.64121,     0.63933,     0.63815,     0.63696,     0.63609,     0.63521,     0.63434,     0.63347,      0.6326,     0.63173,     0.63086,     0.62521,     0.62194,     0.62102,     0.61783,\n",
              "            0.61783,     0.61783,     0.61783,     0.61783,     0.61783,     0.61783,     0.61783,     0.61783,     0.61783,     0.61783,     0.61742,     0.61687,     0.61633,     0.61579,     0.61524,      0.6147,     0.61146,     0.61146,     0.61146,     0.61146,     0.61146,     0.61146,     0.61146,\n",
              "            0.61122,     0.61054,     0.60985,     0.60916,     0.60847,     0.60828,     0.60828,     0.60828,     0.60828,     0.60828,     0.60828,     0.60828,     0.60828,     0.60828,     0.60828,     0.60753,     0.60468,     0.60305,     0.60191,     0.60172,     0.60116,     0.60059,     0.60002,\n",
              "            0.59945,     0.59889,     0.59496,     0.59414,     0.59332,     0.59251,     0.59169,     0.59087,     0.59006,     0.58924,     0.58499,     0.58391,     0.58282,     0.58173,     0.58064,     0.57942,     0.57319,      0.5725,     0.57182,     0.57113,     0.57044,     0.57006,     0.57006,\n",
              "            0.56966,     0.56884,     0.56802,     0.56721,     0.56493,     0.56369,     0.56159,     0.56051,     0.56051,     0.56051,     0.56051,     0.55926,     0.55762,     0.55414,      0.5514,     0.55096,     0.55096,     0.55096,     0.55096,     0.54777,     0.54713,     0.54647,     0.54582,\n",
              "            0.54517,     0.54423,     0.54134,     0.54087,     0.54041,     0.53994,     0.53947,     0.53901,     0.53854,     0.53822,     0.53822,     0.53822,     0.53781,     0.53672,     0.53563,     0.53185,     0.53185,     0.53185,     0.53185,     0.53185,     0.53185,     0.53185,     0.53185,\n",
              "            0.53185,     0.53185,     0.53185,     0.53185,     0.53104,     0.52995,     0.52886,     0.52481,     0.52399,     0.52318,     0.52236,      0.5217,     0.52104,     0.52039,     0.51974,     0.51899,     0.51592,     0.51592,     0.51592,      0.5157,     0.51407,     0.51274,     0.51274,\n",
              "            0.51274,     0.51274,     0.51274,     0.51224,     0.51061,     0.50955,     0.50955,     0.50955,     0.50955,     0.50955,     0.50955,     0.50955,     0.50955,     0.50955,     0.50955,     0.50955,     0.50955,     0.50955,     0.50955,     0.50955,     0.50955,     0.50955,     0.50704,\n",
              "            0.50637,     0.50637,     0.50637,     0.50637,     0.50521,      0.5039,     0.50305,     0.50275,     0.50246,     0.50216,     0.50186,     0.50157,     0.50127,     0.50097,     0.50068,     0.50038,     0.50008,     0.49922,     0.49813,     0.49704,     0.49552,     0.49389,     0.49294,\n",
              "            0.49213,     0.49131,     0.49049,     0.48573,     0.48409,     0.48246,     0.48088,     0.48069,      0.4805,     0.48031,     0.48012,     0.47992,     0.47973,     0.47954,     0.47935,     0.47916,     0.47896,     0.47877,     0.47858,     0.47839,      0.4782,       0.478,     0.47781,\n",
              "            0.47734,     0.47652,      0.4757,     0.47489,     0.47392,     0.47283,     0.47175,     0.47088,     0.47016,     0.46943,     0.46871,     0.46796,     0.46715,     0.46633,     0.46551,     0.46466,     0.46373,     0.46279,     0.46186,     0.46079,      0.4597,     0.45861,      0.4554,\n",
              "            0.45431,     0.45322,     0.45194,      0.4489,     0.44759,     0.44629,     0.44531,     0.44449,     0.44368,     0.44286,     0.44251,      0.4423,     0.44209,     0.44188,     0.44167,     0.44146,     0.44125,     0.44104,     0.44083,     0.44062,     0.44041,      0.4402,     0.43999,\n",
              "            0.43977,     0.43956,     0.43843,      0.4368,     0.43565,     0.43472,     0.43379,     0.43219,     0.42971,     0.42899,     0.42826,     0.42754,     0.42681,     0.42375,     0.42327,     0.42296,     0.42265,     0.42234,     0.42203,     0.42172,     0.42141,      0.4211,     0.42079,\n",
              "            0.42048,     0.41997,     0.41937,     0.41878,     0.41819,     0.41759,     0.41502,     0.40945,     0.40782,      0.4057,     0.40446,     0.40446,     0.40289,     0.39808,     0.39777,     0.39746,     0.39715,     0.39684,     0.39653,     0.39622,     0.39591,      0.3956,     0.39529,\n",
              "            0.39498,     0.39364,     0.39201,     0.39151,     0.39124,     0.39098,     0.39072,     0.39046,      0.3902,     0.38994,     0.38968,     0.38942,     0.38915,     0.38889,     0.38863,     0.38816,     0.38757,     0.38698,     0.38638,     0.38579,     0.38528,     0.38499,     0.38471,\n",
              "            0.38442,     0.38414,     0.38386,     0.38357,     0.38329,     0.38301,     0.38272,     0.38244,     0.38203,     0.37896,     0.37857,     0.37819,      0.3778,     0.37742,     0.37704,     0.37665,     0.37627,     0.37588,     0.36911,      0.3687,     0.36829,     0.36789,     0.36748,\n",
              "            0.36707,     0.36666,     0.36625,     0.36235,     0.36163,      0.3609,     0.36018,     0.35637,     0.35583,     0.35528,     0.35474,      0.3542,     0.35365,     0.34953,     0.34844,     0.34735,      0.3454,     0.34322,     0.34104,     0.34052,     0.34023,     0.33995,     0.33967,\n",
              "            0.33938,      0.3391,     0.33881,     0.33853,     0.33825,     0.33796,     0.33768,     0.33226,      0.3301,     0.32847,     0.32134,     0.32004,     0.31873,     0.31815,     0.31774,     0.31733,     0.31692,     0.31651,      0.3161,      0.3157,     0.31529,     0.31457,     0.31384,\n",
              "            0.31311,     0.31239,     0.30816,     0.30505,     0.30396,     0.30287,     0.30163,     0.30033,     0.29879,     0.29661,     0.29357,     0.29232,      0.2915,     0.29069,     0.28987,     0.28616,     0.28566,     0.28516,     0.28465,     0.28415,     0.28365,     0.28306,     0.28241,\n",
              "            0.28175,      0.2811,     0.28045,     0.27796,     0.27588,     0.27425,     0.27014,     0.26941,     0.26869,     0.26796,     0.26726,     0.26661,     0.26596,     0.26531,     0.26465,     0.26111,     0.25948,     0.25781,     0.25564,     0.25399,     0.25268,     0.25144,      0.2505,\n",
              "            0.24957,     0.24864,     0.24595,     0.24438,     0.24329,      0.2422,     0.24093,     0.23962,     0.23751,     0.23531,      0.2345,     0.23368,     0.23287,     0.23179,     0.23048,     0.22581,     0.22287,     0.22237,     0.22187,     0.22136,     0.22086,     0.22036,     0.21986,\n",
              "            0.21848,     0.21685,     0.21566,     0.21457,     0.21349,     0.21044,     0.20818,     0.20641,      0.2051,     0.20059,     0.19841,     0.19563,     0.19047,     0.18273,     0.17947,     0.17407,     0.16976,     0.16331,     0.16194,     0.16129,     0.16064,     0.15999,     0.15933,\n",
              "            0.15813,     0.15682,     0.15336,     0.15186,     0.15077,     0.14968,     0.14805,     0.14646,     0.14564,     0.14483,     0.14401,     0.14312,     0.14182,     0.14051,     0.13647,     0.13429,     0.13294,     0.13185,     0.13076,     0.12787,     0.12281,     0.12118,     0.11984,\n",
              "            0.11854,     0.11683,     0.11465,     0.11248,      0.1103,     0.10805,     0.10478,     0.10175,     0.10045,    0.099143,     0.09406,    0.090938,    0.085198,    0.081934,    0.077721,    0.074686,    0.071033,    0.067284,    0.064973,       0.061,    0.057491,    0.054226,    0.053346,\n",
              "           0.052529,    0.051713,      0.0508,    0.048624,    0.046778,    0.045146,    0.037665,    0.034401,    0.028579,    0.028195,    0.027811,    0.027427,    0.027043,    0.026659,    0.026274,     0.02589,    0.025506,    0.023464,    0.021862,    0.020929,    0.019997,    0.019005,    0.016829,\n",
              "           0.012649,    0.011716,    0.010784,   0.0098511,   0.0092118,   0.0087096,   0.0082074,   0.0077052,   0.0072029,   0.0067007,   0.0063189,   0.0061705,   0.0060222,   0.0058738,   0.0057254,    0.005577,   0.0054286,   0.0052803,   0.0051319,   0.0049835,   0.0048351,   0.0046867,   0.0045383,\n",
              "            0.00439,   0.0042416,   0.0040932,   0.0039448,   0.0037964,    0.003648,   0.0034997,   0.0033513,   0.0032029,           0,           0,           0,           0,           0,           0,           0,           0,           0,           0,           0,           0,           0,           0,\n",
              "                  0,           0,           0,           0,           0,           0,           0,           0,           0,           0,           0]]), 'Confidence', 'Recall']]\n",
              "fitness: np.float64(0.516235732953511)\n",
              "keys: ['metrics/precision(B)', 'metrics/recall(B)', 'metrics/mAP50(B)', 'metrics/mAP50-95(B)']\n",
              "maps: array([    0.48266])\n",
              "names: {0: 'person'}\n",
              "nt_per_class: array([314])\n",
              "nt_per_image: array([11])\n",
              "results_dict: {'metrics/precision(B)': np.float64(0.8068942798139878), 'metrics/recall(B)': np.float64(0.7052928724903246), 'metrics/mAP50(B)': np.float64(0.8184088373173345), 'metrics/mAP50-95(B)': np.float64(0.4826609435797528), 'fitness': np.float64(0.516235732953511)}\n",
              "save_dir: PosixPath('runs/detect/train2')\n",
              "speed: {'preprocess': 0.13838118181039052, 'inference': 1.0755705454502358, 'loss': 0.0008907272682666768, 'postprocess': 2.0093303636279165}\n",
              "stats: {'tp': [], 'conf': [], 'pred_cls': [], 'target_cls': [], 'target_img': []}\n",
              "task: 'detect'"
            ]
          },
          "metadata": {},
          "execution_count": 11
        }
      ]
    },
    {
      "cell_type": "code",
      "source": [
        "# Сохранение модели после дообучения на своем датасете из RoboFlow\n",
        "!cp runs/detect/train2/weights/best.pt /content/drive/MyDrive/yolov8n_final.pt"
      ],
      "metadata": {
        "id": "SW8C6QH3OnMo"
      },
      "execution_count": null,
      "outputs": []
    },
    {
      "cell_type": "code",
      "source": [
        "# Загрузка модели (той, что дообучена на моем датасете из RoboFlow)\n",
        "\n",
        "!cp /content/drive/MyDrive/yolov8n_final.pt ./"
      ],
      "metadata": {
        "id": "-UgMO_P0Wx_N"
      },
      "execution_count": 6,
      "outputs": []
    },
    {
      "cell_type": "code",
      "source": [
        "model = YOLO(\"yolov8n_final.pt\")\n",
        "\n",
        "video_path = \"crowd.mp4\"\n",
        "cap = cv2.VideoCapture(video_path)\n",
        "\n",
        "width  = int(cap.get(cv2.CAP_PROP_FRAME_WIDTH))\n",
        "height = int(cap.get(cv2.CAP_PROP_FRAME_HEIGHT))\n",
        "fps    = cap.get(cv2.CAP_PROP_FPS)\n",
        "\n",
        "fourcc = cv2.VideoWriter_fourcc(*'mp4v')\n",
        "out = cv2.VideoWriter(\"crowd_annotated.mp4\", fourcc, fps, (width, height))\n",
        "\n",
        "frame_count = 0\n",
        "\n",
        "while True:\n",
        "    ret, frame = cap.read()\n",
        "    if not ret:\n",
        "        break\n",
        "\n",
        "    # Предсказание на кадр\n",
        "    results = model.predict(frame, conf=0.3, iou=0.5, imgsz=640, verbose=False)[0]\n",
        "\n",
        "    for box in results.boxes:\n",
        "        cls_id = int(box.cls[0])\n",
        "        if model.names[cls_id] == 'person':\n",
        "            x1, y1, x2, y2 = map(int, box.xyxy[0])\n",
        "            conf = float(box.conf[0])\n",
        "\n",
        "            color = (0, 255, 255)\n",
        "            thickness = 1  # Толщина рамки\n",
        "\n",
        "            cv2.rectangle(frame, (x1, y1), (x2, y2), color, thickness)\n",
        "\n",
        "            label = f\"person {conf:.2f}\"\n",
        "            font_scale = 0.55  # Размер шрифта\n",
        "            font_thickness = 1\n",
        "\n",
        "            cv2.putText(\n",
        "                frame,\n",
        "                label,\n",
        "                (x1, y1 - 5),\n",
        "                cv2.FONT_HERSHEY_SIMPLEX,\n",
        "                font_scale,\n",
        "                color,\n",
        "                font_thickness\n",
        "            )\n",
        "\n",
        "    out.write(frame)\n",
        "    frame_count += 1\n",
        "\n",
        "cap.release()\n",
        "out.release()\n",
        "print(f\"Сохранено видео: crowd_annotated.mp4\")"
      ],
      "metadata": {
        "colab": {
          "base_uri": "https://localhost:8080/"
        },
        "id": "M6lnlBdPWTrR",
        "outputId": "e68f010d-e887-4b0a-f79f-353c5f73a9cd"
      },
      "execution_count": 19,
      "outputs": [
        {
          "output_type": "stream",
          "name": "stdout",
          "text": [
            "Сохранено видео: crowd_annotated.mp4\n"
          ]
        }
      ]
    }
  ]
}